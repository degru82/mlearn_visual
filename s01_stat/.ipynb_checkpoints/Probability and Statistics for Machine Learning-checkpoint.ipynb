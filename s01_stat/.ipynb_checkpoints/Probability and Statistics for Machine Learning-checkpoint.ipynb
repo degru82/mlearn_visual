{
 "cells": [
  {
   "cell_type": "markdown",
   "metadata": {},
   "source": [
    "# Stay Focused: DOs and DON'Ts\n",
    "\n",
    "* 우리가 하려는 것은 확률통계학이 아니라 머신러닝이다\n",
    "  * DON'T: 수학공식/증명은 학습의 대상이 아니다\n",
    "  * DO: 특정 확률통계적 개념이 무엇이고 언제 사용하는지가 관심사다\n",
    "* 또한 우리가 하려는 것은 Python을 사용한 머신러닝이다\n",
    "  * DON'T: 확률통계적 개념을 이해했다고 끝이 아니다.\n",
    "  * DO: 해당 개념이 Python 라이브러리 상 어떤 함수 호출에 의해 확인 가능한지 알아보아야 한다."
   ]
  },
  {
   "cell_type": "markdown",
   "metadata": {},
   "source": [
    "# Overview of Big Data Analysis\n",
    "\n",
    "## 인공지능에서의 확률론적 모델링\n",
    "\n",
    "* 기계 학습의 대표적인 활용분야는 특정한 입력 값을 보고 결과를 예측하는 시스템이다.\n",
    "  * ex. 특정 사진 보고 고양이 여부, 특정 기후조건 보고 날씨 예측\n",
    "* 이 때 예측시스템의 학습을 위해 우리는 수집한 데이터를 가지고 학습을 진행하는데,\n",
    "  * 광범위한 전체자료(모집단)의 극히 작은 일부분의 데이터(샘플)를 다루며,\n",
    "  * 주어진 샘플의 특성을 바탕으로 효과적으로 모집단의 특성을 추측해야 하고\n",
    "  * 샘플의 어떤 특징이 예측에 효과적인 변수인지 확인하는 것 추려내는 일련의 작업을 필요로 한다.\n",
    "* 이런 과정은 확률통계학에서 여태까지 해오던 과정으로, 확률통계적 접근이 효과적이다."
   ]
  },
  {
   "cell_type": "markdown",
   "metadata": {},
   "source": [
    "## 인공지능, 빅데이터, 기계학습, 딥러닝 관계는?\n",
    "\n",
    "![](/notebooks/s01_stat/figures/AI_BigData_ML_DeepLearning.png)"
   ]
  },
  {
   "cell_type": "markdown",
   "metadata": {},
   "source": [
    "## Python Library Stack\n",
    "\n",
    "![파이썬 라이브러리 스택](/notebooks/s01_stat/figures/py_lib_stack.png)\n",
    "\n",
    "* Core: Python의 기본 모듈\n",
    "* NumPy: 숫자의 배열처리에 특화된 라이브러리\n",
    "* SciPy: 역행렬 등 학문적인 알고리즘을 구현\n",
    "* Scikit-Learn: 기계학습에 특화된 라이브러리(다양한 학습모델을 제공: 선형회귀~딥러닝)\n",
    "\n",
    "> SciPy + Scikit-Learn의 단점: \n",
    "> GPU 지원등이 없어서 대규모 플랫폼으로는 적합하지 않다\n",
    "\n",
    "* TensorFlow: 위의 SciPy + Scikit-Learn 조합의 단점을 해결하기 위해 등장\n",
    "** 참고로, 1차원 array는 vector, 2차원 array는 matrix, 3차원 array는 tensor\n",
    "** 주로 인공지능에서 3차원 array를 단계별로 진행시켜나가기 때문에 TensorFlow라는 이름도 여기서 착안\n",
    "\n",
    "> NumPy의 한계: \n",
    "> 처리해야할 데이터에는 수로 표시되는 연속형 데이터도 있지만, \n",
    "> 서울/경기/인천 등과 같이 범주형(Category) 데이터도 존재하는데, \n",
    "> 이런 데이터에 대한 처리가 약하다.\n",
    "\n",
    "* Pandas: R에서 DataFrame의 개념을 차용하여 구현하면서 범주형 자료도 처리 가능\n",
    "\n",
    "> Scikit-Learn의 한계:\n",
    "> 회귀분석에 있어 R과 같은 폭 넓은 분석이 불가능하다\n",
    "> 대표적으로 p-value 같은 중요한 값을 제공하지 않는다\n",
    "\n",
    "* StatsModel: 보다 다각적인 분석을 제공하는 라이브러리 모듈"
   ]
  },
  {
   "cell_type": "code",
   "execution_count": 6,
   "metadata": {},
   "outputs": [
    {
     "name": "stdout",
     "output_type": "stream",
     "text": [
      "2.5\n",
      "1.25\n",
      "[1, 2, 3, 4, 1, 2, 3, 4]\n",
      "[2 4 6 8]\n",
      "[ 4  8 12 16]\n"
     ]
    }
   ],
   "source": [
    "# numpy의 사용법\n",
    "\n",
    "import numpy as np\n",
    "a = [1, 2, 3, 4]\n",
    "b = np.array([1, 2, 3, 4])\n",
    "\n",
    "# 유용한 method들\n",
    "print('MEAN', b.mean())\n",
    "print('VAR', b.var())\n",
    "\n",
    "# 일반 파이썬과는 다른 연산규칙\n",
    "print('----OPERATION----')\n",
    "a = a + a\n",
    "print(a)\n",
    "b = b + b\n",
    "print(b)\n",
    "\n",
    "b = b * 2\n",
    "print(b)"
   ]
  },
  {
   "cell_type": "code",
   "execution_count": 5,
   "metadata": {},
   "outputs": [
    {
     "name": "stdout",
     "output_type": "stream",
     "text": [
      "----ARANGE----\n",
      "[0 1 2 3 4 5 6 7 8 9]\n",
      "[1 3 5 7 9]\n",
      "----LINSPACE----\n",
      "[0.  0.1 0.2 0.3 0.4 0.5 0.6 0.7 0.8 0.9 1. ]\n",
      "----ONES----\n",
      "[2. 2. 2. 2. 2.]\n"
     ]
    }
   ],
   "source": [
    "# numpy의 유용한 함수들\n",
    "\n",
    "print('----ARANGE----')\n",
    "print(np.arange(10))\n",
    "print(np.arange(1,10,2))\n",
    "\n",
    "print('----LINSPACE----')\n",
    "print(np.linspace(0,1,11))\n",
    "\n",
    "print('----ONES----')\n",
    "print(np.ones(5)*2)\n",
    "\n"
   ]
  },
  {
   "cell_type": "markdown",
   "metadata": {},
   "source": [
    "# 확률\n",
    "\n",
    "모집단을 가상의 인원그룹으로 가정하자.\n",
    "이 때, 모집단 인원들의 키와 성별을 특성으로 알 수 있다고 가정하자.\n",
    "그렇다면 모집단의 키는 연속형 데이터이고 성별은 범주형 자료가 된다.\n",
    "\n",
    "이 때, 모집단에서 임의로 사람을 선택(샘플)한다고 할 때,\n",
    "뽑힌 사람의 키와 성별은 어떤 모습으로 나타날까?\n",
    "\n",
    "모집단의 연속형 데이터 분포에 따라 샘플의 값을 확률적으로 추정해보는 함수를 확률밀도함수(PDF)라 하고,\n",
    "모집단의 범주형 데이터 분포에 따라 샘플의 값을 확률적으로 추정해보는 함수를 확률질량함수(PMF)라 한다.\n",
    "\n",
    "우리가 많이 들어본 정규분포라는 것은 확률밀도함수의 특별한 예이다.\n",
    "\n",
    "---\n",
    "우리가 모집단의 모든 구성에 대해서 알고 있을 때,\n",
    "임의추출로 뽑힌 개별 샘플의 데이터 값을 확률적으로 추측해보는 것이 확률이라면,\n",
    "\n",
    "임의추출로 뽑힌 관측 자료를 바탕으로,\n",
    "모집단의 구성을 추측해보는 것이 바로 통계적 접근이다."
   ]
  },
  {
   "cell_type": "markdown",
   "metadata": {},
   "source": [
    "## 확률 (Probability)\n",
    " \n",
    "## 기대값 (Expectation)\n",
    "\n",
    "## 분산 (Variance)\n",
    "\n",
    "## 정규분포 (Normal Distribution)\n",
    "\n",
    "## 공분산 (Covariance)\n",
    "\n",
    "## 조건부 확률 (Conditional Probability)\n",
    "\n",
    "## 독립 (Independence)\n",
    "\n"
   ]
  },
  {
   "cell_type": "markdown",
   "metadata": {},
   "source": [
    "# 통계\n",
    "\n"
   ]
  }
 ],
 "metadata": {
  "kernelspec": {
   "display_name": "Python 3",
   "language": "python",
   "name": "python3"
  },
  "language_info": {
   "codemirror_mode": {
    "name": "ipython",
    "version": 3
   },
   "file_extension": ".py",
   "mimetype": "text/x-python",
   "name": "python",
   "nbconvert_exporter": "python",
   "pygments_lexer": "ipython3",
   "version": "3.6.5"
  }
 },
 "nbformat": 4,
 "nbformat_minor": 2
}
