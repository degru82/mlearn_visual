{
 "cells": [
  {
   "cell_type": "markdown",
   "metadata": {},
   "source": [
    "# Stay Focused: DOs and DON'Ts\n",
    "\n",
    "* 우리가 하려는 것은 확률통계학이 아니라 머신러닝이다\n",
    "  * DON'T: 수학공식/증명은 학습의 대상이 아니다\n",
    "  * DO: 특정 확률통계적 개념이 무엇이고 언제 사용하는지가 관심사다\n",
    "* 또한 우리가 하려는 것은 Python을 사용한 머신러닝이다\n",
    "  * DON'T: 확률통계적 개념을 이해했다고 끝이 아니다.\n",
    "  * DO: 해당 개념이 Python 라이브러리 상 어떤 함수 호출에 의해 확인 가능한지 알아보아야 한다."
   ]
  },
  {
   "cell_type": "markdown",
   "metadata": {},
   "source": [
    "# Overview of Big Data Analysis\n",
    "\n",
    "## 인공지능에서의 확률통계론적 모델링\n",
    "\n",
    "* 기계 학습의 대표적인 활용분야는 특정한 입력 값을 보고 결과를 예측하는 시스템이다.\n",
    "  * ex. 특정 사진 보고 고양이 여부, 특정 기후조건 보고 날씨 예측\n",
    "* 이 때 예측시스템의 학습을 위해 우리는 수집한 데이터를 가지고 학습을 진행하는데,\n",
    "  * 광범위한 전체자료(모집단)의 극히 작은 일부분의 데이터(샘플)를 다루며,\n",
    "  * 주어진 샘플의 특성을 바탕으로 효과적으로 모집단의 특성을 추측해야 하고\n",
    "  * 샘플의 어떤 특징이 예측에 효과적인 변수인지 확인하는 것 추려내는 일련의 작업을 필요로 한다.\n",
    "* 이런 과정은 확률통계학에서 여태까지 해오던 과정으로, 확률통계적 접근이 효과적이다."
   ]
  },
  {
   "cell_type": "markdown",
   "metadata": {},
   "source": [
    "## 인공지능, 빅데이터, 기계학습, 딥러닝 관계는?\n",
    "\n",
    "![](/notebooks/s01_stat/figures/AI_BigData_ML_DeepLearning.png)"
   ]
  },
  {
   "cell_type": "markdown",
   "metadata": {},
   "source": [
    "## Python Library Stack\n",
    "\n",
    "![파이썬 라이브러리 스택](/notebooks/s01_stat/figures/py_lib_stack.png)\n",
    "\n",
    "* Core: Python의 기본 모듈\n",
    "* NumPy: 숫자의 배열처리에 특화된 라이브러리\n",
    "* SciPy: 역행렬 등 학문적인 알고리즘을 구현\n",
    "* Scikit-Learn: 기계학습에 특화된 라이브러리(다양한 학습모델을 제공: 선형회귀~딥러닝)\n",
    "\n",
    "> SciPy + Scikit-Learn의 단점: \n",
    "> GPU 지원등이 없어서 대규모 플랫폼으로는 적합하지 않다\n",
    "\n",
    "* TensorFlow: 위의 SciPy + Scikit-Learn 조합의 단점을 해결하기 위해 등장\n",
    "** 참고로, 1차원 array는 vector, 2차원 array는 matrix, 3차원 array는 tensor\n",
    "** 주로 인공지능에서 3차원 array를 단계별로 진행시켜나가기 때문에 TensorFlow라는 이름도 여기서 착안\n",
    "\n",
    "> NumPy의 한계: \n",
    "> 처리해야할 데이터에는 수로 표시되는 연속형 데이터도 있지만, \n",
    "> 서울/경기/인천 등과 같이 범주형(Category) 데이터도 존재하는데, \n",
    "> 이런 데이터에 대한 처리가 약하다.\n",
    "\n",
    "* Pandas: R에서 DataFrame의 개념을 차용하여 구현하면서 범주형 자료도 처리 가능\n",
    "\n",
    "> Scikit-Learn의 한계:\n",
    "> 회귀분석에 있어 R과 같은 폭 넓은 분석이 불가능하다\n",
    "> 대표적으로 p-value 같은 중요한 값을 제공하지 않는다\n",
    "\n",
    "* StatsModel: 보다 다각적인 분석을 제공하는 라이브러리 모듈"
   ]
  },
  {
   "cell_type": "markdown",
   "metadata": {},
   "source": [
    "# 먼저 NumPy를 알아보자"
   ]
  },
  {
   "cell_type": "code",
   "execution_count": 1,
   "metadata": {},
   "outputs": [
    {
     "name": "stdout",
     "output_type": "stream",
     "text": [
      "MEAN 2.5\n",
      "VAR 1.25\n",
      "----OPERATION----\n",
      "[1, 2, 3, 4, 1, 2, 3, 4]\n",
      "[2 4 6 8]\n",
      "[ 4  8 12 16]\n"
     ]
    }
   ],
   "source": [
    "# numpy의 사용법\n",
    "\n",
    "import numpy as np\n",
    "a = [1, 2, 3, 4]\n",
    "b = np.array([1, 2, 3, 4])\n",
    "\n",
    "# 유용한 method들\n",
    "print('MEAN', b.mean())\n",
    "print('VAR', b.var())\n",
    "\n",
    "# 일반 파이썬과는 다른 연산규칙\n",
    "print('----OPERATION----')\n",
    "a = a + a\n",
    "print(a)\n",
    "b = b + b\n",
    "print(b)\n",
    "\n",
    "b = b * 2\n",
    "print(b)"
   ]
  },
  {
   "cell_type": "code",
   "execution_count": 2,
   "metadata": {},
   "outputs": [
    {
     "name": "stdout",
     "output_type": "stream",
     "text": [
      "0\n",
      "2\n",
      "4\n",
      "6\n",
      "8\n",
      "----ARANGE----\n",
      "[0 1 2 3 4 5 6 7 8 9]\n",
      "[1 3 5 7 9]\n",
      "----LINSPACE----\n",
      "[0.  0.1 0.2 0.3 0.4 0.5 0.6 0.7 0.8 0.9 1. ]\n",
      "----ONES----\n",
      "[2. 2. 2. 2. 2.]\n",
      "----RANDOM----\n",
      "[0.69647835 0.5257462  0.83617393 0.19275363 0.5576813  0.90816882\n",
      " 0.1422597  0.97419265 0.16937297 0.27808323]\n",
      "[-0.71692261  1.65329195  1.74472156 -0.20410906  0.62472243 -0.45876237\n",
      "  1.5066035   0.43040514  0.5748709   0.04142762]\n",
      "None\n",
      "[4.17022005e-01 7.20324493e-01 1.14374817e-04 3.02332573e-01\n",
      " 1.46755891e-01 9.23385948e-02 1.86260211e-01 3.45560727e-01\n",
      " 3.96767474e-01 5.38816734e-01]\n",
      "[0.41919451 0.6852195  0.20445225 0.87811744 0.02738759 0.67046751\n",
      " 0.4173048  0.55868983 0.14038694 0.19810149]\n",
      "None\n",
      "[4.17022005e-01 7.20324493e-01 1.14374817e-04 3.02332573e-01\n",
      " 1.46755891e-01 9.23385948e-02 1.86260211e-01 3.45560727e-01\n",
      " 3.96767474e-01 5.38816734e-01]\n"
     ]
    }
   ],
   "source": [
    "# numpy의 유용한 함수들\n",
    "\n",
    "\n",
    "for n in range(0, 10, 2):\n",
    "    print(n)\n",
    "    \n",
    "print('----ARANGE----')\n",
    "print(np.arange(10))\n",
    "print(np.arange(1,10,2))\n",
    "\n",
    "print('----LINSPACE----')\n",
    "print(np.linspace(0,1,11))\n",
    "\n",
    "print('----ONES----')\n",
    "print(np.ones(5)*2)\n",
    "\n",
    "print('----RANDOM----')\n",
    "print(np.random.rand(10))    # 균등분포에서 난수 생성\n",
    "print(np.random.randn(10))   # 표준정규분포에서 난수 생성\n",
    "\n",
    "print(np.random.seed(1))\n",
    "print(np.random.rand(10))\n",
    "print(np.random.rand(10))\n",
    "\n",
    "print(np.random.seed(1))\n",
    "print(np.random.rand(10))\n",
    "\n"
   ]
  },
  {
   "cell_type": "code",
   "execution_count": 3,
   "metadata": {},
   "outputs": [
    {
     "name": "stdout",
     "output_type": "stream",
     "text": [
      "[1.83838903 2.370439   1.4089045  2.75623487 1.05477519 2.34093502\n",
      " 1.8346096  2.11737966 1.28077388 1.39620298 2.60148914 2.93652315\n",
      " 1.62684836 2.38464523 2.7527783  2.78921333 1.17008842 1.07810957\n",
      " 1.33966084 2.75628501 1.19669367 1.84221525 2.91577906 2.06633057\n",
      " 2.38375423 1.63103126 2.37300186 2.66925134 1.03657655 2.50028863\n",
      " 2.97772218 2.49633131 1.56088798 2.57855866 1.20645201 1.89578705\n",
      " 2.81719101 1.5872283  1.57555068 1.26005714 1.03873392 2.35767107\n",
      " 1.42325623 1.53109332 1.98314632 1.10672509 2.14823521 1.29345715\n",
      " 2.17861107 2.39951672 1.20466886 1.82811198 2.38880032 1.82835854\n",
      " 1.09990692 2.07179281 2.32758929 2.02977822 2.88918951 2.17311008\n",
      " 2.80680383 1.27494941 1.27855269 2.61478258 1.79535367 1.33070839\n",
      " 2.85501716 1.69553172 2.50162421 2.45199597 2.76661218 2.24734441\n",
      " 2.50188487 1.69779668 1.53985578 2.79177244 1.85618238 2.92968009\n",
      " 2.326883   2.24339144 1.22949195 2.89897852 1.89982427 2.15677923\n",
      " 1.81627361 1.47405396 2.80675904 2.14735897 1.00574065 2.23428983\n",
      " 1.6532898  2.0541162  2.7718842  1.71453952 2.8170703  2.24672023\n",
      " 1.03164249 2.85887447 2.38179384 2.9946457 ]\n",
      "2.0340757611358655\n"
     ]
    }
   ],
   "source": [
    "# 문 1. 1과 3 사이에서 균등분포로 난수 100개를 생성하시오.\n",
    "# 그리고 이들의 평균이 얼마인지 구하시오\n",
    "\n",
    "btwn_1and3 = np.random.rand(100) * 2 + 1\n",
    "print(btwn_1and3)\n",
    "print(btwn_1and3.mean())"
   ]
  },
  {
   "cell_type": "code",
   "execution_count": 4,
   "metadata": {},
   "outputs": [
    {
     "name": "stdout",
     "output_type": "stream",
     "text": [
      "COUNT1/46, COUNT2/46, COUNT3/46\n"
     ]
    }
   ],
   "source": [
    "# 문 2. 위의 난수 중에서 2보다 작은 것은 모두 몇 개인지 세어보시오\n",
    "\n",
    "count1 = len([b for b in btwn_1and3 if b < 2])\n",
    "\n",
    "count2 = (btwn_1and3<2).sum()\n",
    "\n",
    "count3 = 0\n",
    "for r in btwn_1and3:\n",
    "    if r < 2:\n",
    "        count3 += 1\n",
    "        \n",
    "print(f'COUNT1/{count1}, COUNT2/{count2}, COUNT3/{count3}')"
   ]
  },
  {
   "cell_type": "markdown",
   "metadata": {},
   "source": [
    "# 이번에는 Pandas를 알아보자"
   ]
  },
  {
   "cell_type": "code",
   "execution_count": 5,
   "metadata": {},
   "outputs": [
    {
     "name": "stdout",
     "output_type": "stream",
     "text": [
      "D:\\Wooks\\Documents\\aichlng\\s01_stat\n",
      "<class 'pandas.core.frame.DataFrame'>\n",
      "(150, 5)\n"
     ]
    },
    {
     "data": {
      "text/html": [
       "<div>\n",
       "<style scoped>\n",
       "    .dataframe tbody tr th:only-of-type {\n",
       "        vertical-align: middle;\n",
       "    }\n",
       "\n",
       "    .dataframe tbody tr th {\n",
       "        vertical-align: top;\n",
       "    }\n",
       "\n",
       "    .dataframe thead th {\n",
       "        text-align: right;\n",
       "    }\n",
       "</style>\n",
       "<table border=\"1\" class=\"dataframe\">\n",
       "  <thead>\n",
       "    <tr style=\"text-align: right;\">\n",
       "      <th></th>\n",
       "      <th>Sepal.Length</th>\n",
       "      <th>Sepal.Width</th>\n",
       "      <th>Petal.Length</th>\n",
       "      <th>Petal.Width</th>\n",
       "      <th>Species</th>\n",
       "    </tr>\n",
       "  </thead>\n",
       "  <tbody>\n",
       "    <tr>\n",
       "      <th>0</th>\n",
       "      <td>5.1</td>\n",
       "      <td>3.5</td>\n",
       "      <td>1.4</td>\n",
       "      <td>0.2</td>\n",
       "      <td>setosa</td>\n",
       "    </tr>\n",
       "    <tr>\n",
       "      <th>1</th>\n",
       "      <td>4.9</td>\n",
       "      <td>3.0</td>\n",
       "      <td>1.4</td>\n",
       "      <td>0.2</td>\n",
       "      <td>setosa</td>\n",
       "    </tr>\n",
       "    <tr>\n",
       "      <th>2</th>\n",
       "      <td>4.7</td>\n",
       "      <td>3.2</td>\n",
       "      <td>1.3</td>\n",
       "      <td>0.2</td>\n",
       "      <td>setosa</td>\n",
       "    </tr>\n",
       "    <tr>\n",
       "      <th>3</th>\n",
       "      <td>4.6</td>\n",
       "      <td>3.1</td>\n",
       "      <td>1.5</td>\n",
       "      <td>0.2</td>\n",
       "      <td>setosa</td>\n",
       "    </tr>\n",
       "    <tr>\n",
       "      <th>4</th>\n",
       "      <td>5.0</td>\n",
       "      <td>3.6</td>\n",
       "      <td>1.4</td>\n",
       "      <td>0.2</td>\n",
       "      <td>setosa</td>\n",
       "    </tr>\n",
       "    <tr>\n",
       "      <th>5</th>\n",
       "      <td>5.4</td>\n",
       "      <td>3.9</td>\n",
       "      <td>1.7</td>\n",
       "      <td>0.4</td>\n",
       "      <td>setosa</td>\n",
       "    </tr>\n",
       "    <tr>\n",
       "      <th>6</th>\n",
       "      <td>4.6</td>\n",
       "      <td>3.4</td>\n",
       "      <td>1.4</td>\n",
       "      <td>0.3</td>\n",
       "      <td>setosa</td>\n",
       "    </tr>\n",
       "    <tr>\n",
       "      <th>7</th>\n",
       "      <td>5.0</td>\n",
       "      <td>3.4</td>\n",
       "      <td>1.5</td>\n",
       "      <td>0.2</td>\n",
       "      <td>setosa</td>\n",
       "    </tr>\n",
       "    <tr>\n",
       "      <th>8</th>\n",
       "      <td>4.4</td>\n",
       "      <td>2.9</td>\n",
       "      <td>1.4</td>\n",
       "      <td>0.2</td>\n",
       "      <td>setosa</td>\n",
       "    </tr>\n",
       "    <tr>\n",
       "      <th>9</th>\n",
       "      <td>4.9</td>\n",
       "      <td>3.1</td>\n",
       "      <td>1.5</td>\n",
       "      <td>0.1</td>\n",
       "      <td>setosa</td>\n",
       "    </tr>\n",
       "  </tbody>\n",
       "</table>\n",
       "</div>"
      ],
      "text/plain": [
       "   Sepal.Length  Sepal.Width  Petal.Length  Petal.Width Species\n",
       "0           5.1          3.5           1.4          0.2  setosa\n",
       "1           4.9          3.0           1.4          0.2  setosa\n",
       "2           4.7          3.2           1.3          0.2  setosa\n",
       "3           4.6          3.1           1.5          0.2  setosa\n",
       "4           5.0          3.6           1.4          0.2  setosa\n",
       "5           5.4          3.9           1.7          0.4  setosa\n",
       "6           4.6          3.4           1.4          0.3  setosa\n",
       "7           5.0          3.4           1.5          0.2  setosa\n",
       "8           4.4          2.9           1.4          0.2  setosa\n",
       "9           4.9          3.1           1.5          0.1  setosa"
      ]
     },
     "execution_count": 5,
     "metadata": {},
     "output_type": "execute_result"
    }
   ],
   "source": [
    "import numpy as np\n",
    "import scipy as sp\n",
    "import pandas as pd\n",
    "\n",
    "import os\n",
    "print(os.getcwd())  # get current working directory\n",
    "\n",
    "data = pd.read_csv('./scripts_used/data01_iris.csv')\n",
    "\n",
    "print(type(data))\n",
    "print(data.shape)\n",
    "data.head(10)"
   ]
  },
  {
   "cell_type": "code",
   "execution_count": 6,
   "metadata": {},
   "outputs": [
    {
     "data": {
      "text/plain": [
       "array([[<matplotlib.axes._subplots.AxesSubplot object at 0x0A5ED370>,\n",
       "        <matplotlib.axes._subplots.AxesSubplot object at 0x0A628D30>],\n",
       "       [<matplotlib.axes._subplots.AxesSubplot object at 0x0B655C70>,\n",
       "        <matplotlib.axes._subplots.AxesSubplot object at 0x0B670D50>]],\n",
       "      dtype=object)"
      ]
     },
     "execution_count": 6,
     "metadata": {},
     "output_type": "execute_result"
    }
   ],
   "source": [
    "data.hist()"
   ]
  },
  {
   "cell_type": "code",
   "execution_count": 7,
   "metadata": {},
   "outputs": [
    {
     "data": {
      "text/html": [
       "<div>\n",
       "<style scoped>\n",
       "    .dataframe tbody tr th:only-of-type {\n",
       "        vertical-align: middle;\n",
       "    }\n",
       "\n",
       "    .dataframe tbody tr th {\n",
       "        vertical-align: top;\n",
       "    }\n",
       "\n",
       "    .dataframe thead th {\n",
       "        text-align: right;\n",
       "    }\n",
       "</style>\n",
       "<table border=\"1\" class=\"dataframe\">\n",
       "  <thead>\n",
       "    <tr style=\"text-align: right;\">\n",
       "      <th></th>\n",
       "      <th>Sepal.Length</th>\n",
       "      <th>Sepal.Width</th>\n",
       "      <th>Petal.Length</th>\n",
       "      <th>Petal.Width</th>\n",
       "    </tr>\n",
       "  </thead>\n",
       "  <tbody>\n",
       "    <tr>\n",
       "      <th>count</th>\n",
       "      <td>150.000000</td>\n",
       "      <td>150.000000</td>\n",
       "      <td>150.000000</td>\n",
       "      <td>150.000000</td>\n",
       "    </tr>\n",
       "    <tr>\n",
       "      <th>mean</th>\n",
       "      <td>5.843333</td>\n",
       "      <td>3.057333</td>\n",
       "      <td>3.758000</td>\n",
       "      <td>1.199333</td>\n",
       "    </tr>\n",
       "    <tr>\n",
       "      <th>std</th>\n",
       "      <td>0.828066</td>\n",
       "      <td>0.435866</td>\n",
       "      <td>1.765298</td>\n",
       "      <td>0.762238</td>\n",
       "    </tr>\n",
       "    <tr>\n",
       "      <th>min</th>\n",
       "      <td>4.300000</td>\n",
       "      <td>2.000000</td>\n",
       "      <td>1.000000</td>\n",
       "      <td>0.100000</td>\n",
       "    </tr>\n",
       "    <tr>\n",
       "      <th>25%</th>\n",
       "      <td>5.100000</td>\n",
       "      <td>2.800000</td>\n",
       "      <td>1.600000</td>\n",
       "      <td>0.300000</td>\n",
       "    </tr>\n",
       "    <tr>\n",
       "      <th>50%</th>\n",
       "      <td>5.800000</td>\n",
       "      <td>3.000000</td>\n",
       "      <td>4.350000</td>\n",
       "      <td>1.300000</td>\n",
       "    </tr>\n",
       "    <tr>\n",
       "      <th>75%</th>\n",
       "      <td>6.400000</td>\n",
       "      <td>3.300000</td>\n",
       "      <td>5.100000</td>\n",
       "      <td>1.800000</td>\n",
       "    </tr>\n",
       "    <tr>\n",
       "      <th>max</th>\n",
       "      <td>7.900000</td>\n",
       "      <td>4.400000</td>\n",
       "      <td>6.900000</td>\n",
       "      <td>2.500000</td>\n",
       "    </tr>\n",
       "  </tbody>\n",
       "</table>\n",
       "</div>"
      ],
      "text/plain": [
       "       Sepal.Length  Sepal.Width  Petal.Length  Petal.Width\n",
       "count    150.000000   150.000000    150.000000   150.000000\n",
       "mean       5.843333     3.057333      3.758000     1.199333\n",
       "std        0.828066     0.435866      1.765298     0.762238\n",
       "min        4.300000     2.000000      1.000000     0.100000\n",
       "25%        5.100000     2.800000      1.600000     0.300000\n",
       "50%        5.800000     3.000000      4.350000     1.300000\n",
       "75%        6.400000     3.300000      5.100000     1.800000\n",
       "max        7.900000     4.400000      6.900000     2.500000"
      ]
     },
     "execution_count": 7,
     "metadata": {},
     "output_type": "execute_result"
    }
   ],
   "source": [
    "data.describe()"
   ]
  },
  {
   "cell_type": "code",
   "execution_count": 8,
   "metadata": {},
   "outputs": [
    {
     "data": {
      "text/plain": [
       "<matplotlib.axes._subplots.AxesSubplot at 0xc837fb0>"
      ]
     },
     "execution_count": 8,
     "metadata": {},
     "output_type": "execute_result"
    },
    {
     "data": {
      "image/png": "[encoded data removed]",
      "text/plain": [
       "<Figure size 432x288 with 1 Axes>"
      ]
     },
     "metadata": {
      "needs_background": "light"
     },
     "output_type": "display_data"
    }
   ],
   "source": [
    "data.plot()"
   ]
  },
  {
   "cell_type": "code",
   "execution_count": 9,
   "metadata": {},
   "outputs": [
    {
     "data": {
      "text/plain": [
       "<matplotlib.axes._subplots.AxesSubplot at 0xc8a42d0>"
      ]
     },
     "execution_count": 9,
     "metadata": {},
     "output_type": "execute_result"
    },
    {
     "data": {
      "image/png": "[encoded data removed]",
      "text/plain": [
       "<Figure size 432x288 with 1 Axes>"
      ]
     },
     "metadata": {
      "needs_background": "light"
     },
     "output_type": "display_data"
    }
   ],
   "source": [
    "data.boxplot()"
   ]
  },
  {
   "cell_type": "code",
   "execution_count": 10,
   "metadata": {},
   "outputs": [
    {
     "name": "stdout",
     "output_type": "stream",
     "text": [
      "<class 'pandas.core.series.Series'>\n",
      "\n",
      "\n",
      "  SHAPE / (150,)\n",
      "  MEAN / 5.843333333333334\n",
      "  MEDIAN / 5.8\n",
      "  VAR / 0.6856935123042507\n",
      "\n",
      "\n"
     ]
    }
   ],
   "source": [
    "# 변수의 추출\n",
    "\n",
    "v = data['Sepal.Length']\n",
    "print(type(v))\n",
    "print(f'''\n",
    "\n",
    "  SHAPE / {v.shape}\n",
    "  MEAN / {v.mean()}\n",
    "  MEDIAN / {v.median()}\n",
    "  VAR / {v.var()}\n",
    "\n",
    "''')"
   ]
  },
  {
   "cell_type": "code",
   "execution_count": 11,
   "metadata": {},
   "outputs": [
    {
     "name": "stdout",
     "output_type": "stream",
     "text": [
      "\n",
      "  INDEX / <class 'pandas.core.series.Series'>\n",
      "          0      False\n",
      "1      False\n",
      "2      False\n",
      "3      False\n",
      "4      False\n",
      "5      False\n",
      "6      False\n",
      "7      False\n",
      "8      False\n",
      "9      False\n",
      "10     False\n",
      "11     False\n",
      "12     False\n",
      "13     False\n",
      "14     False\n",
      "15     False\n",
      "16     False\n",
      "17     False\n",
      "18     False\n",
      "19     False\n",
      "20     False\n",
      "21     False\n",
      "22     False\n",
      "23     False\n",
      "24     False\n",
      "25     False\n",
      "26     False\n",
      "27     False\n",
      "28     False\n",
      "29     False\n",
      "       ...  \n",
      "120     True\n",
      "121    False\n",
      "122     True\n",
      "123     True\n",
      "124     True\n",
      "125     True\n",
      "126     True\n",
      "127     True\n",
      "128     True\n",
      "129     True\n",
      "130     True\n",
      "131     True\n",
      "132     True\n",
      "133     True\n",
      "134     True\n",
      "135     True\n",
      "136     True\n",
      "137     True\n",
      "138     True\n",
      "139     True\n",
      "140     True\n",
      "141     True\n",
      "142    False\n",
      "143     True\n",
      "144     True\n",
      "145     True\n",
      "146     True\n",
      "147     True\n",
      "148     True\n",
      "149     True\n",
      "Name: Sepal.Length, Length: 150, dtype: bool\n",
      "  TYPE / <class 'pandas.core.frame.DataFrame'>\n",
      "  SHAPE / (70, 5)\n",
      "\n",
      "(70, 5)\n"
     ]
    }
   ],
   "source": [
    "# 샘플들의 추출\n",
    "\n",
    "idx = data['Sepal.Length'] > 5.8\n",
    "d = data[idx]\n",
    "\n",
    "print(f'''\n",
    "  INDEX / {type(idx)}\n",
    "          {idx}\n",
    "  TYPE / {type(d)}\n",
    "  SHAPE / {d.shape}\n",
    "''')\n",
    "\n",
    "print(data[ data['Sepal.Length'] > 5.8 ].shape)\n",
    "\n",
    "idx = (data['Sepal.Length'] > 5.8) & (data['Species'] == 'versicolor')\n",
    "#idx2 = (data['Sepal.Length'] > 5.8) and (data['Species'] == 'versicolor')\n",
    "d = data[idx]\n"
   ]
  },
  {
   "cell_type": "code",
   "execution_count": 12,
   "metadata": {},
   "outputs": [
    {
     "data": {
      "text/plain": [
       "2.0260000000000002"
      ]
     },
     "execution_count": 12,
     "metadata": {},
     "output_type": "execute_result"
    }
   ],
   "source": [
    "# 문 1. virginica 품종의 Petal.Width의 평균은?\n",
    "idx = (data['Species'] == 'virginica')\n",
    "virg = data[idx]\n",
    "\n",
    "virg_petwid = virg['Petal.Width']\n",
    "virg_petwid.mean()"
   ]
  },
  {
   "cell_type": "code",
   "execution_count": 13,
   "metadata": {},
   "outputs": [
    {
     "data": {
      "text/html": [
       "<div>\n",
       "<style scoped>\n",
       "    .dataframe tbody tr th:only-of-type {\n",
       "        vertical-align: middle;\n",
       "    }\n",
       "\n",
       "    .dataframe tbody tr th {\n",
       "        vertical-align: top;\n",
       "    }\n",
       "\n",
       "    .dataframe thead th {\n",
       "        text-align: right;\n",
       "    }\n",
       "</style>\n",
       "<table border=\"1\" class=\"dataframe\">\n",
       "  <thead>\n",
       "    <tr style=\"text-align: right;\">\n",
       "      <th></th>\n",
       "      <th>Sepal.Length</th>\n",
       "      <th>Sepal.Width</th>\n",
       "    </tr>\n",
       "  </thead>\n",
       "  <tbody>\n",
       "    <tr>\n",
       "      <th>0</th>\n",
       "      <td>5.1</td>\n",
       "      <td>3.5</td>\n",
       "    </tr>\n",
       "    <tr>\n",
       "      <th>1</th>\n",
       "      <td>4.9</td>\n",
       "      <td>3.0</td>\n",
       "    </tr>\n",
       "    <tr>\n",
       "      <th>2</th>\n",
       "      <td>4.7</td>\n",
       "      <td>3.2</td>\n",
       "    </tr>\n",
       "    <tr>\n",
       "      <th>3</th>\n",
       "      <td>4.6</td>\n",
       "      <td>3.1</td>\n",
       "    </tr>\n",
       "    <tr>\n",
       "      <th>4</th>\n",
       "      <td>5.0</td>\n",
       "      <td>3.6</td>\n",
       "    </tr>\n",
       "  </tbody>\n",
       "</table>\n",
       "</div>"
      ],
      "text/plain": [
       "   Sepal.Length  Sepal.Width\n",
       "0           5.1          3.5\n",
       "1           4.9          3.0\n",
       "2           4.7          3.2\n",
       "3           4.6          3.1\n",
       "4           5.0          3.6"
      ]
     },
     "execution_count": 13,
     "metadata": {},
     "output_type": "execute_result"
    }
   ],
   "source": [
    "# 인덱싱\n",
    "\n",
    "data.iloc[:5,:2]"
   ]
  },
  {
   "cell_type": "code",
   "execution_count": 14,
   "metadata": {
    "scrolled": true
   },
   "outputs": [
    {
     "data": {
      "text/html": [
       "<div>\n",
       "<style scoped>\n",
       "    .dataframe tbody tr th:only-of-type {\n",
       "        vertical-align: middle;\n",
       "    }\n",
       "\n",
       "    .dataframe tbody tr th {\n",
       "        vertical-align: top;\n",
       "    }\n",
       "\n",
       "    .dataframe thead th {\n",
       "        text-align: right;\n",
       "    }\n",
       "</style>\n",
       "<table border=\"1\" class=\"dataframe\">\n",
       "  <thead>\n",
       "    <tr style=\"text-align: right;\">\n",
       "      <th></th>\n",
       "      <th>Sepal.Length</th>\n",
       "      <th>Sepal.Width</th>\n",
       "      <th>Petal.Length</th>\n",
       "      <th>Petal.Width</th>\n",
       "      <th>Species</th>\n",
       "    </tr>\n",
       "  </thead>\n",
       "  <tbody>\n",
       "    <tr>\n",
       "      <th>145</th>\n",
       "      <td>6.7</td>\n",
       "      <td>3.0</td>\n",
       "      <td>5.2</td>\n",
       "      <td>2.3</td>\n",
       "      <td>virginica</td>\n",
       "    </tr>\n",
       "    <tr>\n",
       "      <th>146</th>\n",
       "      <td>6.3</td>\n",
       "      <td>2.5</td>\n",
       "      <td>5.0</td>\n",
       "      <td>1.9</td>\n",
       "      <td>virginica</td>\n",
       "    </tr>\n",
       "    <tr>\n",
       "      <th>147</th>\n",
       "      <td>6.5</td>\n",
       "      <td>3.0</td>\n",
       "      <td>5.2</td>\n",
       "      <td>2.0</td>\n",
       "      <td>virginica</td>\n",
       "    </tr>\n",
       "    <tr>\n",
       "      <th>148</th>\n",
       "      <td>6.2</td>\n",
       "      <td>3.4</td>\n",
       "      <td>5.4</td>\n",
       "      <td>2.3</td>\n",
       "      <td>virginica</td>\n",
       "    </tr>\n",
       "    <tr>\n",
       "      <th>149</th>\n",
       "      <td>5.9</td>\n",
       "      <td>3.0</td>\n",
       "      <td>5.1</td>\n",
       "      <td>1.8</td>\n",
       "      <td>virginica</td>\n",
       "    </tr>\n",
       "  </tbody>\n",
       "</table>\n",
       "</div>"
      ],
      "text/plain": [
       "     Sepal.Length  Sepal.Width  Petal.Length  Petal.Width    Species\n",
       "145           6.7          3.0           5.2          2.3  virginica\n",
       "146           6.3          2.5           5.0          1.9  virginica\n",
       "147           6.5          3.0           5.2          2.0  virginica\n",
       "148           6.2          3.4           5.4          2.3  virginica\n",
       "149           5.9          3.0           5.1          1.8  virginica"
      ]
     },
     "execution_count": 14,
     "metadata": {},
     "output_type": "execute_result"
    }
   ],
   "source": [
    "data.iloc[-5:, :]"
   ]
  },
  {
   "cell_type": "code",
   "execution_count": 15,
   "metadata": {},
   "outputs": [
    {
     "data": {
      "text/html": [
       "<div>\n",
       "<style scoped>\n",
       "    .dataframe tbody tr th:only-of-type {\n",
       "        vertical-align: middle;\n",
       "    }\n",
       "\n",
       "    .dataframe tbody tr th {\n",
       "        vertical-align: top;\n",
       "    }\n",
       "\n",
       "    .dataframe thead th {\n",
       "        text-align: right;\n",
       "    }\n",
       "</style>\n",
       "<table border=\"1\" class=\"dataframe\">\n",
       "  <thead>\n",
       "    <tr style=\"text-align: right;\">\n",
       "      <th></th>\n",
       "      <th>Sepal.Length</th>\n",
       "      <th>Petal.Length</th>\n",
       "      <th>Petal.Width</th>\n",
       "    </tr>\n",
       "  </thead>\n",
       "  <tbody>\n",
       "    <tr>\n",
       "      <th>1</th>\n",
       "      <td>4.9</td>\n",
       "      <td>1.4</td>\n",
       "      <td>0.2</td>\n",
       "    </tr>\n",
       "    <tr>\n",
       "      <th>3</th>\n",
       "      <td>4.6</td>\n",
       "      <td>1.5</td>\n",
       "      <td>0.2</td>\n",
       "    </tr>\n",
       "    <tr>\n",
       "      <th>5</th>\n",
       "      <td>5.4</td>\n",
       "      <td>1.7</td>\n",
       "      <td>0.4</td>\n",
       "    </tr>\n",
       "  </tbody>\n",
       "</table>\n",
       "</div>"
      ],
      "text/plain": [
       "   Sepal.Length  Petal.Length  Petal.Width\n",
       "1           4.9           1.4          0.2\n",
       "3           4.6           1.5          0.2\n",
       "5           5.4           1.7          0.4"
      ]
     },
     "execution_count": 15,
     "metadata": {},
     "output_type": "execute_result"
    }
   ],
   "source": [
    "data.iloc[[1,3,5],[0,2,3]]"
   ]
  },
  {
   "cell_type": "code",
   "execution_count": 16,
   "metadata": {},
   "outputs": [
    {
     "data": {
      "text/html": [
       "<div>\n",
       "<style scoped>\n",
       "    .dataframe tbody tr th:only-of-type {\n",
       "        vertical-align: middle;\n",
       "    }\n",
       "\n",
       "    .dataframe tbody tr th {\n",
       "        vertical-align: top;\n",
       "    }\n",
       "\n",
       "    .dataframe thead th {\n",
       "        text-align: right;\n",
       "    }\n",
       "</style>\n",
       "<table border=\"1\" class=\"dataframe\">\n",
       "  <thead>\n",
       "    <tr style=\"text-align: right;\">\n",
       "      <th></th>\n",
       "      <th>Sepal.Length</th>\n",
       "      <th>Sepal.Width</th>\n",
       "      <th>Petal.Length</th>\n",
       "      <th>Petal.Width</th>\n",
       "      <th>Species</th>\n",
       "    </tr>\n",
       "  </thead>\n",
       "  <tbody>\n",
       "    <tr>\n",
       "      <th>0</th>\n",
       "      <td>5.1</td>\n",
       "      <td>3.5</td>\n",
       "      <td>1.4</td>\n",
       "      <td>0.2</td>\n",
       "      <td>setosa</td>\n",
       "    </tr>\n",
       "    <tr>\n",
       "      <th>2</th>\n",
       "      <td>4.7</td>\n",
       "      <td>3.2</td>\n",
       "      <td>1.3</td>\n",
       "      <td>0.2</td>\n",
       "      <td>setosa</td>\n",
       "    </tr>\n",
       "    <tr>\n",
       "      <th>4</th>\n",
       "      <td>5.0</td>\n",
       "      <td>3.6</td>\n",
       "      <td>1.4</td>\n",
       "      <td>0.2</td>\n",
       "      <td>setosa</td>\n",
       "    </tr>\n",
       "    <tr>\n",
       "      <th>6</th>\n",
       "      <td>4.6</td>\n",
       "      <td>3.4</td>\n",
       "      <td>1.4</td>\n",
       "      <td>0.3</td>\n",
       "      <td>setosa</td>\n",
       "    </tr>\n",
       "    <tr>\n",
       "      <th>8</th>\n",
       "      <td>4.4</td>\n",
       "      <td>2.9</td>\n",
       "      <td>1.4</td>\n",
       "      <td>0.2</td>\n",
       "      <td>setosa</td>\n",
       "    </tr>\n",
       "  </tbody>\n",
       "</table>\n",
       "</div>"
      ],
      "text/plain": [
       "   Sepal.Length  Sepal.Width  Petal.Length  Petal.Width Species\n",
       "0           5.1          3.5           1.4          0.2  setosa\n",
       "2           4.7          3.2           1.3          0.2  setosa\n",
       "4           5.0          3.6           1.4          0.2  setosa\n",
       "6           4.6          3.4           1.4          0.3  setosa\n",
       "8           4.4          2.9           1.4          0.2  setosa"
      ]
     },
     "execution_count": 16,
     "metadata": {},
     "output_type": "execute_result"
    }
   ],
   "source": [
    "data.iloc[np.arange(0,10,2),:]"
   ]
  },
  {
   "cell_type": "code",
   "execution_count": 17,
   "metadata": {},
   "outputs": [
    {
     "data": {
      "text/plain": [
       "(150, 6)"
      ]
     },
     "execution_count": 17,
     "metadata": {},
     "output_type": "execute_result"
    }
   ],
   "source": [
    "# 새로운 변수의 추가\n",
    "\n",
    "v = data['Sepal.Length'] ** 2\n",
    "data['SL2'] = v\n",
    "\n",
    "data.shape"
   ]
  },
  {
   "cell_type": "code",
   "execution_count": 18,
   "metadata": {},
   "outputs": [
    {
     "data": {
      "text/html": [
       "<div>\n",
       "<style scoped>\n",
       "    .dataframe tbody tr th:only-of-type {\n",
       "        vertical-align: middle;\n",
       "    }\n",
       "\n",
       "    .dataframe tbody tr th {\n",
       "        vertical-align: top;\n",
       "    }\n",
       "\n",
       "    .dataframe thead th {\n",
       "        text-align: right;\n",
       "    }\n",
       "</style>\n",
       "<table border=\"1\" class=\"dataframe\">\n",
       "  <thead>\n",
       "    <tr style=\"text-align: right;\">\n",
       "      <th></th>\n",
       "      <th>Sepal.Length</th>\n",
       "      <th>Sepal.Width</th>\n",
       "      <th>Petal.Length</th>\n",
       "      <th>Petal.Width</th>\n",
       "      <th>Species</th>\n",
       "      <th>SL2</th>\n",
       "    </tr>\n",
       "  </thead>\n",
       "  <tbody>\n",
       "    <tr>\n",
       "      <th>13</th>\n",
       "      <td>4.3</td>\n",
       "      <td>3.0</td>\n",
       "      <td>1.1</td>\n",
       "      <td>0.1</td>\n",
       "      <td>setosa</td>\n",
       "      <td>18.49</td>\n",
       "    </tr>\n",
       "    <tr>\n",
       "      <th>42</th>\n",
       "      <td>4.4</td>\n",
       "      <td>3.2</td>\n",
       "      <td>1.3</td>\n",
       "      <td>0.2</td>\n",
       "      <td>setosa</td>\n",
       "      <td>19.36</td>\n",
       "    </tr>\n",
       "    <tr>\n",
       "      <th>38</th>\n",
       "      <td>4.4</td>\n",
       "      <td>3.0</td>\n",
       "      <td>1.3</td>\n",
       "      <td>0.2</td>\n",
       "      <td>setosa</td>\n",
       "      <td>19.36</td>\n",
       "    </tr>\n",
       "    <tr>\n",
       "      <th>8</th>\n",
       "      <td>4.4</td>\n",
       "      <td>2.9</td>\n",
       "      <td>1.4</td>\n",
       "      <td>0.2</td>\n",
       "      <td>setosa</td>\n",
       "      <td>19.36</td>\n",
       "    </tr>\n",
       "    <tr>\n",
       "      <th>41</th>\n",
       "      <td>4.5</td>\n",
       "      <td>2.3</td>\n",
       "      <td>1.3</td>\n",
       "      <td>0.3</td>\n",
       "      <td>setosa</td>\n",
       "      <td>20.25</td>\n",
       "    </tr>\n",
       "    <tr>\n",
       "      <th>22</th>\n",
       "      <td>4.6</td>\n",
       "      <td>3.6</td>\n",
       "      <td>1.0</td>\n",
       "      <td>0.2</td>\n",
       "      <td>setosa</td>\n",
       "      <td>21.16</td>\n",
       "    </tr>\n",
       "    <tr>\n",
       "      <th>3</th>\n",
       "      <td>4.6</td>\n",
       "      <td>3.1</td>\n",
       "      <td>1.5</td>\n",
       "      <td>0.2</td>\n",
       "      <td>setosa</td>\n",
       "      <td>21.16</td>\n",
       "    </tr>\n",
       "    <tr>\n",
       "      <th>6</th>\n",
       "      <td>4.6</td>\n",
       "      <td>3.4</td>\n",
       "      <td>1.4</td>\n",
       "      <td>0.3</td>\n",
       "      <td>setosa</td>\n",
       "      <td>21.16</td>\n",
       "    </tr>\n",
       "    <tr>\n",
       "      <th>47</th>\n",
       "      <td>4.6</td>\n",
       "      <td>3.2</td>\n",
       "      <td>1.4</td>\n",
       "      <td>0.2</td>\n",
       "      <td>setosa</td>\n",
       "      <td>21.16</td>\n",
       "    </tr>\n",
       "    <tr>\n",
       "      <th>2</th>\n",
       "      <td>4.7</td>\n",
       "      <td>3.2</td>\n",
       "      <td>1.3</td>\n",
       "      <td>0.2</td>\n",
       "      <td>setosa</td>\n",
       "      <td>22.09</td>\n",
       "    </tr>\n",
       "    <tr>\n",
       "      <th>29</th>\n",
       "      <td>4.7</td>\n",
       "      <td>3.2</td>\n",
       "      <td>1.6</td>\n",
       "      <td>0.2</td>\n",
       "      <td>setosa</td>\n",
       "      <td>22.09</td>\n",
       "    </tr>\n",
       "    <tr>\n",
       "      <th>12</th>\n",
       "      <td>4.8</td>\n",
       "      <td>3.0</td>\n",
       "      <td>1.4</td>\n",
       "      <td>0.1</td>\n",
       "      <td>setosa</td>\n",
       "      <td>23.04</td>\n",
       "    </tr>\n",
       "    <tr>\n",
       "      <th>45</th>\n",
       "      <td>4.8</td>\n",
       "      <td>3.0</td>\n",
       "      <td>1.4</td>\n",
       "      <td>0.3</td>\n",
       "      <td>setosa</td>\n",
       "      <td>23.04</td>\n",
       "    </tr>\n",
       "    <tr>\n",
       "      <th>24</th>\n",
       "      <td>4.8</td>\n",
       "      <td>3.4</td>\n",
       "      <td>1.9</td>\n",
       "      <td>0.2</td>\n",
       "      <td>setosa</td>\n",
       "      <td>23.04</td>\n",
       "    </tr>\n",
       "    <tr>\n",
       "      <th>11</th>\n",
       "      <td>4.8</td>\n",
       "      <td>3.4</td>\n",
       "      <td>1.6</td>\n",
       "      <td>0.2</td>\n",
       "      <td>setosa</td>\n",
       "      <td>23.04</td>\n",
       "    </tr>\n",
       "    <tr>\n",
       "      <th>30</th>\n",
       "      <td>4.8</td>\n",
       "      <td>3.1</td>\n",
       "      <td>1.6</td>\n",
       "      <td>0.2</td>\n",
       "      <td>setosa</td>\n",
       "      <td>23.04</td>\n",
       "    </tr>\n",
       "    <tr>\n",
       "      <th>57</th>\n",
       "      <td>4.9</td>\n",
       "      <td>2.4</td>\n",
       "      <td>3.3</td>\n",
       "      <td>1.0</td>\n",
       "      <td>versicolor</td>\n",
       "      <td>24.01</td>\n",
       "    </tr>\n",
       "    <tr>\n",
       "      <th>106</th>\n",
       "      <td>4.9</td>\n",
       "      <td>2.5</td>\n",
       "      <td>4.5</td>\n",
       "      <td>1.7</td>\n",
       "      <td>virginica</td>\n",
       "      <td>24.01</td>\n",
       "    </tr>\n",
       "    <tr>\n",
       "      <th>34</th>\n",
       "      <td>4.9</td>\n",
       "      <td>3.1</td>\n",
       "      <td>1.5</td>\n",
       "      <td>0.2</td>\n",
       "      <td>setosa</td>\n",
       "      <td>24.01</td>\n",
       "    </tr>\n",
       "    <tr>\n",
       "      <th>9</th>\n",
       "      <td>4.9</td>\n",
       "      <td>3.1</td>\n",
       "      <td>1.5</td>\n",
       "      <td>0.1</td>\n",
       "      <td>setosa</td>\n",
       "      <td>24.01</td>\n",
       "    </tr>\n",
       "    <tr>\n",
       "      <th>37</th>\n",
       "      <td>4.9</td>\n",
       "      <td>3.6</td>\n",
       "      <td>1.4</td>\n",
       "      <td>0.1</td>\n",
       "      <td>setosa</td>\n",
       "      <td>24.01</td>\n",
       "    </tr>\n",
       "    <tr>\n",
       "      <th>1</th>\n",
       "      <td>4.9</td>\n",
       "      <td>3.0</td>\n",
       "      <td>1.4</td>\n",
       "      <td>0.2</td>\n",
       "      <td>setosa</td>\n",
       "      <td>24.01</td>\n",
       "    </tr>\n",
       "    <tr>\n",
       "      <th>40</th>\n",
       "      <td>5.0</td>\n",
       "      <td>3.5</td>\n",
       "      <td>1.3</td>\n",
       "      <td>0.3</td>\n",
       "      <td>setosa</td>\n",
       "      <td>25.00</td>\n",
       "    </tr>\n",
       "    <tr>\n",
       "      <th>26</th>\n",
       "      <td>5.0</td>\n",
       "      <td>3.4</td>\n",
       "      <td>1.6</td>\n",
       "      <td>0.4</td>\n",
       "      <td>setosa</td>\n",
       "      <td>25.00</td>\n",
       "    </tr>\n",
       "    <tr>\n",
       "      <th>49</th>\n",
       "      <td>5.0</td>\n",
       "      <td>3.3</td>\n",
       "      <td>1.4</td>\n",
       "      <td>0.2</td>\n",
       "      <td>setosa</td>\n",
       "      <td>25.00</td>\n",
       "    </tr>\n",
       "    <tr>\n",
       "      <th>35</th>\n",
       "      <td>5.0</td>\n",
       "      <td>3.2</td>\n",
       "      <td>1.2</td>\n",
       "      <td>0.2</td>\n",
       "      <td>setosa</td>\n",
       "      <td>25.00</td>\n",
       "    </tr>\n",
       "    <tr>\n",
       "      <th>43</th>\n",
       "      <td>5.0</td>\n",
       "      <td>3.5</td>\n",
       "      <td>1.6</td>\n",
       "      <td>0.6</td>\n",
       "      <td>setosa</td>\n",
       "      <td>25.00</td>\n",
       "    </tr>\n",
       "    <tr>\n",
       "      <th>60</th>\n",
       "      <td>5.0</td>\n",
       "      <td>2.0</td>\n",
       "      <td>3.5</td>\n",
       "      <td>1.0</td>\n",
       "      <td>versicolor</td>\n",
       "      <td>25.00</td>\n",
       "    </tr>\n",
       "    <tr>\n",
       "      <th>7</th>\n",
       "      <td>5.0</td>\n",
       "      <td>3.4</td>\n",
       "      <td>1.5</td>\n",
       "      <td>0.2</td>\n",
       "      <td>setosa</td>\n",
       "      <td>25.00</td>\n",
       "    </tr>\n",
       "    <tr>\n",
       "      <th>93</th>\n",
       "      <td>5.0</td>\n",
       "      <td>2.3</td>\n",
       "      <td>3.3</td>\n",
       "      <td>1.0</td>\n",
       "      <td>versicolor</td>\n",
       "      <td>25.00</td>\n",
       "    </tr>\n",
       "    <tr>\n",
       "      <th>...</th>\n",
       "      <td>...</td>\n",
       "      <td>...</td>\n",
       "      <td>...</td>\n",
       "      <td>...</td>\n",
       "      <td>...</td>\n",
       "      <td>...</td>\n",
       "    </tr>\n",
       "    <tr>\n",
       "      <th>58</th>\n",
       "      <td>6.6</td>\n",
       "      <td>2.9</td>\n",
       "      <td>4.6</td>\n",
       "      <td>1.3</td>\n",
       "      <td>versicolor</td>\n",
       "      <td>43.56</td>\n",
       "    </tr>\n",
       "    <tr>\n",
       "      <th>75</th>\n",
       "      <td>6.6</td>\n",
       "      <td>3.0</td>\n",
       "      <td>4.4</td>\n",
       "      <td>1.4</td>\n",
       "      <td>versicolor</td>\n",
       "      <td>43.56</td>\n",
       "    </tr>\n",
       "    <tr>\n",
       "      <th>86</th>\n",
       "      <td>6.7</td>\n",
       "      <td>3.1</td>\n",
       "      <td>4.7</td>\n",
       "      <td>1.5</td>\n",
       "      <td>versicolor</td>\n",
       "      <td>44.89</td>\n",
       "    </tr>\n",
       "    <tr>\n",
       "      <th>140</th>\n",
       "      <td>6.7</td>\n",
       "      <td>3.1</td>\n",
       "      <td>5.6</td>\n",
       "      <td>2.4</td>\n",
       "      <td>virginica</td>\n",
       "      <td>44.89</td>\n",
       "    </tr>\n",
       "    <tr>\n",
       "      <th>108</th>\n",
       "      <td>6.7</td>\n",
       "      <td>2.5</td>\n",
       "      <td>5.8</td>\n",
       "      <td>1.8</td>\n",
       "      <td>virginica</td>\n",
       "      <td>44.89</td>\n",
       "    </tr>\n",
       "    <tr>\n",
       "      <th>77</th>\n",
       "      <td>6.7</td>\n",
       "      <td>3.0</td>\n",
       "      <td>5.0</td>\n",
       "      <td>1.7</td>\n",
       "      <td>versicolor</td>\n",
       "      <td>44.89</td>\n",
       "    </tr>\n",
       "    <tr>\n",
       "      <th>65</th>\n",
       "      <td>6.7</td>\n",
       "      <td>3.1</td>\n",
       "      <td>4.4</td>\n",
       "      <td>1.4</td>\n",
       "      <td>versicolor</td>\n",
       "      <td>44.89</td>\n",
       "    </tr>\n",
       "    <tr>\n",
       "      <th>144</th>\n",
       "      <td>6.7</td>\n",
       "      <td>3.3</td>\n",
       "      <td>5.7</td>\n",
       "      <td>2.5</td>\n",
       "      <td>virginica</td>\n",
       "      <td>44.89</td>\n",
       "    </tr>\n",
       "    <tr>\n",
       "      <th>145</th>\n",
       "      <td>6.7</td>\n",
       "      <td>3.0</td>\n",
       "      <td>5.2</td>\n",
       "      <td>2.3</td>\n",
       "      <td>virginica</td>\n",
       "      <td>44.89</td>\n",
       "    </tr>\n",
       "    <tr>\n",
       "      <th>124</th>\n",
       "      <td>6.7</td>\n",
       "      <td>3.3</td>\n",
       "      <td>5.7</td>\n",
       "      <td>2.1</td>\n",
       "      <td>virginica</td>\n",
       "      <td>44.89</td>\n",
       "    </tr>\n",
       "    <tr>\n",
       "      <th>143</th>\n",
       "      <td>6.8</td>\n",
       "      <td>3.2</td>\n",
       "      <td>5.9</td>\n",
       "      <td>2.3</td>\n",
       "      <td>virginica</td>\n",
       "      <td>46.24</td>\n",
       "    </tr>\n",
       "    <tr>\n",
       "      <th>76</th>\n",
       "      <td>6.8</td>\n",
       "      <td>2.8</td>\n",
       "      <td>4.8</td>\n",
       "      <td>1.4</td>\n",
       "      <td>versicolor</td>\n",
       "      <td>46.24</td>\n",
       "    </tr>\n",
       "    <tr>\n",
       "      <th>112</th>\n",
       "      <td>6.8</td>\n",
       "      <td>3.0</td>\n",
       "      <td>5.5</td>\n",
       "      <td>2.1</td>\n",
       "      <td>virginica</td>\n",
       "      <td>46.24</td>\n",
       "    </tr>\n",
       "    <tr>\n",
       "      <th>139</th>\n",
       "      <td>6.9</td>\n",
       "      <td>3.1</td>\n",
       "      <td>5.4</td>\n",
       "      <td>2.1</td>\n",
       "      <td>virginica</td>\n",
       "      <td>47.61</td>\n",
       "    </tr>\n",
       "    <tr>\n",
       "      <th>141</th>\n",
       "      <td>6.9</td>\n",
       "      <td>3.1</td>\n",
       "      <td>5.1</td>\n",
       "      <td>2.3</td>\n",
       "      <td>virginica</td>\n",
       "      <td>47.61</td>\n",
       "    </tr>\n",
       "    <tr>\n",
       "      <th>52</th>\n",
       "      <td>6.9</td>\n",
       "      <td>3.1</td>\n",
       "      <td>4.9</td>\n",
       "      <td>1.5</td>\n",
       "      <td>versicolor</td>\n",
       "      <td>47.61</td>\n",
       "    </tr>\n",
       "    <tr>\n",
       "      <th>120</th>\n",
       "      <td>6.9</td>\n",
       "      <td>3.2</td>\n",
       "      <td>5.7</td>\n",
       "      <td>2.3</td>\n",
       "      <td>virginica</td>\n",
       "      <td>47.61</td>\n",
       "    </tr>\n",
       "    <tr>\n",
       "      <th>50</th>\n",
       "      <td>7.0</td>\n",
       "      <td>3.2</td>\n",
       "      <td>4.7</td>\n",
       "      <td>1.4</td>\n",
       "      <td>versicolor</td>\n",
       "      <td>49.00</td>\n",
       "    </tr>\n",
       "    <tr>\n",
       "      <th>102</th>\n",
       "      <td>7.1</td>\n",
       "      <td>3.0</td>\n",
       "      <td>5.9</td>\n",
       "      <td>2.1</td>\n",
       "      <td>virginica</td>\n",
       "      <td>50.41</td>\n",
       "    </tr>\n",
       "    <tr>\n",
       "      <th>129</th>\n",
       "      <td>7.2</td>\n",
       "      <td>3.0</td>\n",
       "      <td>5.8</td>\n",
       "      <td>1.6</td>\n",
       "      <td>virginica</td>\n",
       "      <td>51.84</td>\n",
       "    </tr>\n",
       "    <tr>\n",
       "      <th>125</th>\n",
       "      <td>7.2</td>\n",
       "      <td>3.2</td>\n",
       "      <td>6.0</td>\n",
       "      <td>1.8</td>\n",
       "      <td>virginica</td>\n",
       "      <td>51.84</td>\n",
       "    </tr>\n",
       "    <tr>\n",
       "      <th>109</th>\n",
       "      <td>7.2</td>\n",
       "      <td>3.6</td>\n",
       "      <td>6.1</td>\n",
       "      <td>2.5</td>\n",
       "      <td>virginica</td>\n",
       "      <td>51.84</td>\n",
       "    </tr>\n",
       "    <tr>\n",
       "      <th>107</th>\n",
       "      <td>7.3</td>\n",
       "      <td>2.9</td>\n",
       "      <td>6.3</td>\n",
       "      <td>1.8</td>\n",
       "      <td>virginica</td>\n",
       "      <td>53.29</td>\n",
       "    </tr>\n",
       "    <tr>\n",
       "      <th>130</th>\n",
       "      <td>7.4</td>\n",
       "      <td>2.8</td>\n",
       "      <td>6.1</td>\n",
       "      <td>1.9</td>\n",
       "      <td>virginica</td>\n",
       "      <td>54.76</td>\n",
       "    </tr>\n",
       "    <tr>\n",
       "      <th>105</th>\n",
       "      <td>7.6</td>\n",
       "      <td>3.0</td>\n",
       "      <td>6.6</td>\n",
       "      <td>2.1</td>\n",
       "      <td>virginica</td>\n",
       "      <td>57.76</td>\n",
       "    </tr>\n",
       "    <tr>\n",
       "      <th>122</th>\n",
       "      <td>7.7</td>\n",
       "      <td>2.8</td>\n",
       "      <td>6.7</td>\n",
       "      <td>2.0</td>\n",
       "      <td>virginica</td>\n",
       "      <td>59.29</td>\n",
       "    </tr>\n",
       "    <tr>\n",
       "      <th>118</th>\n",
       "      <td>7.7</td>\n",
       "      <td>2.6</td>\n",
       "      <td>6.9</td>\n",
       "      <td>2.3</td>\n",
       "      <td>virginica</td>\n",
       "      <td>59.29</td>\n",
       "    </tr>\n",
       "    <tr>\n",
       "      <th>117</th>\n",
       "      <td>7.7</td>\n",
       "      <td>3.8</td>\n",
       "      <td>6.7</td>\n",
       "      <td>2.2</td>\n",
       "      <td>virginica</td>\n",
       "      <td>59.29</td>\n",
       "    </tr>\n",
       "    <tr>\n",
       "      <th>135</th>\n",
       "      <td>7.7</td>\n",
       "      <td>3.0</td>\n",
       "      <td>6.1</td>\n",
       "      <td>2.3</td>\n",
       "      <td>virginica</td>\n",
       "      <td>59.29</td>\n",
       "    </tr>\n",
       "    <tr>\n",
       "      <th>131</th>\n",
       "      <td>7.9</td>\n",
       "      <td>3.8</td>\n",
       "      <td>6.4</td>\n",
       "      <td>2.0</td>\n",
       "      <td>virginica</td>\n",
       "      <td>62.41</td>\n",
       "    </tr>\n",
       "  </tbody>\n",
       "</table>\n",
       "<p>150 rows × 6 columns</p>\n",
       "</div>"
      ],
      "text/plain": [
       "     Sepal.Length  Sepal.Width  Petal.Length  Petal.Width     Species    SL2\n",
       "13            4.3          3.0           1.1          0.1      setosa  18.49\n",
       "42            4.4          3.2           1.3          0.2      setosa  19.36\n",
       "38            4.4          3.0           1.3          0.2      setosa  19.36\n",
       "8             4.4          2.9           1.4          0.2      setosa  19.36\n",
       "41            4.5          2.3           1.3          0.3      setosa  20.25\n",
       "22            4.6          3.6           1.0          0.2      setosa  21.16\n",
       "3             4.6          3.1           1.5          0.2      setosa  21.16\n",
       "6             4.6          3.4           1.4          0.3      setosa  21.16\n",
       "47            4.6          3.2           1.4          0.2      setosa  21.16\n",
       "2             4.7          3.2           1.3          0.2      setosa  22.09\n",
       "29            4.7          3.2           1.6          0.2      setosa  22.09\n",
       "12            4.8          3.0           1.4          0.1      setosa  23.04\n",
       "45            4.8          3.0           1.4          0.3      setosa  23.04\n",
       "24            4.8          3.4           1.9          0.2      setosa  23.04\n",
       "11            4.8          3.4           1.6          0.2      setosa  23.04\n",
       "30            4.8          3.1           1.6          0.2      setosa  23.04\n",
       "57            4.9          2.4           3.3          1.0  versicolor  24.01\n",
       "106           4.9          2.5           4.5          1.7   virginica  24.01\n",
       "34            4.9          3.1           1.5          0.2      setosa  24.01\n",
       "9             4.9          3.1           1.5          0.1      setosa  24.01\n",
       "37            4.9          3.6           1.4          0.1      setosa  24.01\n",
       "1             4.9          3.0           1.4          0.2      setosa  24.01\n",
       "40            5.0          3.5           1.3          0.3      setosa  25.00\n",
       "26            5.0          3.4           1.6          0.4      setosa  25.00\n",
       "49            5.0          3.3           1.4          0.2      setosa  25.00\n",
       "35            5.0          3.2           1.2          0.2      setosa  25.00\n",
       "43            5.0          3.5           1.6          0.6      setosa  25.00\n",
       "60            5.0          2.0           3.5          1.0  versicolor  25.00\n",
       "7             5.0          3.4           1.5          0.2      setosa  25.00\n",
       "93            5.0          2.3           3.3          1.0  versicolor  25.00\n",
       "..            ...          ...           ...          ...         ...    ...\n",
       "58            6.6          2.9           4.6          1.3  versicolor  43.56\n",
       "75            6.6          3.0           4.4          1.4  versicolor  43.56\n",
       "86            6.7          3.1           4.7          1.5  versicolor  44.89\n",
       "140           6.7          3.1           5.6          2.4   virginica  44.89\n",
       "108           6.7          2.5           5.8          1.8   virginica  44.89\n",
       "77            6.7          3.0           5.0          1.7  versicolor  44.89\n",
       "65            6.7          3.1           4.4          1.4  versicolor  44.89\n",
       "144           6.7          3.3           5.7          2.5   virginica  44.89\n",
       "145           6.7          3.0           5.2          2.3   virginica  44.89\n",
       "124           6.7          3.3           5.7          2.1   virginica  44.89\n",
       "143           6.8          3.2           5.9          2.3   virginica  46.24\n",
       "76            6.8          2.8           4.8          1.4  versicolor  46.24\n",
       "112           6.8          3.0           5.5          2.1   virginica  46.24\n",
       "139           6.9          3.1           5.4          2.1   virginica  47.61\n",
       "141           6.9          3.1           5.1          2.3   virginica  47.61\n",
       "52            6.9          3.1           4.9          1.5  versicolor  47.61\n",
       "120           6.9          3.2           5.7          2.3   virginica  47.61\n",
       "50            7.0          3.2           4.7          1.4  versicolor  49.00\n",
       "102           7.1          3.0           5.9          2.1   virginica  50.41\n",
       "129           7.2          3.0           5.8          1.6   virginica  51.84\n",
       "125           7.2          3.2           6.0          1.8   virginica  51.84\n",
       "109           7.2          3.6           6.1          2.5   virginica  51.84\n",
       "107           7.3          2.9           6.3          1.8   virginica  53.29\n",
       "130           7.4          2.8           6.1          1.9   virginica  54.76\n",
       "105           7.6          3.0           6.6          2.1   virginica  57.76\n",
       "122           7.7          2.8           6.7          2.0   virginica  59.29\n",
       "118           7.7          2.6           6.9          2.3   virginica  59.29\n",
       "117           7.7          3.8           6.7          2.2   virginica  59.29\n",
       "135           7.7          3.0           6.1          2.3   virginica  59.29\n",
       "131           7.9          3.8           6.4          2.0   virginica  62.41\n",
       "\n",
       "[150 rows x 6 columns]"
      ]
     },
     "execution_count": 18,
     "metadata": {},
     "output_type": "execute_result"
    }
   ],
   "source": [
    "# 정렬\n",
    "\n",
    "d2 = data.sort_values(by=['Sepal.Length'])\n",
    "d2"
   ]
  },
  {
   "cell_type": "code",
   "execution_count": 19,
   "metadata": {},
   "outputs": [
    {
     "data": {
      "text/html": [
       "<div>\n",
       "<style scoped>\n",
       "    .dataframe tbody tr th:only-of-type {\n",
       "        vertical-align: middle;\n",
       "    }\n",
       "\n",
       "    .dataframe tbody tr th {\n",
       "        vertical-align: top;\n",
       "    }\n",
       "\n",
       "    .dataframe thead th {\n",
       "        text-align: right;\n",
       "    }\n",
       "</style>\n",
       "<table border=\"1\" class=\"dataframe\">\n",
       "  <thead>\n",
       "    <tr style=\"text-align: right;\">\n",
       "      <th></th>\n",
       "      <th>Sepal.Length</th>\n",
       "      <th>Sepal.Width</th>\n",
       "      <th>Petal.Length</th>\n",
       "      <th>Petal.Width</th>\n",
       "      <th>Species</th>\n",
       "      <th>SL2</th>\n",
       "    </tr>\n",
       "  </thead>\n",
       "  <tbody>\n",
       "    <tr>\n",
       "      <th>131</th>\n",
       "      <td>7.9</td>\n",
       "      <td>3.8</td>\n",
       "      <td>6.4</td>\n",
       "      <td>2.0</td>\n",
       "      <td>virginica</td>\n",
       "      <td>62.41</td>\n",
       "    </tr>\n",
       "    <tr>\n",
       "      <th>135</th>\n",
       "      <td>7.7</td>\n",
       "      <td>3.0</td>\n",
       "      <td>6.1</td>\n",
       "      <td>2.3</td>\n",
       "      <td>virginica</td>\n",
       "      <td>59.29</td>\n",
       "    </tr>\n",
       "    <tr>\n",
       "      <th>122</th>\n",
       "      <td>7.7</td>\n",
       "      <td>2.8</td>\n",
       "      <td>6.7</td>\n",
       "      <td>2.0</td>\n",
       "      <td>virginica</td>\n",
       "      <td>59.29</td>\n",
       "    </tr>\n",
       "    <tr>\n",
       "      <th>117</th>\n",
       "      <td>7.7</td>\n",
       "      <td>3.8</td>\n",
       "      <td>6.7</td>\n",
       "      <td>2.2</td>\n",
       "      <td>virginica</td>\n",
       "      <td>59.29</td>\n",
       "    </tr>\n",
       "    <tr>\n",
       "      <th>118</th>\n",
       "      <td>7.7</td>\n",
       "      <td>2.6</td>\n",
       "      <td>6.9</td>\n",
       "      <td>2.3</td>\n",
       "      <td>virginica</td>\n",
       "      <td>59.29</td>\n",
       "    </tr>\n",
       "    <tr>\n",
       "      <th>105</th>\n",
       "      <td>7.6</td>\n",
       "      <td>3.0</td>\n",
       "      <td>6.6</td>\n",
       "      <td>2.1</td>\n",
       "      <td>virginica</td>\n",
       "      <td>57.76</td>\n",
       "    </tr>\n",
       "    <tr>\n",
       "      <th>130</th>\n",
       "      <td>7.4</td>\n",
       "      <td>2.8</td>\n",
       "      <td>6.1</td>\n",
       "      <td>1.9</td>\n",
       "      <td>virginica</td>\n",
       "      <td>54.76</td>\n",
       "    </tr>\n",
       "    <tr>\n",
       "      <th>107</th>\n",
       "      <td>7.3</td>\n",
       "      <td>2.9</td>\n",
       "      <td>6.3</td>\n",
       "      <td>1.8</td>\n",
       "      <td>virginica</td>\n",
       "      <td>53.29</td>\n",
       "    </tr>\n",
       "    <tr>\n",
       "      <th>125</th>\n",
       "      <td>7.2</td>\n",
       "      <td>3.2</td>\n",
       "      <td>6.0</td>\n",
       "      <td>1.8</td>\n",
       "      <td>virginica</td>\n",
       "      <td>51.84</td>\n",
       "    </tr>\n",
       "    <tr>\n",
       "      <th>109</th>\n",
       "      <td>7.2</td>\n",
       "      <td>3.6</td>\n",
       "      <td>6.1</td>\n",
       "      <td>2.5</td>\n",
       "      <td>virginica</td>\n",
       "      <td>51.84</td>\n",
       "    </tr>\n",
       "    <tr>\n",
       "      <th>129</th>\n",
       "      <td>7.2</td>\n",
       "      <td>3.0</td>\n",
       "      <td>5.8</td>\n",
       "      <td>1.6</td>\n",
       "      <td>virginica</td>\n",
       "      <td>51.84</td>\n",
       "    </tr>\n",
       "    <tr>\n",
       "      <th>102</th>\n",
       "      <td>7.1</td>\n",
       "      <td>3.0</td>\n",
       "      <td>5.9</td>\n",
       "      <td>2.1</td>\n",
       "      <td>virginica</td>\n",
       "      <td>50.41</td>\n",
       "    </tr>\n",
       "    <tr>\n",
       "      <th>50</th>\n",
       "      <td>7.0</td>\n",
       "      <td>3.2</td>\n",
       "      <td>4.7</td>\n",
       "      <td>1.4</td>\n",
       "      <td>versicolor</td>\n",
       "      <td>49.00</td>\n",
       "    </tr>\n",
       "    <tr>\n",
       "      <th>120</th>\n",
       "      <td>6.9</td>\n",
       "      <td>3.2</td>\n",
       "      <td>5.7</td>\n",
       "      <td>2.3</td>\n",
       "      <td>virginica</td>\n",
       "      <td>47.61</td>\n",
       "    </tr>\n",
       "    <tr>\n",
       "      <th>52</th>\n",
       "      <td>6.9</td>\n",
       "      <td>3.1</td>\n",
       "      <td>4.9</td>\n",
       "      <td>1.5</td>\n",
       "      <td>versicolor</td>\n",
       "      <td>47.61</td>\n",
       "    </tr>\n",
       "    <tr>\n",
       "      <th>139</th>\n",
       "      <td>6.9</td>\n",
       "      <td>3.1</td>\n",
       "      <td>5.4</td>\n",
       "      <td>2.1</td>\n",
       "      <td>virginica</td>\n",
       "      <td>47.61</td>\n",
       "    </tr>\n",
       "    <tr>\n",
       "      <th>141</th>\n",
       "      <td>6.9</td>\n",
       "      <td>3.1</td>\n",
       "      <td>5.1</td>\n",
       "      <td>2.3</td>\n",
       "      <td>virginica</td>\n",
       "      <td>47.61</td>\n",
       "    </tr>\n",
       "    <tr>\n",
       "      <th>143</th>\n",
       "      <td>6.8</td>\n",
       "      <td>3.2</td>\n",
       "      <td>5.9</td>\n",
       "      <td>2.3</td>\n",
       "      <td>virginica</td>\n",
       "      <td>46.24</td>\n",
       "    </tr>\n",
       "    <tr>\n",
       "      <th>76</th>\n",
       "      <td>6.8</td>\n",
       "      <td>2.8</td>\n",
       "      <td>4.8</td>\n",
       "      <td>1.4</td>\n",
       "      <td>versicolor</td>\n",
       "      <td>46.24</td>\n",
       "    </tr>\n",
       "    <tr>\n",
       "      <th>112</th>\n",
       "      <td>6.8</td>\n",
       "      <td>3.0</td>\n",
       "      <td>5.5</td>\n",
       "      <td>2.1</td>\n",
       "      <td>virginica</td>\n",
       "      <td>46.24</td>\n",
       "    </tr>\n",
       "    <tr>\n",
       "      <th>86</th>\n",
       "      <td>6.7</td>\n",
       "      <td>3.1</td>\n",
       "      <td>4.7</td>\n",
       "      <td>1.5</td>\n",
       "      <td>versicolor</td>\n",
       "      <td>44.89</td>\n",
       "    </tr>\n",
       "    <tr>\n",
       "      <th>77</th>\n",
       "      <td>6.7</td>\n",
       "      <td>3.0</td>\n",
       "      <td>5.0</td>\n",
       "      <td>1.7</td>\n",
       "      <td>versicolor</td>\n",
       "      <td>44.89</td>\n",
       "    </tr>\n",
       "    <tr>\n",
       "      <th>140</th>\n",
       "      <td>6.7</td>\n",
       "      <td>3.1</td>\n",
       "      <td>5.6</td>\n",
       "      <td>2.4</td>\n",
       "      <td>virginica</td>\n",
       "      <td>44.89</td>\n",
       "    </tr>\n",
       "    <tr>\n",
       "      <th>144</th>\n",
       "      <td>6.7</td>\n",
       "      <td>3.3</td>\n",
       "      <td>5.7</td>\n",
       "      <td>2.5</td>\n",
       "      <td>virginica</td>\n",
       "      <td>44.89</td>\n",
       "    </tr>\n",
       "    <tr>\n",
       "      <th>108</th>\n",
       "      <td>6.7</td>\n",
       "      <td>2.5</td>\n",
       "      <td>5.8</td>\n",
       "      <td>1.8</td>\n",
       "      <td>virginica</td>\n",
       "      <td>44.89</td>\n",
       "    </tr>\n",
       "    <tr>\n",
       "      <th>145</th>\n",
       "      <td>6.7</td>\n",
       "      <td>3.0</td>\n",
       "      <td>5.2</td>\n",
       "      <td>2.3</td>\n",
       "      <td>virginica</td>\n",
       "      <td>44.89</td>\n",
       "    </tr>\n",
       "    <tr>\n",
       "      <th>124</th>\n",
       "      <td>6.7</td>\n",
       "      <td>3.3</td>\n",
       "      <td>5.7</td>\n",
       "      <td>2.1</td>\n",
       "      <td>virginica</td>\n",
       "      <td>44.89</td>\n",
       "    </tr>\n",
       "    <tr>\n",
       "      <th>65</th>\n",
       "      <td>6.7</td>\n",
       "      <td>3.1</td>\n",
       "      <td>4.4</td>\n",
       "      <td>1.4</td>\n",
       "      <td>versicolor</td>\n",
       "      <td>44.89</td>\n",
       "    </tr>\n",
       "    <tr>\n",
       "      <th>58</th>\n",
       "      <td>6.6</td>\n",
       "      <td>2.9</td>\n",
       "      <td>4.6</td>\n",
       "      <td>1.3</td>\n",
       "      <td>versicolor</td>\n",
       "      <td>43.56</td>\n",
       "    </tr>\n",
       "    <tr>\n",
       "      <th>75</th>\n",
       "      <td>6.6</td>\n",
       "      <td>3.0</td>\n",
       "      <td>4.4</td>\n",
       "      <td>1.4</td>\n",
       "      <td>versicolor</td>\n",
       "      <td>43.56</td>\n",
       "    </tr>\n",
       "    <tr>\n",
       "      <th>...</th>\n",
       "      <td>...</td>\n",
       "      <td>...</td>\n",
       "      <td>...</td>\n",
       "      <td>...</td>\n",
       "      <td>...</td>\n",
       "      <td>...</td>\n",
       "    </tr>\n",
       "    <tr>\n",
       "      <th>49</th>\n",
       "      <td>5.0</td>\n",
       "      <td>3.3</td>\n",
       "      <td>1.4</td>\n",
       "      <td>0.2</td>\n",
       "      <td>setosa</td>\n",
       "      <td>25.00</td>\n",
       "    </tr>\n",
       "    <tr>\n",
       "      <th>25</th>\n",
       "      <td>5.0</td>\n",
       "      <td>3.0</td>\n",
       "      <td>1.6</td>\n",
       "      <td>0.2</td>\n",
       "      <td>setosa</td>\n",
       "      <td>25.00</td>\n",
       "    </tr>\n",
       "    <tr>\n",
       "      <th>93</th>\n",
       "      <td>5.0</td>\n",
       "      <td>2.3</td>\n",
       "      <td>3.3</td>\n",
       "      <td>1.0</td>\n",
       "      <td>versicolor</td>\n",
       "      <td>25.00</td>\n",
       "    </tr>\n",
       "    <tr>\n",
       "      <th>35</th>\n",
       "      <td>5.0</td>\n",
       "      <td>3.2</td>\n",
       "      <td>1.2</td>\n",
       "      <td>0.2</td>\n",
       "      <td>setosa</td>\n",
       "      <td>25.00</td>\n",
       "    </tr>\n",
       "    <tr>\n",
       "      <th>40</th>\n",
       "      <td>5.0</td>\n",
       "      <td>3.5</td>\n",
       "      <td>1.3</td>\n",
       "      <td>0.3</td>\n",
       "      <td>setosa</td>\n",
       "      <td>25.00</td>\n",
       "    </tr>\n",
       "    <tr>\n",
       "      <th>7</th>\n",
       "      <td>5.0</td>\n",
       "      <td>3.4</td>\n",
       "      <td>1.5</td>\n",
       "      <td>0.2</td>\n",
       "      <td>setosa</td>\n",
       "      <td>25.00</td>\n",
       "    </tr>\n",
       "    <tr>\n",
       "      <th>60</th>\n",
       "      <td>5.0</td>\n",
       "      <td>2.0</td>\n",
       "      <td>3.5</td>\n",
       "      <td>1.0</td>\n",
       "      <td>versicolor</td>\n",
       "      <td>25.00</td>\n",
       "    </tr>\n",
       "    <tr>\n",
       "      <th>4</th>\n",
       "      <td>5.0</td>\n",
       "      <td>3.6</td>\n",
       "      <td>1.4</td>\n",
       "      <td>0.2</td>\n",
       "      <td>setosa</td>\n",
       "      <td>25.00</td>\n",
       "    </tr>\n",
       "    <tr>\n",
       "      <th>57</th>\n",
       "      <td>4.9</td>\n",
       "      <td>2.4</td>\n",
       "      <td>3.3</td>\n",
       "      <td>1.0</td>\n",
       "      <td>versicolor</td>\n",
       "      <td>24.01</td>\n",
       "    </tr>\n",
       "    <tr>\n",
       "      <th>1</th>\n",
       "      <td>4.9</td>\n",
       "      <td>3.0</td>\n",
       "      <td>1.4</td>\n",
       "      <td>0.2</td>\n",
       "      <td>setosa</td>\n",
       "      <td>24.01</td>\n",
       "    </tr>\n",
       "    <tr>\n",
       "      <th>9</th>\n",
       "      <td>4.9</td>\n",
       "      <td>3.1</td>\n",
       "      <td>1.5</td>\n",
       "      <td>0.1</td>\n",
       "      <td>setosa</td>\n",
       "      <td>24.01</td>\n",
       "    </tr>\n",
       "    <tr>\n",
       "      <th>34</th>\n",
       "      <td>4.9</td>\n",
       "      <td>3.1</td>\n",
       "      <td>1.5</td>\n",
       "      <td>0.2</td>\n",
       "      <td>setosa</td>\n",
       "      <td>24.01</td>\n",
       "    </tr>\n",
       "    <tr>\n",
       "      <th>37</th>\n",
       "      <td>4.9</td>\n",
       "      <td>3.6</td>\n",
       "      <td>1.4</td>\n",
       "      <td>0.1</td>\n",
       "      <td>setosa</td>\n",
       "      <td>24.01</td>\n",
       "    </tr>\n",
       "    <tr>\n",
       "      <th>106</th>\n",
       "      <td>4.9</td>\n",
       "      <td>2.5</td>\n",
       "      <td>4.5</td>\n",
       "      <td>1.7</td>\n",
       "      <td>virginica</td>\n",
       "      <td>24.01</td>\n",
       "    </tr>\n",
       "    <tr>\n",
       "      <th>11</th>\n",
       "      <td>4.8</td>\n",
       "      <td>3.4</td>\n",
       "      <td>1.6</td>\n",
       "      <td>0.2</td>\n",
       "      <td>setosa</td>\n",
       "      <td>23.04</td>\n",
       "    </tr>\n",
       "    <tr>\n",
       "      <th>30</th>\n",
       "      <td>4.8</td>\n",
       "      <td>3.1</td>\n",
       "      <td>1.6</td>\n",
       "      <td>0.2</td>\n",
       "      <td>setosa</td>\n",
       "      <td>23.04</td>\n",
       "    </tr>\n",
       "    <tr>\n",
       "      <th>24</th>\n",
       "      <td>4.8</td>\n",
       "      <td>3.4</td>\n",
       "      <td>1.9</td>\n",
       "      <td>0.2</td>\n",
       "      <td>setosa</td>\n",
       "      <td>23.04</td>\n",
       "    </tr>\n",
       "    <tr>\n",
       "      <th>45</th>\n",
       "      <td>4.8</td>\n",
       "      <td>3.0</td>\n",
       "      <td>1.4</td>\n",
       "      <td>0.3</td>\n",
       "      <td>setosa</td>\n",
       "      <td>23.04</td>\n",
       "    </tr>\n",
       "    <tr>\n",
       "      <th>12</th>\n",
       "      <td>4.8</td>\n",
       "      <td>3.0</td>\n",
       "      <td>1.4</td>\n",
       "      <td>0.1</td>\n",
       "      <td>setosa</td>\n",
       "      <td>23.04</td>\n",
       "    </tr>\n",
       "    <tr>\n",
       "      <th>29</th>\n",
       "      <td>4.7</td>\n",
       "      <td>3.2</td>\n",
       "      <td>1.6</td>\n",
       "      <td>0.2</td>\n",
       "      <td>setosa</td>\n",
       "      <td>22.09</td>\n",
       "    </tr>\n",
       "    <tr>\n",
       "      <th>2</th>\n",
       "      <td>4.7</td>\n",
       "      <td>3.2</td>\n",
       "      <td>1.3</td>\n",
       "      <td>0.2</td>\n",
       "      <td>setosa</td>\n",
       "      <td>22.09</td>\n",
       "    </tr>\n",
       "    <tr>\n",
       "      <th>22</th>\n",
       "      <td>4.6</td>\n",
       "      <td>3.6</td>\n",
       "      <td>1.0</td>\n",
       "      <td>0.2</td>\n",
       "      <td>setosa</td>\n",
       "      <td>21.16</td>\n",
       "    </tr>\n",
       "    <tr>\n",
       "      <th>6</th>\n",
       "      <td>4.6</td>\n",
       "      <td>3.4</td>\n",
       "      <td>1.4</td>\n",
       "      <td>0.3</td>\n",
       "      <td>setosa</td>\n",
       "      <td>21.16</td>\n",
       "    </tr>\n",
       "    <tr>\n",
       "      <th>47</th>\n",
       "      <td>4.6</td>\n",
       "      <td>3.2</td>\n",
       "      <td>1.4</td>\n",
       "      <td>0.2</td>\n",
       "      <td>setosa</td>\n",
       "      <td>21.16</td>\n",
       "    </tr>\n",
       "    <tr>\n",
       "      <th>3</th>\n",
       "      <td>4.6</td>\n",
       "      <td>3.1</td>\n",
       "      <td>1.5</td>\n",
       "      <td>0.2</td>\n",
       "      <td>setosa</td>\n",
       "      <td>21.16</td>\n",
       "    </tr>\n",
       "    <tr>\n",
       "      <th>41</th>\n",
       "      <td>4.5</td>\n",
       "      <td>2.3</td>\n",
       "      <td>1.3</td>\n",
       "      <td>0.3</td>\n",
       "      <td>setosa</td>\n",
       "      <td>20.25</td>\n",
       "    </tr>\n",
       "    <tr>\n",
       "      <th>42</th>\n",
       "      <td>4.4</td>\n",
       "      <td>3.2</td>\n",
       "      <td>1.3</td>\n",
       "      <td>0.2</td>\n",
       "      <td>setosa</td>\n",
       "      <td>19.36</td>\n",
       "    </tr>\n",
       "    <tr>\n",
       "      <th>38</th>\n",
       "      <td>4.4</td>\n",
       "      <td>3.0</td>\n",
       "      <td>1.3</td>\n",
       "      <td>0.2</td>\n",
       "      <td>setosa</td>\n",
       "      <td>19.36</td>\n",
       "    </tr>\n",
       "    <tr>\n",
       "      <th>8</th>\n",
       "      <td>4.4</td>\n",
       "      <td>2.9</td>\n",
       "      <td>1.4</td>\n",
       "      <td>0.2</td>\n",
       "      <td>setosa</td>\n",
       "      <td>19.36</td>\n",
       "    </tr>\n",
       "    <tr>\n",
       "      <th>13</th>\n",
       "      <td>4.3</td>\n",
       "      <td>3.0</td>\n",
       "      <td>1.1</td>\n",
       "      <td>0.1</td>\n",
       "      <td>setosa</td>\n",
       "      <td>18.49</td>\n",
       "    </tr>\n",
       "  </tbody>\n",
       "</table>\n",
       "<p>150 rows × 6 columns</p>\n",
       "</div>"
      ],
      "text/plain": [
       "     Sepal.Length  Sepal.Width  Petal.Length  Petal.Width     Species    SL2\n",
       "131           7.9          3.8           6.4          2.0   virginica  62.41\n",
       "135           7.7          3.0           6.1          2.3   virginica  59.29\n",
       "122           7.7          2.8           6.7          2.0   virginica  59.29\n",
       "117           7.7          3.8           6.7          2.2   virginica  59.29\n",
       "118           7.7          2.6           6.9          2.3   virginica  59.29\n",
       "105           7.6          3.0           6.6          2.1   virginica  57.76\n",
       "130           7.4          2.8           6.1          1.9   virginica  54.76\n",
       "107           7.3          2.9           6.3          1.8   virginica  53.29\n",
       "125           7.2          3.2           6.0          1.8   virginica  51.84\n",
       "109           7.2          3.6           6.1          2.5   virginica  51.84\n",
       "129           7.2          3.0           5.8          1.6   virginica  51.84\n",
       "102           7.1          3.0           5.9          2.1   virginica  50.41\n",
       "50            7.0          3.2           4.7          1.4  versicolor  49.00\n",
       "120           6.9          3.2           5.7          2.3   virginica  47.61\n",
       "52            6.9          3.1           4.9          1.5  versicolor  47.61\n",
       "139           6.9          3.1           5.4          2.1   virginica  47.61\n",
       "141           6.9          3.1           5.1          2.3   virginica  47.61\n",
       "143           6.8          3.2           5.9          2.3   virginica  46.24\n",
       "76            6.8          2.8           4.8          1.4  versicolor  46.24\n",
       "112           6.8          3.0           5.5          2.1   virginica  46.24\n",
       "86            6.7          3.1           4.7          1.5  versicolor  44.89\n",
       "77            6.7          3.0           5.0          1.7  versicolor  44.89\n",
       "140           6.7          3.1           5.6          2.4   virginica  44.89\n",
       "144           6.7          3.3           5.7          2.5   virginica  44.89\n",
       "108           6.7          2.5           5.8          1.8   virginica  44.89\n",
       "145           6.7          3.0           5.2          2.3   virginica  44.89\n",
       "124           6.7          3.3           5.7          2.1   virginica  44.89\n",
       "65            6.7          3.1           4.4          1.4  versicolor  44.89\n",
       "58            6.6          2.9           4.6          1.3  versicolor  43.56\n",
       "75            6.6          3.0           4.4          1.4  versicolor  43.56\n",
       "..            ...          ...           ...          ...         ...    ...\n",
       "49            5.0          3.3           1.4          0.2      setosa  25.00\n",
       "25            5.0          3.0           1.6          0.2      setosa  25.00\n",
       "93            5.0          2.3           3.3          1.0  versicolor  25.00\n",
       "35            5.0          3.2           1.2          0.2      setosa  25.00\n",
       "40            5.0          3.5           1.3          0.3      setosa  25.00\n",
       "7             5.0          3.4           1.5          0.2      setosa  25.00\n",
       "60            5.0          2.0           3.5          1.0  versicolor  25.00\n",
       "4             5.0          3.6           1.4          0.2      setosa  25.00\n",
       "57            4.9          2.4           3.3          1.0  versicolor  24.01\n",
       "1             4.9          3.0           1.4          0.2      setosa  24.01\n",
       "9             4.9          3.1           1.5          0.1      setosa  24.01\n",
       "34            4.9          3.1           1.5          0.2      setosa  24.01\n",
       "37            4.9          3.6           1.4          0.1      setosa  24.01\n",
       "106           4.9          2.5           4.5          1.7   virginica  24.01\n",
       "11            4.8          3.4           1.6          0.2      setosa  23.04\n",
       "30            4.8          3.1           1.6          0.2      setosa  23.04\n",
       "24            4.8          3.4           1.9          0.2      setosa  23.04\n",
       "45            4.8          3.0           1.4          0.3      setosa  23.04\n",
       "12            4.8          3.0           1.4          0.1      setosa  23.04\n",
       "29            4.7          3.2           1.6          0.2      setosa  22.09\n",
       "2             4.7          3.2           1.3          0.2      setosa  22.09\n",
       "22            4.6          3.6           1.0          0.2      setosa  21.16\n",
       "6             4.6          3.4           1.4          0.3      setosa  21.16\n",
       "47            4.6          3.2           1.4          0.2      setosa  21.16\n",
       "3             4.6          3.1           1.5          0.2      setosa  21.16\n",
       "41            4.5          2.3           1.3          0.3      setosa  20.25\n",
       "42            4.4          3.2           1.3          0.2      setosa  19.36\n",
       "38            4.4          3.0           1.3          0.2      setosa  19.36\n",
       "8             4.4          2.9           1.4          0.2      setosa  19.36\n",
       "13            4.3          3.0           1.1          0.1      setosa  18.49\n",
       "\n",
       "[150 rows x 6 columns]"
      ]
     },
     "execution_count": 19,
     "metadata": {},
     "output_type": "execute_result"
    }
   ],
   "source": [
    "d3 = data.sort_values(by=['Sepal.Length'], ascending=False)\n",
    "d3"
   ]
  },
  {
   "cell_type": "code",
   "execution_count": 20,
   "metadata": {},
   "outputs": [
    {
     "name": "stdout",
     "output_type": "stream",
     "text": [
      "(777, 19)\n",
      "\n",
      "  TOTAL (777, 19) colleges\n",
      "    PRIVATE COLLEGES / (565, 19)\n",
      "    PUBLIC COLLEGES / (212, 19)\n",
      "\n"
     ]
    }
   ],
   "source": [
    "# 연습문제. data02_college.csv를 열고 다음의 질문에 답하라\n",
    "# 1) 얼마나 많은 대학들이 있는가? 얼마나 많은 사립과 공립 학교들이 있는가?\n",
    "\n",
    "import numpy as np\n",
    "import scipy as sp\n",
    "import pandas as pd\n",
    "import matplotlib.pyplot as plt\n",
    "\n",
    "college_data = pd.read_csv('scripts_used/data02_college.csv')\n",
    "print(college_data.shape)\n",
    "\n",
    "colld_private = college_data[ college_data['Private']=='Yes' ]\n",
    "colld_public = college_data[ college_data['Private']=='No' ]\n",
    "\n",
    "print(f'''\n",
    "  TOTAL {college_data.shape} colleges\n",
    "    PRIVATE COLLEGES / {colld_private.shape}\n",
    "    PUBLIC COLLEGES / {colld_public.shape}\n",
    "''')"
   ]
  },
  {
   "cell_type": "code",
   "execution_count": 21,
   "metadata": {},
   "outputs": [
    {
     "name": "stdout",
     "output_type": "stream",
     "text": [
      "\n",
      "  AVG EXPEND\n",
      "    PRIVATE COLLEGE / 10486.353982300885\n",
      "    PUBLIC COLLEGE / 7458.316037735849\n",
      "\n"
     ]
    }
   ],
   "source": [
    "# 2) 공립과 사립대학의 평균지출은 얼마나 되는가?\n",
    "\n",
    "avgexp_private = colld_private['Expend'].mean()\n",
    "avgexp_public = colld_public['Expend'].mean()\n",
    "\n",
    "print(f'''\n",
    "  AVG EXPEND\n",
    "    PRIVATE COLLEGE / {avgexp_private}\n",
    "    PUBLIC COLLEGE / {avgexp_public}\n",
    "''')"
   ]
  },
  {
   "cell_type": "code",
   "execution_count": 22,
   "metadata": {},
   "outputs": [
    {
     "name": "stdout",
     "output_type": "stream",
     "text": [
      "354    Massachusetts Institute of Technology\n",
      "605     University of California at Berkeley\n",
      "251                      Harvey Mudd College\n",
      "775                          Yale University\n",
      "174                          Duke University\n",
      "459                     Princeton University\n",
      "250                       Harvard University\n",
      "222          Georgia Institute of Technology\n",
      "158                        Dartmouth College\n",
      "70                          Brown University\n",
      "Name: University, dtype: object\n"
     ]
    }
   ],
   "source": [
    "# 3) 고교 상위 10프로 기준으로 볼 때 상위권 10개 대학은?\n",
    "\n",
    "top10_10 = college_data.sort_values(by=['Top10perc'], ascending=False)\n",
    "top10_10 = top10_10.iloc[:10, 0]\n",
    "print(top10_10)"
   ]
  },
  {
   "cell_type": "code",
   "execution_count": 23,
   "metadata": {},
   "outputs": [
    {
     "name": "stdout",
     "output_type": "stream",
     "text": [
      "459     Princeton University\n",
      "250       Harvard University\n",
      "775          Yale University\n",
      "16           Amherst College\n",
      "70          Brown University\n",
      "221    Georgetown University\n",
      "158        Dartmouth College\n",
      "174          Duke University\n",
      "144      Columbia University\n",
      "763         Williams College\n",
      "Name: University, dtype: object\n"
     ]
    }
   ],
   "source": [
    "# 4) 응답비율로 볼 때 상위 10위 대학은?\n",
    "\n",
    "acpt_ratio = college_data['Accept'] / college_data['Apps']\n",
    "college_data['AcceptRatio'] = acpt_ratio\n",
    "\n",
    "top10_acpt = college_data.sort_values(by=['AcceptRatio'])\n",
    "top10_acpt = top10_acpt.iloc[:10, 0]\n",
    "print(top10_acpt)"
   ]
  },
  {
   "cell_type": "markdown",
   "metadata": {},
   "source": [
    "# 확률\n",
    "\n",
    "모집단을 가상의 인원그룹으로 가정하자.\n",
    "이 때, 모집단 인원들의 키와 성별을 특성으로 알 수 있다고 가정하자.\n",
    "그렇다면 모집단의 키는 연속형 데이터이고 성별은 범주형 자료가 된다.\n",
    "\n",
    "이 때, 모집단에서 임의로 사람을 선택(샘플)한다고 할 때,\n",
    "뽑힌 사람의 키와 성별은 어떤 모습으로 나타날까?\n",
    "* 모집단의 연속형 데이터 분포에 따라 샘플의 값을 확률적으로 추정해보는 함수를 확률밀도함수(PDF)라 하고,\n",
    "  * 키는 연속형 데이터로 확률밀도함수에 따라 샘플값을 예측해 볼 수 있다.\n",
    "* 모집단의 범주형 데이터 분포에 따라 샘플의 값을 확률적으로 추정해보는 함수를 확률질량함수(PMF)라 한다.\n",
    "  * 성별은 범주형 데이터로 샘플이 남성/여성의 값을 가질 확률은 확률질량함수를 통해 예측해 볼 수 있다.\n",
    "\n",
    "우리가 많이 들어본 정규분포라는 것은 확률밀도함수의 특별한 예이다.\n",
    "\n",
    "---\n",
    "우리가 모집단의 모든 구성에 대해서 알고 있을 때,\n",
    "임의추출로 뽑힌 개별 샘플의 데이터 값을 확률적으로 추측해보는 것이 확률이라면,\n",
    "\n",
    "임의추출로 뽑힌 관측 자료를 바탕으로,\n",
    "모집단의 구성을 추측해보는 것이 바로 통계적 접근이다.\n",
    "먼저 이하에서는 확률적 접근을 알아본다"
   ]
  },
  {
   "cell_type": "markdown",
   "metadata": {},
   "source": [
    "## 기대값(Expectation)과 분산(Variance)\n",
    "\n",
    "* Expectation(average, mean): 값이 뭐냐\n",
    "* Variance (std.deviation): 얼마나 변화하느냐\n",
    "\n",
    "매번 확률분포를 그리기 어려우니,\n",
    "(E, V) 값으로 그 개략적인 모습을 전달한다."
   ]
  },
  {
   "cell_type": "code",
   "execution_count": 24,
   "metadata": {},
   "outputs": [
    {
     "name": "stdout",
     "output_type": "stream",
     "text": [
      "\n",
      "  AVG: 0.48587792760014564\n",
      "  VAR: 0.08667227762068982\n",
      "\n"
     ]
    },
    {
     "data": {
      "text/plain": [
       "(array([11., 12.,  9.,  6., 13., 10., 10., 10.,  7., 12.]),\n",
       " array([1.14374817e-04, 9.89890462e-02, 1.97863718e-01, 2.96738389e-01,\n",
       "        3.95613060e-01, 4.94487732e-01, 5.93362403e-01, 6.92237075e-01,\n",
       "        7.91111746e-01, 8.89986417e-01, 9.88861089e-01]),\n",
       " <a list of 10 Patch objects>)"
      ]
     },
     "execution_count": 24,
     "metadata": {},
     "output_type": "execute_result"
    },
    {
     "data": {
      "image/png": "[encoded data removed]",
      "text/plain": [
       "<Figure size 432x288 with 1 Axes>"
      ]
     },
     "metadata": {
      "needs_background": "light"
     },
     "output_type": "display_data"
    }
   ],
   "source": [
    "# 그렇다면, 균등분포 아래서 평균과 분산 값을 도출해보자\n",
    "\n",
    "import numpy as np\n",
    "import matplotlib.pyplot as plt\n",
    "\n",
    "# 난수를 균등하게 분포하도록 생성해보자\n",
    "np.random.seed(1)\n",
    "u = np.random.rand(100)\n",
    "\n",
    "# 평균과 분산을 구해본다면?\n",
    "print(f'''\n",
    "  AVG: {u.mean()}\n",
    "  VAR: {u.var()}\n",
    "''')\n",
    "\n",
    "plt.hist(u)"
   ]
  },
  {
   "cell_type": "markdown",
   "metadata": {},
   "source": [
    "## 정규분포 (Normal Distribution)\n",
    "\n",
    "* 표기법은 N(E, V) 형태로,\n",
    "* 중심극한정리(Central Limit Theorem)란\n",
    "  * 동일한 확률분포를 지니는 독립된 확률변수(IID, Independent and Identically Distributed) N개의 분포는 N이 충분히 크다면, 정규분포를 따른다.\n",
    "  * 표본의 크기가 충분히 크다면, 표본평균의 분포는 모집단의 분포와 상관없이, 정규 분포의 모양을 따르고, 이 때 표본평균은 모집단의 평균과, 표본 표준편차는 모집단의 표준편차를 표본크기 제곱근으로 나눈 값과 같다."
   ]
  },
  {
   "cell_type": "code",
   "execution_count": 25,
   "metadata": {},
   "outputs": [
    {
     "name": "stdout",
     "output_type": "stream",
     "text": [
      "\n",
      "  MEAN: 0.060582852075698704\n",
      "  VAR: 0.7835015228846668\n",
      "\n"
     ]
    },
    {
     "data": {
      "text/plain": [
       "(array([ 3.,  1.,  6., 17., 19., 20., 14., 12.,  5.,  3.]),\n",
       " array([-2.3015387 , -1.85282729, -1.40411588, -0.95540447, -0.50669306,\n",
       "        -0.05798165,  0.39072977,  0.83944118,  1.28815259,  1.736864  ,\n",
       "         2.18557541]),\n",
       " <a list of 10 Patch objects>)"
      ]
     },
     "execution_count": 25,
     "metadata": {},
     "output_type": "execute_result"
    },
    {
     "data": {
      "image/png": "[encoded data removed]",
      "text/plain": [
       "<Figure size 432x288 with 1 Axes>"
      ]
     },
     "metadata": {
      "needs_background": "light"
     },
     "output_type": "display_data"
    }
   ],
   "source": [
    "# 정규분포를 만들어보자\n",
    "\n",
    "np.random.seed(1)\n",
    "z = np.random.randn(100)\n",
    "\n",
    "print(f'''\n",
    "  MEAN: {z.mean()}\n",
    "  VAR: {z.var()}\n",
    "''')\n",
    "\n",
    "plt.hist(z)"
   ]
  },
  {
   "cell_type": "markdown",
   "metadata": {},
   "source": [
    "## 공분산 (Covariance)과 상관계수 (Correlation Coefficient)\n",
    "\n",
    "* 두개의 확률변수 X, Y의 상관정도를 나타내는 값.\n",
    "  * vs 하나의 확률변수 X의 이산정도를 나타내는 값과는 구별\n",
    "* 확률변수 X의 증감에 대한 확률변수 Y의 증감의 경향\n",
    "\n",
    "만약 2개의 변수중 하나의 값이 상승하는 경향을 보일 때, 다른 값도 상승하는 경향의 상관관계에 있다면, 공분산의 값은 양수가 될 것이다. 반대로 2개의 변수중 하나의 값이 상승하는 경향을 보일 때, 다른 값이 하강하는 경향을 보인다면 공분산의 값은 음수가 된다. \n",
    "\n",
    "이렇게 공분산은 상관관계의 상승 혹은 하강하는 경향을 이해할 수 있으나 2개 변수의 측정 단위의 크기에 따라 값이 달라지므로 상관분석을 통해 정도를 파악하기에는 부적절하다. \n",
    "ex) 키를 cm으로 할 때와 m로 할 때 몸무게와 키 사이의 공분산 값이 100배 차이가 난다.\n",
    "\n",
    "해서, 공분산을 X, Y의 표준편차의 곱으로 나누어, 상관계수로 정의해 사용한다. 상관계수는 X, Y의 선형관계의 강도에 대한 측정이다."
   ]
  },
  {
   "cell_type": "code",
   "execution_count": 26,
   "metadata": {},
   "outputs": [
    {
     "name": "stdout",
     "output_type": "stream",
     "text": [
      "\n",
      "  COV: [[ 1.10507863 -0.20160427]\n",
      " [-0.20160427  1.08705824]]\n",
      "  CORRCOEF: [[ 1.         -0.18394023]\n",
      " [-0.18394023  1.        ]]\n",
      "\n"
     ]
    },
    {
     "data": {
      "image/png": "[encoded data removed]",
      "text/plain": [
       "<Figure size 432x288 with 1 Axes>"
      ]
     },
     "metadata": {
      "needs_background": "light"
     },
     "output_type": "display_data"
    }
   ],
   "source": [
    "# 공분산\n",
    "\n",
    "np.random.seed(2)\n",
    "x = np.random.randn(50)\n",
    "y = np.random.randn(50)\n",
    "\n",
    "plt.plot(x, y, 'bo')\n",
    "print(f'''\n",
    "  COV: {np.cov(x, y)}\n",
    "  CORRCOEF: {np.corrcoef(x, y)}\n",
    "''')\n"
   ]
  },
  {
   "cell_type": "code",
   "execution_count": 27,
   "metadata": {},
   "outputs": [
    {
     "name": "stdout",
     "output_type": "stream",
     "text": [
      "\n",
      "  COV: [[2.8280722  1.68404213]\n",
      " [1.68404213 2.63347548]]\n",
      "  CORRCOEF: [[1.         0.61708227]\n",
      " [0.61708227 1.        ]]\n",
      "\n"
     ]
    },
    {
     "data": {
      "image/png": "[encoded data removed]",
      "text/plain": [
       "<Figure size 432x288 with 1 Axes>"
      ]
     },
     "metadata": {
      "needs_background": "light"
     },
     "output_type": "display_data"
    }
   ],
   "source": [
    "z = np.random.randn(50)\n",
    "x = z + np.random.randn(50)\n",
    "y = z + np.random.randn(50)\n",
    "\n",
    "plt.plot(x, y, 'bo')\n",
    "print(f'''\n",
    "  COV: {np.cov(x, y)}\n",
    "  CORRCOEF: {np.corrcoef(x, y)}\n",
    "''')"
   ]
  },
  {
   "cell_type": "code",
   "execution_count": 28,
   "metadata": {},
   "outputs": [
    {
     "name": "stdout",
     "output_type": "stream",
     "text": [
      "\n",
      "  COV: [[11.3122888  10.10425278]\n",
      " [10.10425278 23.70127929]]\n",
      "  CORRCOEF: [[1.         0.61708227]\n",
      " [0.61708227 1.        ]]\n",
      "\n"
     ]
    },
    {
     "data": {
      "image/png": "[encoded data removed]",
      "text/plain": [
       "<Figure size 432x288 with 1 Axes>"
      ]
     },
     "metadata": {
      "needs_background": "light"
     },
     "output_type": "display_data"
    }
   ],
   "source": [
    "\n",
    "x1 = 2 * x\n",
    "y1 = 3 * y\n",
    "\n",
    "plt.plot(x1, y1, 'bo')\n",
    "print(f'''\n",
    "  COV: {np.cov(x1, y1)}\n",
    "  CORRCOEF: {np.corrcoef(x1, y1)}\n",
    "''')"
   ]
  },
  {
   "cell_type": "markdown",
   "metadata": {},
   "source": [
    "## 독립(Independence)\n",
    "\n",
    "독립이란, X와 Y간의 관계가 없다는 것,\n",
    "이해하기 쉽게 설명하면, X 값을 알아도 Y 값을 아는데 도움이 되지 않는다.\n",
    "\n",
    "만약 독립이라면,\n",
    "* Cov(X, Y) = 0 이며, CORRCOEF(X, Y) = 0 이다\n",
    "* E(XY) = E(X)E(Y) 이다\n",
    "* P(X|Y) = P(X)\n",
    "\n",
    "다만, 상관계수가 0이라고 독립은 아니다.\n",
    "X, Y의 관계가 원으로 표현되는 경우를 가정하자.\n",
    "Cov는 0이나, 명백히 X알면 Y를 예측할 수 있으므로 독립은 아니다.\n",
    "\n",
    "어떤 두 확률변수 간의 관계가 독립적임을 증명하는 것은, 일반적으로는 매우 까다로운 작업이다."
   ]
  },
  {
   "cell_type": "markdown",
   "metadata": {},
   "source": [
    "# 통계\n",
    "\n",
    "통계란 관찰된 데이터를 바탕으로 모집단을 알아내기 위한 과학적인 체계(도구)\n",
    "\n",
    "예를 들어보자\n",
    "* 모집단의 확률변수 X의 분포는 N(0,1)을 따르는데,\n",
    "* 5개의 무작위 샘플을 추출했더니, \\[1.40, 0.44, -1.90, -1.05, -0.04\\]\n",
    "* 관찰된 샘플의 평균은 -0.23이지만, 실제 평균은 0\n",
    "* 관찰된 -0.23이 실제로 0을 나타낼 수 있는가?"
   ]
  },
  {
   "cell_type": "markdown",
   "metadata": {},
   "source": [
    "## 표본 평균\n",
    "\n",
    "대표적인 통계랑 중의 하나\n",
    "* 실제 평균은 모집단의 평균이고, 표본 평균이란 관찰된 샘플의 평균을 의미한다\n",
    "* 실제 평균과 가깝지만, 완벽히 같지는 않다.\n",
    "* n이 충분히 클 때, 표본평균의 분포는 정규 분포에 가깝다.\n",
    "* 표본 평균의 평균은 모집단의 평균을 따르고,\n",
    "* 표본 평균의 분산은 모집단 분산을 표본 크기로 나눈 것을 따른다."
   ]
  },
  {
   "cell_type": "markdown",
   "metadata": {},
   "source": [
    "## 표본 분산\n",
    "\n",
    "* 실제 분산은 전체 모집단의 분산\n",
    "* 표본 분산은 관찰된 샘플의 분산\n",
    "* 실제 분산을 따르지만 완전히 같지는 않다\n",
    "* 표본 분산의 평균 및 분산\n",
    "  * 표본 분산의 평균은 모집단 분산에 접근한다 (n-1로 나눈어야 함)\n",
    "  * 표본 분산의 분산은 구하기 매우 어렵다.\n",
    "  "
   ]
  },
  {
   "cell_type": "code",
   "execution_count": 29,
   "metadata": {},
   "outputs": [
    {
     "name": "stdout",
     "output_type": "stream",
     "text": [
      "Variance of Population: 2.0\n",
      "Variance of Sample: 2.5\n"
     ]
    }
   ],
   "source": [
    "# 모집단의 분산과 표본 분산은 계산법이 차이가 난다. (n이냐 n-1이냐)\n",
    "import numpy as np\n",
    "import pandas as pd\n",
    "\n",
    "# 모집단의 분산 구해보기\n",
    "a = np.array([1, 2, 3, 4, 5])\n",
    "print(f'Variance of Population: {a.var()}')\n",
    "\n",
    "# 표본의 분산 구해보기\n",
    "a = pd.Series(a)\n",
    "print(f'Variance of Sample: {a.var()}')"
   ]
  },
  {
   "cell_type": "markdown",
   "metadata": {},
   "source": [
    "## 표본 평균의 신뢰구간\n",
    "\n",
    "* 표본 평균이 모집단 평균에 얼마나 가까운지에 대한 신뢰도\n",
    "* 표본크기와 표본 표준편차에 따라 달라짐\n",
    "  * 모집단 표준편차를 모르는 경우, 표본 표준편차 S를 사용함\n",
    "  * 추정된 표준편차는 S/sqrt(n)로 나타냄\n",
    "* 일반적으로 신뢰구간은 모든 통계치에 적용될 수 있다.\n",
    "  * 그럼에도 일반적인 통계치에 대한 기대값, 분포, 분산을 알지 못하여 적용 어려우나,\n",
    "  * 표본 평균에 대하여서는 전술한 바처럼 잘 알고 있으니, 평균에 적용\n",
    "\n",
    "__Pr(S in S' +/- a) = 95 % 되도록 신뢰구간 a를 결정__\n",
    "* 표본의 평균은 S'이고, 모집단 평균은 S일 때\n",
    "* a는 S' + k * SD(S')이 된다"
   ]
  },
  {
   "cell_type": "markdown",
   "metadata": {},
   "source": [
    "## T-분포\n",
    "* n이 충분히 크지 않다면, t 통계량 (표본평균-모집단평균)/((표본표준편차/제곱근(표본개수)))은 N(0,1)을 따르지 않는다\n",
    "* 전체 모집단이 정규분포를 따른다 가정하면, t는 n-1의 자유도를 가지는 스튜던트 t-분포를 따른다\n",
    "* 전체 모집단이 정규분포를 따르지 않더라도, t분포는 t 값에 대한 좋은 근사치이다."
   ]
  },
  {
   "cell_type": "markdown",
   "metadata": {},
   "source": [
    "## 가설검정\n",
    "* 다음을 테스트하기 원한다\n",
    "  * \"소금물이 어는 온도가 0인지\"\n",
    "* 우리는 모집단 측정 값, 예를 들어 소금물 온도의 모집단 평균과 같은 추정치가 필요\n",
    "* 모집단의 특징은 관측되지 않음\n",
    "  * 표본(관측치) 통계에 기초하여\n",
    "  * 모집단 측정이 필요하는 테스트를 충족하는지 판단해야\n",
    "* 가설 검증: 가설의 통계적 검증\n",
    "  * 귀무가설(H0, Null Hypothesis, 귀무란 일본식 한자어로 \"없음으로 돌아감\"): \"소금물의 어는 점은 0도이다\"\n",
    "  * 대립가설(Ha, Anternative Hypothesis): \"소금물의 어는 점은 0이 아니다\"\n",
    "  * 이제 관측치를 바탕으로 귀무가설을 기각하거나 기각하지 말지를 결정\n",
    "* 가설검증의 단계\n",
    "  * H0와 Ha 공식화\n",
    "  * 적절한 통계량 (z, t, F, 카이-제곱 등) 선택\n",
    "  * 유의 수준을 선택\n",
    "  * 데이터 수집 및 검정 통계량 계산\n",
    "  * 검정 통계량과 관련된 확률 결정(p-값)\n",
    "  * 유의 수준과 비교\n",
    "  * 귀무 가설 H0를 기각여부 결정"
   ]
  },
  {
   "cell_type": "markdown",
   "metadata": {},
   "source": [
    "## 유의 수준과 P-값\n",
    "\n",
    "#### 유의수준\n",
    "* 1종 오류의 확률을 유의 수준이라 함\n",
    "  * 1종 오류\n",
    "    * 모집단에서는 귀무 가설이 성립하지만,\n",
    "    * 표본 결과가 귀무 가설을 기각하도록 유도\n",
    "* 가설검정에 사용되는 유의 수준 값이\n",
    "  * 높을 수록, 모집단에서 성립하는 귀무가설을 기각할 가능성 높아짐\n",
    "  * 일반적으로 1%, 5%, 10% 유의 수준을 사용하나, 필드에 따라 사용수준이 달라짐\n",
    "  \n",
    "#### P-value\n",
    "* 관측된 통계량을 초과할 확률\n",
    "  * 내가 얼마나 불운한가(재수가 없나)의 정도\n",
    "  * 예를 들어 모집단 분포에서 꼬리에 있는 값을 뽑을 확률"
   ]
  },
  {
   "cell_type": "markdown",
   "metadata": {},
   "source": [
    "## T-검정\n",
    "* T통계량을 사용하여 가설을 검정\n",
    "* 테스트\n",
    "  * one-sample test: 평균이 특정한 값과 다른지 여부\n",
    "  * two-sample test: 두 표본 그룹의 평균 차이를 검정"
   ]
  },
  {
   "cell_type": "markdown",
   "metadata": {},
   "source": [
    "# 관계 검정\n",
    "* 2개의 변수 사이의 관계\n",
    "  * 만약 Y<->X 관계가 독립이라면,\n",
    "  * Y의 예측에서 X를 제외해도 무방\n",
    "* \"환율이 매출에 영향을 주는가\""
   ]
  },
  {
   "cell_type": "markdown",
   "metadata": {},
   "source": [
    "## 관계검정: 두 랜덤 변수의 관계\n",
    "\n",
    "* 우리가 예측하고자 하는 Y에 대해,\n",
    "  * 관련되어 보이는 여러 개의 확률변수들 X가 있다\n",
    "  * 이 때, X와 Y가 __진짜 관련성이 있는지__ 어떻게 판단하는가?\n",
    "* 관계 검정:\n",
    "  * 관측된 랜덤 변수를 사용하여\n",
    "  * 두 변수가 전체 모집단에서 관련되는지\n",
    "  * 검정하는 통계 가설 검정\n",
    "\n",
    "![f**k](/notebooks/s01_stat/figures/stats_test.png)\n",
    "\n",
    "참고로, 범주형 변수의 카테고리가 2개이면 t-test, 3개 이상이면 ANOVA를 사용"
   ]
  },
  {
   "cell_type": "markdown",
   "metadata": {},
   "source": [
    "## One-Sample and Two-Sample Test\n",
    "\n",
    "#### One-Sample Test\n",
    "* 특정 값이 표본 평균에서 얼마나 떨어졌는지\n",
    "* 표본 평균이 주어졌을 때, 특정 값이 모집단 평균일 가능성\n",
    "\n",
    "#### Two-Sample Test\n",
    "* 두 표본 그룹에서 표본 평균들이 상이한 정도"
   ]
  },
  {
   "cell_type": "code",
   "execution_count": 30,
   "metadata": {},
   "outputs": [
    {
     "data": {
      "text/plain": [
       "0.03415782015509721"
      ]
     },
     "execution_count": 30,
     "metadata": {},
     "output_type": "execute_result"
    }
   ],
   "source": [
    "import numpy as np\n",
    "import scipy as sp\n",
    "import scipy.stats\n",
    "import pandas as pd\n",
    "import matplotlib.pyplot as plt\n",
    "\n",
    "# one-sample t-test\n",
    "d = np.array([-0.31, -0.67, -0.61, -2.07, -1.31])\n",
    "r = sp.stats.ttest_1samp(d, 0)\n",
    "r.pvalue"
   ]
  },
  {
   "cell_type": "code",
   "execution_count": 31,
   "metadata": {},
   "outputs": [
    {
     "name": "stdout",
     "output_type": "stream",
     "text": [
      "   Sepal.Length  Sepal.Width  Petal.Length  Petal.Width Species\n",
      "0           5.1          3.5           1.4          0.2  setosa\n",
      "1           4.9          3.0           1.4          0.2  setosa\n",
      "2           4.7          3.2           1.3          0.2  setosa\n",
      "3           4.6          3.1           1.5          0.2  setosa\n",
      "4           5.0          3.6           1.4          0.2  setosa\n",
      "(50, 5)\n",
      "5.006\n",
      "Ttest_1sampResult(statistic=20.18071585291251, pvalue=2.1744423549228063e-25)\n"
     ]
    }
   ],
   "source": [
    "# data01_iris.csv에서 setosa 품종의 평균 Sepal Length가 4가 아니라\n",
    "# 는 가설에 대한 p-value를 구하시오\n",
    "\n",
    "iris = pd.read_csv('scripts_used/data01_iris.csv')\n",
    "print(iris.head())\n",
    "\n",
    "d = iris[ iris['Species'] == 'setosa' ]\n",
    "print(d.shape)\n",
    "\n",
    "v = d['Sepal.Length']\n",
    "print(v.mean())\n",
    "\n",
    "d = np.array(v)\n",
    "r = sp.stats.ttest_1samp(v, 4)\n",
    "print(r)"
   ]
  },
  {
   "cell_type": "code",
   "execution_count": 32,
   "metadata": {},
   "outputs": [
    {
     "name": "stdout",
     "output_type": "stream",
     "text": [
      "Ttest_indResult(statistic=2.069674816460064, pvalue=0.05314777655637554)\n",
      "Ttest_indResult(statistic=2.918633894718313, pvalue=0.005878377040444311)\n",
      "Ttest_indResult(statistic=2.918633894718313, pvalue=0.005878377040444311)\n"
     ]
    }
   ],
   "source": [
    "# two-sample t-test\n",
    "\n",
    "np.random.seed(1)\n",
    "x1 = np.random.normal(0.5, 1, 10)    # mean, standard error, count\n",
    "x2 = np.random.normal(-0.5, 1, 10)\n",
    "t = sp.stats.ttest_ind(x1, x2)    # t-test individual\n",
    "print(t)\n",
    "\n",
    "# what is the number of samples for pvalue < 0.01\n",
    "np.random.seed(1)\n",
    "x1 = np.random.normal(0.5, 1, 20)\n",
    "x2 = np.random.normal(-0.5, 1, 20)\n",
    "t = sp.stats.ttest_ind(x1, x2)\n",
    "print(t)\n",
    "\n",
    "np.random.seed(1)\n",
    "x1 = np.random.normal(0, 1, 100)\n",
    "x2 = np.random.normal(0, 1, 100)\n",
    "r = sp.stats.ttest_ind(x1, x2)\n",
    "print(t)\n"
   ]
  },
  {
   "cell_type": "code",
   "execution_count": 33,
   "metadata": {},
   "outputs": [
    {
     "name": "stdout",
     "output_type": "stream",
     "text": [
      "Ttest_indResult(statistic=-10.155865179743653, pvalue=3.6764446310089885e-16)\n"
     ]
    }
   ],
   "source": [
    "# what is the p-value between Petal Length of Versicolor and Virginica\n",
    "# for samples which Petal Legnth > 4\n",
    "\n",
    "versi_morethan4 = iris[\n",
    "    (iris['Species']=='versicolor') &\n",
    "    (iris['Petal.Length'] > 4.0)\n",
    "]\n",
    "virgn_morethan4 = iris[\n",
    "    (iris['Species'] == 'virginica') &\n",
    "    (iris['Petal.Length'] > 4.0)\n",
    "    \n",
    "]\n",
    "\n",
    "t = sp.stats.ttest_ind(\n",
    "    versi_morethan4['Petal.Length'],\n",
    "    virgn_morethan4['Petal.Length']\n",
    ")\n",
    "print(t)"
   ]
  },
  {
   "cell_type": "markdown",
   "metadata": {},
   "source": [
    "## 상관관계 테스트\n",
    "* 두 랜덤변수(확률변수) 간의 관계\n",
    "  * 단일 랜덤 변수의 경우\n",
    "    * 기대값 or 평균 값을 통해 모집단을 대표하는 값이 얼마인지\n",
    "    * 분산 or 표준편차 통해 대표값 중심으로 얼마나 떨어져 분포하는지\n",
    "  * 공분산: 두 랜덤변수 간의 간단한 관계\n",
    "  * 상관계수: 공분산을 가공하여 -1~1 사이 값 가지도록 정규화\n",
    "* 테스트\n",
    "  * 테스트 대상\n",
    "    * 두 샘플 표본의 r 값이 0 인지 아닌지\n",
    "    * 즉 우리가 검증하는 가설은 귀무가설로 두 표본이 상관계수0임을 주장\n",
    "  * 주의, 상관계수의 한계\n",
    "    * 상관계수가 0라는 것이, 두 변수가 독립을 의미하는 것이 아니다.\n",
    "* 담배회사의 소송정책\n",
    "  * 원고는 담배와 폐암의 높은 상관관계를 지적\n",
    "  * 피고인 담배회사는\n",
    "    * 담배 외 다른 요인들에 의한 상관관계임을 지적하고,\n",
    "    * 그러한 요인을 제하고 남은 순수 담배요인과 폐암간 관계는 상관계수 낮음을 주장\n"
   ]
  },
  {
   "cell_type": "code",
   "execution_count": 34,
   "metadata": {},
   "outputs": [
    {
     "data": {
      "text/plain": [
       "[<matplotlib.lines.Line2D at 0xda27b30>]"
      ]
     },
     "execution_count": 34,
     "metadata": {},
     "output_type": "execute_result"
    },
    {
     "data": {
      "image/png": "[encoded data removed]",
      "text/plain": [
       "<Figure size 432x288 with 1 Axes>"
      ]
     },
     "metadata": {
      "needs_background": "light"
     },
     "output_type": "display_data"
    }
   ],
   "source": [
    "# correlation test\n",
    "\n",
    "np.random.seed(2)\n",
    "z = np.random.normal(0, 1, 10)    # mean, standrard error, count\n",
    "x = 1*z + np.random.normal(0, 1, 10)\n",
    "y = 1*z + np.random.normal(0, 1, 10)\n",
    "\n",
    "plt.plot(x, y, 'bo')"
   ]
  },
  {
   "cell_type": "code",
   "execution_count": 35,
   "metadata": {},
   "outputs": [
    {
     "name": "stdout",
     "output_type": "stream",
     "text": [
      "0.6600263801946503\n",
      "0.03781585257560327\n"
     ]
    }
   ],
   "source": [
    "r = sp.stats.pearsonr(x, y)    # Standard Deviation by Pearson\n",
    "print(r[0])    # correlation coefficient\n",
    "print(r[1])    # p-value of correlation test\n",
    "\n",
    "# what makes p-value < 0.001\n",
    "# 1) Total number of Samples\n",
    "# 2) K of k*z + np.random.normal()"
   ]
  },
  {
   "cell_type": "code",
   "execution_count": 36,
   "metadata": {},
   "outputs": [
    {
     "name": "stdout",
     "output_type": "stream",
     "text": [
      "(-0.42844010433053975, 4.5133142672730603e-08)\n"
     ]
    }
   ],
   "source": [
    "r = sp.stats.pearsonr(iris['Sepal.Width'], iris['Petal.Length'])\n",
    "print(r)"
   ]
  },
  {
   "cell_type": "code",
   "execution_count": 37,
   "metadata": {},
   "outputs": [
    {
     "name": "stdout",
     "output_type": "stream",
     "text": [
      "(0.27809835293596963, 0.05052644176398267)\n"
     ]
    }
   ],
   "source": [
    "# What is the correlation and p-value between\n",
    "#    Sepal Length and Petal Width\n",
    "#    of Setosa?\n",
    "\n",
    "seto = iris[ iris['Species']=='setosa' ]\n",
    "r = sp.stats.pearsonr( seto['Sepal.Length'], seto['Petal.Width'] )\n",
    "print(r)"
   ]
  },
  {
   "cell_type": "markdown",
   "metadata": {},
   "source": [
    "## Chi-Square 테스트\n",
    "\n",
    "* vs. 상관관계 테스트\n",
    "  * 상관관계: 두 개의 연속 변수 사이의 관계를 확인\n",
    "  * Chi-Square: 두 범주형 변수 간의 관계를 확인\n",
    "* ex. 고객그룹 vs 작업스타일(옷깃색상)\n",
    "  * X(고객 그룹): 구매 패턴에 따라 A, B, C, D\n",
    "  * Y(작업 스타일): 작업에 따라 흰색/파랑/없음\n",
    "* vs. Fisher's 정확한 테스트\n",
    "  * Chi-Squre 테스트는 정규성 가정에 기초한 근사값\n",
    "  * Fisher의 정확한 테스트는 정확한 다항 분포에 근거하나, 범주 수가 큰 경우 계산 할 수 없음\n",
    "  * 즉, 정확성은 떨어지지만 Chi-Squre 가 더 실용적"
   ]
  },
  {
   "cell_type": "code",
   "execution_count": 38,
   "metadata": {
    "scrolled": false
   },
   "outputs": [],
   "source": [
    "# chisq test\n",
    "\n",
    "np.random.seed(3)\n",
    "w = 1\n",
    "z = np.random.normal(0, 1, 10)    # mean, std. err, count\n",
    "x = w*z + np.random.normal(0, 1, 10)\n",
    "y = w*z + np.random.normal(0, 1, 10)\n",
    "\n",
    "x2 = pd.cut(x, 3)\n",
    "y2 = pd.cut(y, 3)\n",
    "\n",
    "#tbl = pd.crosstab(x2, y2)\n",
    "#r = sp.stats.chisquare(tbl, axis=None)\n",
    "\n",
    "#print(r)\n",
    "\n",
    "# what is the weight for p-value < 0.001?"
   ]
  },
  {
   "cell_type": "code",
   "execution_count": 39,
   "metadata": {},
   "outputs": [],
   "source": [
    "# Sepal.Width와 Petal.Length를\n",
    "# pd.cut을 이용하여 level 4짜리 범주형 데이터로 변형한 후,\n",
    "# chi-square test 를 하여 p-value를 구하시오\n",
    "\n"
   ]
  },
  {
   "cell_type": "markdown",
   "metadata": {},
   "source": [
    "## ANOVA test\n",
    "* 표본 그룹 간에 차이가 있는지 확인\n",
    "  * H0는 각 표분그룹간의 Xa = Xb = Xc 임을 주장\n",
    "* 지역코드 A, B, C가 있고 이 때 판매량이 유의미한 변수인지 확인하려 할 때,\n",
    "  * 만약 판매량(SALES)의 평균 sa=sb=sc라면\n",
    "  * 지역은 판매량과 관련이 없는 확률변수임"
   ]
  },
  {
   "cell_type": "code",
   "execution_count": 40,
   "metadata": {},
   "outputs": [
    {
     "name": "stdout",
     "output_type": "stream",
     "text": [
      "F_onewayResult(statistic=119.26450218450468, pvalue=1.6696691907693826e-31)\n"
     ]
    }
   ],
   "source": [
    "# one-way anova (f-test)\n",
    "\n",
    "iris1 = iris[iris['Species']=='setosa']\n",
    "iris2 = iris[iris['Species']=='versicolor']\n",
    "iris3 = iris[iris['Species']=='virginica']\n",
    "\n",
    "f = sp.stats.f_oneway(\n",
    "    iris1['Sepal.Length'],\n",
    "    iris2['Sepal.Length'],\n",
    "    iris3['Sepal.Length']\n",
    ")\n",
    "\n",
    "print(f)"
   ]
  },
  {
   "cell_type": "code",
   "execution_count": 41,
   "metadata": {},
   "outputs": [
    {
     "name": "stdout",
     "output_type": "stream",
     "text": [
      "F_onewayResult(statistic=110.69115204195691, pvalue=8.985235037487287e-18)\n",
      "Ttest_indResult(statistic=-10.52098626754911, pvalue=8.985235037487079e-18)\n"
     ]
    }
   ],
   "source": [
    "# 카테고리가 두개라면, ttest냐 ftest냐\n",
    "\n",
    "f = sp.stats.f_oneway(iris1['Sepal.Length'], iris2['Sepal.Length'])\n",
    "print(f)\n",
    "\n",
    "t = sp.stats.ttest_ind(iris1['Sepal.Length'], iris2['Sepal.Length'])\n",
    "print(t)"
   ]
  },
  {
   "cell_type": "code",
   "execution_count": 42,
   "metadata": {},
   "outputs": [
    {
     "name": "stdout",
     "output_type": "stream",
     "text": [
      "(0.21681873029884496, 0.030252170801711685)\n",
      "F_onewayResult(statistic=30.84136704786565, pvalue=4.292792406043025e-11)\n",
      "Ttest_indResult(statistic=-1.2458389877357352, pvalue=0.21579373279136352)\n",
      "F_onewayResult(statistic=1.5521147833623936, pvalue=0.21579373279136266)\n",
      "Power_divergenceResult(statistic=32.36, pvalue=5.041450287399375e-06)\n"
     ]
    }
   ],
   "source": [
    "# Practice 2\n",
    "# data04_carseat.csv를 읽고,\n",
    "# Sales와 다른 변수 (SalesBin 제외)들 사이의 관련성을 분석하여 \n",
    "# p-value를 구하시오\n",
    "\n",
    "data = pd.read_csv('scripts_used/data04_carseat.csv')\n",
    "sales = data['Sales']\n",
    "comp_price = data['CompPrice']\n",
    "\n",
    "\n",
    "# Continuous over Continuous\n",
    "r = sp.stats.pearsonr(sales, comp_price)\n",
    "print(r)\n",
    "\n",
    "\n",
    "# Continuous over Category w/ Class 3\n",
    "shloc_good = data[data['ShelveLoc']=='Good']\n",
    "shloc_mid = data[data['ShelveLoc']=='Medium']\n",
    "shloc_bad = data[data['ShelveLoc']=='Bad']\n",
    "f = sp.stats.f_oneway(\n",
    "    shloc_good['Sales'],\n",
    "    shloc_mid['Sales'],\n",
    "    shloc_bad['Sales']\n",
    ")\n",
    "print(f)\n",
    "\n",
    "\n",
    "# Continuous over Category w/ Class 2\n",
    "urb_y = data[data['Urban']=='Yes']\n",
    "urb_n = data[data['Urban']=='No']\n",
    "t = sp.stats.ttest_ind(urb_y['Sales'], urb_n['Sales'])\n",
    "print(t)\n",
    "f = sp.stats.f_oneway(urb_y['Sales'], urb_n['Sales'])\n",
    "print(f)\n",
    "\n",
    "\n",
    "# Category over Category\n",
    "sales_bin = data['SalesBin']\n",
    "shel_loc = data['ShelveLoc']\n",
    "\n",
    "tbl = pd.crosstab(sales_bin, shel_loc)\n",
    "cs = sp.stats.chisquare(tbl, axis=None)\n",
    "print(cs)"
   ]
  },
  {
   "cell_type": "markdown",
   "metadata": {},
   "source": [
    "# 데이터 분석의 기초이론 (개념들)\n",
    " \n",
    "## Statistical Learning\n",
    "* Y = f(X) + err\n",
    "  * X와 Y의 관계를 설명함에 있어 함수 f를 사용\n",
    "  * 모델의 예상치에서 실제 벗어난 값을 설명하는 err\n",
    "\n",
    "* 교육 연수와 연수입의 관계\n",
    "  * 이 때 1차함수 관계로 설명하는 것은 다음의 한계점 갖는다\n",
    "    1. 교육을 덜 받으면 돈을 내고 일할 것인가?\n",
    "    1. 교육을 평생 받으면, 억만금을 받을 것인가?\n",
    "  * 이 경우, 복잡하지만 보다 현실적인 모델은 s자 형태의 그래프일 것\n",
    "  \n",
    "## Parametric vs. Non-Parametric\n",
    "* Parametric\n",
    "  * 전통적인 방법으로 f가 특정한 형태의 함수임을 가정하고 추정\n",
    "  * 가정이 맞다면 작은 샘플로도 충분히 정확한 예측 가능하며 계산량이 적다\n",
    "  * 가정이 틀렸을 때 문제가 된다.\n",
    "* Non-Parametric\n",
    "  * 비전통적 접근법으로 f를 가정하지 않고 찾아감\n",
    "  * 샘플이 충분히 크다면, 결국 f를 찾아낸다\n",
    "  \n",
    "## Trade-off Between Flexibility and Interpretability\n",
    "* 교육연수와 연수입의 관계에서\n",
    "  * s자 곡선이 더 유연하지만,\n",
    "  * 1차함수가 더 해석이 용이다하\n",
    "  \n",
    "## Supervised vs. Unsupervised Learning\n",
    "* Supervised 방식이란, 관계있다고 여겨지는 확률변수X와 그 결과값Y까지 주어지는 것\n",
    "* Supervised 방식에서 정확성은\n",
    "  * MSE로 측정될 수 있다\n",
    "    * Mean Square Error: 시그마(y-f(x))/n\n",
    "\n",
    "## MSEs and Model Flexibility\n",
    "* ![](/notebooks/s01_stat/figures/under_overfit.png)\n",
    "* Underfit: 훈련용자료와 테스트용 자료 모두에서 MSE가 높다\n",
    "* Overfit: 훈련용 자료에서는 MSE 낮지만, Test용 자료에선 높다\n",
    "* Flexibility: 높아질수록 어느 정도까지는 Underfit을 개선하나, 그 시점 이후로는 Overfit을 증가시킬 수 있다.\n",
    "  * 단순하면 Overfitting 줄일 수 있다\n",
    "    * Underfitting보다 Overfitting이 더 까다로운 문제\n",
    "    * Underfitting은 훈련용 자료에서 파악가능하지만, Overfitting은 테스트/실자료를 사용하기 전까지 알 수 없다\n",
    "\n",
    "## Regression and Classification\n",
    "* regressions\n",
    "  * 연속적인 결과outcome에 대한 예측: 키, 급여, 수명 등\n",
    "  * 대표적으로 Linear Regression\n",
    "* classification\n",
    "  * 카테고리 결과에 대한 예측: 성공/실패, 유방암 종류, 선호하는 TV채널\n",
    "  * 대표적으로 Logistic Regression"
   ]
  },
  {
   "cell_type": "markdown",
   "metadata": {},
   "source": [
    "# 선형 회귀 Linear Regression\n",
    "\n",
    "* Y = b0 + b1X\n",
    "  * 절편 b0: intercept\n",
    "  * 계수 b1: coefficient\n",
    "* RSS: Residual Square Sum\n",
    "  * MSE방식\n",
    "  * MSE, RSS와 같은 방식을 Ordinary Least Square방식이라 하는데\n",
    "    * 제곱을 하는 이유는, 음의 에러와 양의 에러가 상쇄되는 것 막기위해\n",
    "    * 절대값이 아닌 제곱의 이유는, 미분이 되는 함수로 만들기 위해\n",
    "      * 그러나 제곱하다보니, Outlier에 취약하다. 제곱배 되어 영향끼침\n",
    "* RMSE\n",
    "  * Root-Mean Square Error, MSE에 제곱근 구한 것\n",
    "  * MSE나 RMSE의 공통된 문제점은,\n",
    "    * ERR의 하한은 0이나 상한은 무한대\n",
    "    * RMSE=10 이라는 말은 무슨 뜻인가?\n",
    "* R-square\n",
    "  * R2 = (TSS - RSS)/TSS = 1 - RSS/TSS\n",
    "    * TSS(Total Sum of Squares): 시그마(제곱(yi - y평균))\n",
    "  * 전체 Y의 변화량 중, X에 의한(모델예측치) 변화량의 비율\n",
    "  * 값의 범위는 0~1이며, 높을수록 모델이 정확하다는 의미\n",
    "  \n",
    "* 실제 계산은 행렬을 이용하여 빠르게\n",
    "\n",
    "## 단순 vs. 다중 회귀분석\n",
    "* 제품매출 증대에 TV, Radio, Newspaper의 광고를 검토한다.\n",
    "* 이 때, 하나의 요인과 매출을 비교한 것이 단순, 복합요인 고려한 것이 다중\n",
    "* 흥미로운 분석결과는,\n",
    "  * 단순 회귀분석에서 낮은 p-value를 지닌 newspaper가\n",
    "  * 다중 회귀분석에서는 높은 p-value를 지닌다는 것\n",
    "  * 이는 뉴스페이퍼와 tv, radio와의 관계로 인해\n",
    "    * 예를 들면, 보통 신문에 광고하면 tv에도 광고"
   ]
  },
  {
   "cell_type": "code",
   "execution_count": 43,
   "metadata": {},
   "outputs": [
    {
     "name": "stdout",
     "output_type": "stream",
     "text": [
      "\n",
      "  COEFFICIENT: [-0.95004935]\n",
      "  INTERCEPT: 34.55384087938309\n",
      "\n"
     ]
    }
   ],
   "source": [
    "import numpy as np\n",
    "import scipy as sp\n",
    "import pandas as pd\n",
    "import matplotlib.pyplot as plt\n",
    "\n",
    "df = pd.read_csv('scripts_used/data05_boston.csv')\n",
    "\n",
    "# simple linear regression\n",
    "from sklearn.linear_model import LinearRegression\n",
    "\n",
    "X = df[ ['lstat'] ]    # DataFrame\n",
    "y = df[ 'medv' ]    # Series\n",
    "\n",
    "lm = LinearRegression()\n",
    "lm.fit(X, y)    # get beta-0 and beta-1: medv = b0 + b1*lstat\n",
    "print(f'''\n",
    "  COEFFICIENT: {lm.coef_}\n",
    "  INTERCEPT: {lm.intercept_}\n",
    "''')\n"
   ]
  },
  {
   "cell_type": "code",
   "execution_count": 44,
   "metadata": {},
   "outputs": [
    {
     "data": {
      "text/plain": [
       "array([25.05334734])"
      ]
     },
     "execution_count": 44,
     "metadata": {},
     "output_type": "execute_result"
    }
   ],
   "source": [
    "lm.predict([[10]])"
   ]
  },
  {
   "cell_type": "code",
   "execution_count": 45,
   "metadata": {},
   "outputs": [
    {
     "name": "stdout",
     "output_type": "stream",
     "text": [
      "\n",
      "  R2: 0.5441462975864797\n",
      "  RMSE: 6.20346413142642\n",
      "\n"
     ]
    }
   ],
   "source": [
    "yhat = lm.predict(X)        # Prediction by using training set\n",
    "r2 = lm.score(X, y)         # R2; Performance Measurement named R-Square\n",
    "rmse = np.sqrt(((y-yhat)**2).mean())\n",
    "\n",
    "print(f'''\n",
    "  R2: {r2}\n",
    "  RMSE: {rmse}\n",
    "''')"
   ]
  },
  {
   "cell_type": "code",
   "execution_count": 46,
   "metadata": {},
   "outputs": [
    {
     "name": "stdout",
     "output_type": "stream",
     "text": [
      "\n",
      "  COEFFICIENT: [-0.66851305  0.00909133  5.01913348]\n",
      "  INTERCEPT: -1.1753114948265058\n",
      "\n",
      "  R2: 0.6390341221591789\n",
      "  RMSE: 5.520197387308065\n",
      "\n"
     ]
    }
   ],
   "source": [
    "# R2, RMSE are Training Error,\n",
    "#   so if you consider more inputs,\n",
    "#   Performance should be better\n",
    "\n",
    "X = df[ ['lstat', 'age', 'rm'] ]\n",
    "y = df['medv']\n",
    "\n",
    "lm = LinearRegression()\n",
    "lm.fit(X,y)\n",
    "\n",
    "yhat = lm.predict(X)\n",
    "r2 = lm.score(X,y)\n",
    "rmse = np.sqrt(((y-yhat)**2).mean())\n",
    "\n",
    "print(f'''\n",
    "  COEFFICIENT: {lm.coef_}\n",
    "  INTERCEPT: {lm.intercept_}\n",
    "\n",
    "  R2: {r2}\n",
    "  RMSE: {rmse}\n",
    "''')"
   ]
  },
  {
   "cell_type": "code",
   "execution_count": 47,
   "metadata": {},
   "outputs": [
    {
     "name": "stdout",
     "output_type": "stream",
     "text": [
      "\n",
      "  COEFFICIENT: [-1.08011358e-01  4.64204584e-02  2.05586264e-02  2.68673382e+00\n",
      " -1.77666112e+01  3.80986521e+00  6.92224640e-04 -1.47556685e+00\n",
      "  3.06049479e-01 -1.23345939e-02 -9.52747232e-01  9.31168327e-03\n",
      " -5.24758378e-01]\n",
      "  INTERCEPT: 36.45948838509017\n",
      "  R2: 0.7406426641094095\n",
      "  RMSE: 4.679191295697281\n",
      "\n"
     ]
    },
    {
     "data": {
      "text/plain": [
       "[<matplotlib.lines.Line2D at 0xcabaa30>]"
      ]
     },
     "execution_count": 47,
     "metadata": {},
     "output_type": "execute_result"
    },
    {
     "data": {
      "image/png": "[encoded data removed]",
      "text/plain": [
       "<Figure size 432x288 with 1 Axes>"
      ]
     },
     "metadata": {
      "needs_background": "light"
     },
     "output_type": "display_data"
    }
   ],
   "source": [
    "# multiple linear regression\n",
    "X = df.iloc[:,0:13]\n",
    "y = df['medv']\n",
    "lm = LinearRegression()\n",
    "lm.fit(X,y)\n",
    "\n",
    "yhat = lm.predict(X)\n",
    "r2 = lm.score(X,y)\n",
    "rmse = np.sqrt(((y-yhat)**2).mean())\n",
    "\n",
    "print(f'''\n",
    "  COEFFICIENT: {lm.coef_}\n",
    "  INTERCEPT: {lm.intercept_}\n",
    "  R2: {r2}\n",
    "  RMSE: {rmse}\n",
    "''')\n",
    "\n",
    "plt.plot(yhat, y, 'bo')"
   ]
  },
  {
   "cell_type": "markdown",
   "metadata": {},
   "source": [
    "__그런데 P value는 어디있는가! 이렇게 중요한 값을 확인할 수 없다니, 뭐 이런 ㅂ.. What the F**K!!!__\n",
    "\n",
    "해서 보다 나은 대안으로 StatsModel을 사용한다"
   ]
  },
  {
   "cell_type": "code",
   "execution_count": 48,
   "metadata": {},
   "outputs": [
    {
     "name": "stderr",
     "output_type": "stream",
     "text": [
      "c:\\users\\sewook\\appdata\\local\\programs\\python\\python36-32\\lib\\site-packages\\numpy\\core\\fromnumeric.py:2389: FutureWarning: Method .ptp is deprecated and will be removed in a future version. Use numpy.ptp instead.\n",
      "  return ptp(axis=axis, out=out, **kwargs)\n"
     ]
    },
    {
     "data": {
      "text/html": [
       "<table class=\"simpletable\">\n",
       "<caption>OLS Regression Results</caption>\n",
       "<tr>\n",
       "  <th>Dep. Variable:</th>          <td>medv</td>       <th>  R-squared:         </th> <td>   0.741</td> \n",
       "</tr>\n",
       "<tr>\n",
       "  <th>Model:</th>                   <td>OLS</td>       <th>  Adj. R-squared:    </th> <td>   0.734</td> \n",
       "</tr>\n",
       "<tr>\n",
       "  <th>Method:</th>             <td>Least Squares</td>  <th>  F-statistic:       </th> <td>   108.1</td> \n",
       "</tr>\n",
       "<tr>\n",
       "  <th>Date:</th>             <td>Wed, 13 Mar 2019</td> <th>  Prob (F-statistic):</th> <td>6.72e-135</td>\n",
       "</tr>\n",
       "<tr>\n",
       "  <th>Time:</th>                 <td>13:04:54</td>     <th>  Log-Likelihood:    </th> <td> -1498.8</td> \n",
       "</tr>\n",
       "<tr>\n",
       "  <th>No. Observations:</th>      <td>   506</td>      <th>  AIC:               </th> <td>   3026.</td> \n",
       "</tr>\n",
       "<tr>\n",
       "  <th>Df Residuals:</th>          <td>   492</td>      <th>  BIC:               </th> <td>   3085.</td> \n",
       "</tr>\n",
       "<tr>\n",
       "  <th>Df Model:</th>              <td>    13</td>      <th>                     </th>     <td> </td>    \n",
       "</tr>\n",
       "<tr>\n",
       "  <th>Covariance Type:</th>      <td>nonrobust</td>    <th>                     </th>     <td> </td>    \n",
       "</tr>\n",
       "</table>\n",
       "<table class=\"simpletable\">\n",
       "<tr>\n",
       "     <td></td>        <th>coef</th>     <th>std err</th>      <th>t</th>      <th>P>|t|</th>  <th>[0.025</th>    <th>0.975]</th>  \n",
       "</tr>\n",
       "<tr>\n",
       "  <th>const</th>   <td>   36.4595</td> <td>    5.103</td> <td>    7.144</td> <td> 0.000</td> <td>   26.432</td> <td>   46.487</td>\n",
       "</tr>\n",
       "<tr>\n",
       "  <th>crim</th>    <td>   -0.1080</td> <td>    0.033</td> <td>   -3.287</td> <td> 0.001</td> <td>   -0.173</td> <td>   -0.043</td>\n",
       "</tr>\n",
       "<tr>\n",
       "  <th>zn</th>      <td>    0.0464</td> <td>    0.014</td> <td>    3.382</td> <td> 0.001</td> <td>    0.019</td> <td>    0.073</td>\n",
       "</tr>\n",
       "<tr>\n",
       "  <th>indus</th>   <td>    0.0206</td> <td>    0.061</td> <td>    0.334</td> <td> 0.738</td> <td>   -0.100</td> <td>    0.141</td>\n",
       "</tr>\n",
       "<tr>\n",
       "  <th>chas</th>    <td>    2.6867</td> <td>    0.862</td> <td>    3.118</td> <td> 0.002</td> <td>    0.994</td> <td>    4.380</td>\n",
       "</tr>\n",
       "<tr>\n",
       "  <th>nox</th>     <td>  -17.7666</td> <td>    3.820</td> <td>   -4.651</td> <td> 0.000</td> <td>  -25.272</td> <td>  -10.262</td>\n",
       "</tr>\n",
       "<tr>\n",
       "  <th>rm</th>      <td>    3.8099</td> <td>    0.418</td> <td>    9.116</td> <td> 0.000</td> <td>    2.989</td> <td>    4.631</td>\n",
       "</tr>\n",
       "<tr>\n",
       "  <th>age</th>     <td>    0.0007</td> <td>    0.013</td> <td>    0.052</td> <td> 0.958</td> <td>   -0.025</td> <td>    0.027</td>\n",
       "</tr>\n",
       "<tr>\n",
       "  <th>dis</th>     <td>   -1.4756</td> <td>    0.199</td> <td>   -7.398</td> <td> 0.000</td> <td>   -1.867</td> <td>   -1.084</td>\n",
       "</tr>\n",
       "<tr>\n",
       "  <th>rad</th>     <td>    0.3060</td> <td>    0.066</td> <td>    4.613</td> <td> 0.000</td> <td>    0.176</td> <td>    0.436</td>\n",
       "</tr>\n",
       "<tr>\n",
       "  <th>tax</th>     <td>   -0.0123</td> <td>    0.004</td> <td>   -3.280</td> <td> 0.001</td> <td>   -0.020</td> <td>   -0.005</td>\n",
       "</tr>\n",
       "<tr>\n",
       "  <th>ptratio</th> <td>   -0.9527</td> <td>    0.131</td> <td>   -7.283</td> <td> 0.000</td> <td>   -1.210</td> <td>   -0.696</td>\n",
       "</tr>\n",
       "<tr>\n",
       "  <th>black</th>   <td>    0.0093</td> <td>    0.003</td> <td>    3.467</td> <td> 0.001</td> <td>    0.004</td> <td>    0.015</td>\n",
       "</tr>\n",
       "<tr>\n",
       "  <th>lstat</th>   <td>   -0.5248</td> <td>    0.051</td> <td>  -10.347</td> <td> 0.000</td> <td>   -0.624</td> <td>   -0.425</td>\n",
       "</tr>\n",
       "</table>\n",
       "<table class=\"simpletable\">\n",
       "<tr>\n",
       "  <th>Omnibus:</th>       <td>178.041</td> <th>  Durbin-Watson:     </th> <td>   1.078</td> \n",
       "</tr>\n",
       "<tr>\n",
       "  <th>Prob(Omnibus):</th> <td> 0.000</td>  <th>  Jarque-Bera (JB):  </th> <td> 783.126</td> \n",
       "</tr>\n",
       "<tr>\n",
       "  <th>Skew:</th>          <td> 1.521</td>  <th>  Prob(JB):          </th> <td>8.84e-171</td>\n",
       "</tr>\n",
       "<tr>\n",
       "  <th>Kurtosis:</th>      <td> 8.281</td>  <th>  Cond. No.          </th> <td>1.51e+04</td> \n",
       "</tr>\n",
       "</table><br/><br/>Warnings:<br/>[1] Standard Errors assume that the covariance matrix of the errors is correctly specified.<br/>[2] The condition number is large, 1.51e+04. This might indicate that there are<br/>strong multicollinearity or other numerical problems."
      ],
      "text/plain": [
       "<class 'statsmodels.iolib.summary.Summary'>\n",
       "\"\"\"\n",
       "                            OLS Regression Results                            \n",
       "==============================================================================\n",
       "Dep. Variable:                   medv   R-squared:                       0.741\n",
       "Model:                            OLS   Adj. R-squared:                  0.734\n",
       "Method:                 Least Squares   F-statistic:                     108.1\n",
       "Date:                Wed, 13 Mar 2019   Prob (F-statistic):          6.72e-135\n",
       "Time:                        13:04:54   Log-Likelihood:                -1498.8\n",
       "No. Observations:                 506   AIC:                             3026.\n",
       "Df Residuals:                     492   BIC:                             3085.\n",
       "Df Model:                          13                                         \n",
       "Covariance Type:            nonrobust                                         \n",
       "==============================================================================\n",
       "                 coef    std err          t      P>|t|      [0.025      0.975]\n",
       "------------------------------------------------------------------------------\n",
       "const         36.4595      5.103      7.144      0.000      26.432      46.487\n",
       "crim          -0.1080      0.033     -3.287      0.001      -0.173      -0.043\n",
       "zn             0.0464      0.014      3.382      0.001       0.019       0.073\n",
       "indus          0.0206      0.061      0.334      0.738      -0.100       0.141\n",
       "chas           2.6867      0.862      3.118      0.002       0.994       4.380\n",
       "nox          -17.7666      3.820     -4.651      0.000     -25.272     -10.262\n",
       "rm             3.8099      0.418      9.116      0.000       2.989       4.631\n",
       "age            0.0007      0.013      0.052      0.958      -0.025       0.027\n",
       "dis           -1.4756      0.199     -7.398      0.000      -1.867      -1.084\n",
       "rad            0.3060      0.066      4.613      0.000       0.176       0.436\n",
       "tax           -0.0123      0.004     -3.280      0.001      -0.020      -0.005\n",
       "ptratio       -0.9527      0.131     -7.283      0.000      -1.210      -0.696\n",
       "black          0.0093      0.003      3.467      0.001       0.004       0.015\n",
       "lstat         -0.5248      0.051    -10.347      0.000      -0.624      -0.425\n",
       "==============================================================================\n",
       "Omnibus:                      178.041   Durbin-Watson:                   1.078\n",
       "Prob(Omnibus):                  0.000   Jarque-Bera (JB):              783.126\n",
       "Skew:                           1.521   Prob(JB):                    8.84e-171\n",
       "Kurtosis:                       8.281   Cond. No.                     1.51e+04\n",
       "==============================================================================\n",
       "\n",
       "Warnings:\n",
       "[1] Standard Errors assume that the covariance matrix of the errors is correctly specified.\n",
       "[2] The condition number is large, 1.51e+04. This might indicate that there are\n",
       "strong multicollinearity or other numerical problems.\n",
       "\"\"\""
      ]
     },
     "execution_count": 48,
     "metadata": {},
     "output_type": "execute_result"
    }
   ],
   "source": [
    "import statsmodels.api as sm\n",
    "X = df.iloc[:,0:13]\n",
    "\n",
    "# While scikit-learn takes intercept in the default model,\n",
    "#    StatsModels doesn't take it by default\n",
    "# If you consider intercept, you should invoke 'add_constant()'\n",
    "X = sm.add_constant(X)\n",
    "y = df['medv']\n",
    "\n",
    "# Ordinary Least Square\n",
    "# This is a sort of constructor\n",
    "f = sm.OLS(y,X)\n",
    "r = f.fit()\n",
    "r.summary()"
   ]
  },
  {
   "cell_type": "code",
   "execution_count": 49,
   "metadata": {},
   "outputs": [
    {
     "data": {
      "text/plain": [
       "const      36.459488\n",
       "crim       -0.108011\n",
       "zn          0.046420\n",
       "indus       0.020559\n",
       "chas        2.686734\n",
       "nox       -17.766611\n",
       "rm          3.809865\n",
       "age         0.000692\n",
       "dis        -1.475567\n",
       "rad         0.306049\n",
       "tax        -0.012335\n",
       "ptratio    -0.952747\n",
       "black       0.009312\n",
       "lstat      -0.524758\n",
       "dtype: float64"
      ]
     },
     "execution_count": 49,
     "metadata": {},
     "output_type": "execute_result"
    }
   ],
   "source": [
    "r.params"
   ]
  },
  {
   "cell_type": "code",
   "execution_count": 50,
   "metadata": {},
   "outputs": [
    {
     "data": {
      "text/plain": [
       "const      3.283438e-12\n",
       "crim       1.086810e-03\n",
       "zn         7.781097e-04\n",
       "indus      7.382881e-01\n",
       "chas       1.925030e-03\n",
       "nox        4.245644e-06\n",
       "rm         1.979441e-18\n",
       "age        9.582293e-01\n",
       "dis        6.013491e-13\n",
       "rad        5.070529e-06\n",
       "tax        1.111637e-03\n",
       "ptratio    1.308835e-12\n",
       "black      5.728592e-04\n",
       "lstat      7.776912e-23\n",
       "dtype: float64"
      ]
     },
     "execution_count": 50,
     "metadata": {},
     "output_type": "execute_result"
    }
   ],
   "source": [
    "r.pvalues"
   ]
  },
  {
   "cell_type": "code",
   "execution_count": 51,
   "metadata": {},
   "outputs": [
    {
     "data": {
      "text/plain": [
       "[<matplotlib.lines.Line2D at 0xe562f10>]"
      ]
     },
     "execution_count": 51,
     "metadata": {},
     "output_type": "execute_result"
    },
    {
     "data": {
      "image/png": "[encoded data removed]",
      "text/plain": [
       "<Figure size 432x288 with 1 Axes>"
      ]
     },
     "metadata": {
      "needs_background": "light"
     },
     "output_type": "display_data"
    }
   ],
   "source": [
    "plt.plot(df['lstat'],df['medv'],'bo')"
   ]
  },
  {
   "cell_type": "code",
   "execution_count": 52,
   "metadata": {},
   "outputs": [
    {
     "name": "stderr",
     "output_type": "stream",
     "text": [
      "c:\\users\\sewook\\appdata\\local\\programs\\python\\python36-32\\lib\\site-packages\\ipykernel_launcher.py:4: SettingWithCopyWarning: \n",
      "A value is trying to be set on a copy of a slice from a DataFrame.\n",
      "Try using .loc[row_indexer,col_indexer] = value instead\n",
      "\n",
      "See the caveats in the documentation: http://pandas.pydata.org/pandas-docs/stable/indexing.html#indexing-view-versus-copy\n",
      "  after removing the cwd from sys.path.\n"
     ]
    },
    {
     "data": {
      "text/html": [
       "<table class=\"simpletable\">\n",
       "<caption>OLS Regression Results</caption>\n",
       "<tr>\n",
       "  <th>Dep. Variable:</th>          <td>medv</td>       <th>  R-squared:         </th> <td>   0.641</td> \n",
       "</tr>\n",
       "<tr>\n",
       "  <th>Model:</th>                   <td>OLS</td>       <th>  Adj. R-squared:    </th> <td>   0.639</td> \n",
       "</tr>\n",
       "<tr>\n",
       "  <th>Method:</th>             <td>Least Squares</td>  <th>  F-statistic:       </th> <td>   448.5</td> \n",
       "</tr>\n",
       "<tr>\n",
       "  <th>Date:</th>             <td>Wed, 13 Mar 2019</td> <th>  Prob (F-statistic):</th> <td>1.56e-112</td>\n",
       "</tr>\n",
       "<tr>\n",
       "  <th>Time:</th>                 <td>13:04:55</td>     <th>  Log-Likelihood:    </th> <td> -1581.3</td> \n",
       "</tr>\n",
       "<tr>\n",
       "  <th>No. Observations:</th>      <td>   506</td>      <th>  AIC:               </th> <td>   3169.</td> \n",
       "</tr>\n",
       "<tr>\n",
       "  <th>Df Residuals:</th>          <td>   503</td>      <th>  BIC:               </th> <td>   3181.</td> \n",
       "</tr>\n",
       "<tr>\n",
       "  <th>Df Model:</th>              <td>     2</td>      <th>                     </th>     <td> </td>    \n",
       "</tr>\n",
       "<tr>\n",
       "  <th>Covariance Type:</th>      <td>nonrobust</td>    <th>                     </th>     <td> </td>    \n",
       "</tr>\n",
       "</table>\n",
       "<table class=\"simpletable\">\n",
       "<tr>\n",
       "     <td></td>       <th>coef</th>     <th>std err</th>      <th>t</th>      <th>P>|t|</th>  <th>[0.025</th>    <th>0.975]</th>  \n",
       "</tr>\n",
       "<tr>\n",
       "  <th>const</th>  <td>   42.8620</td> <td>    0.872</td> <td>   49.149</td> <td> 0.000</td> <td>   41.149</td> <td>   44.575</td>\n",
       "</tr>\n",
       "<tr>\n",
       "  <th>lstat</th>  <td>   -2.3328</td> <td>    0.124</td> <td>  -18.843</td> <td> 0.000</td> <td>   -2.576</td> <td>   -2.090</td>\n",
       "</tr>\n",
       "<tr>\n",
       "  <th>lstat2</th> <td>    0.0435</td> <td>    0.004</td> <td>   11.628</td> <td> 0.000</td> <td>    0.036</td> <td>    0.051</td>\n",
       "</tr>\n",
       "</table>\n",
       "<table class=\"simpletable\">\n",
       "<tr>\n",
       "  <th>Omnibus:</th>       <td>107.006</td> <th>  Durbin-Watson:     </th> <td>   0.921</td>\n",
       "</tr>\n",
       "<tr>\n",
       "  <th>Prob(Omnibus):</th> <td> 0.000</td>  <th>  Jarque-Bera (JB):  </th> <td> 228.388</td>\n",
       "</tr>\n",
       "<tr>\n",
       "  <th>Skew:</th>          <td> 1.128</td>  <th>  Prob(JB):          </th> <td>2.55e-50</td>\n",
       "</tr>\n",
       "<tr>\n",
       "  <th>Kurtosis:</th>      <td> 5.397</td>  <th>  Cond. No.          </th> <td>1.13e+03</td>\n",
       "</tr>\n",
       "</table><br/><br/>Warnings:<br/>[1] Standard Errors assume that the covariance matrix of the errors is correctly specified.<br/>[2] The condition number is large, 1.13e+03. This might indicate that there are<br/>strong multicollinearity or other numerical problems."
      ],
      "text/plain": [
       "<class 'statsmodels.iolib.summary.Summary'>\n",
       "\"\"\"\n",
       "                            OLS Regression Results                            \n",
       "==============================================================================\n",
       "Dep. Variable:                   medv   R-squared:                       0.641\n",
       "Model:                            OLS   Adj. R-squared:                  0.639\n",
       "Method:                 Least Squares   F-statistic:                     448.5\n",
       "Date:                Wed, 13 Mar 2019   Prob (F-statistic):          1.56e-112\n",
       "Time:                        13:04:55   Log-Likelihood:                -1581.3\n",
       "No. Observations:                 506   AIC:                             3169.\n",
       "Df Residuals:                     503   BIC:                             3181.\n",
       "Df Model:                           2                                         \n",
       "Covariance Type:            nonrobust                                         \n",
       "==============================================================================\n",
       "                 coef    std err          t      P>|t|      [0.025      0.975]\n",
       "------------------------------------------------------------------------------\n",
       "const         42.8620      0.872     49.149      0.000      41.149      44.575\n",
       "lstat         -2.3328      0.124    -18.843      0.000      -2.576      -2.090\n",
       "lstat2         0.0435      0.004     11.628      0.000       0.036       0.051\n",
       "==============================================================================\n",
       "Omnibus:                      107.006   Durbin-Watson:                   0.921\n",
       "Prob(Omnibus):                  0.000   Jarque-Bera (JB):              228.388\n",
       "Skew:                           1.128   Prob(JB):                     2.55e-50\n",
       "Kurtosis:                       5.397   Cond. No.                     1.13e+03\n",
       "==============================================================================\n",
       "\n",
       "Warnings:\n",
       "[1] Standard Errors assume that the covariance matrix of the errors is correctly specified.\n",
       "[2] The condition number is large, 1.13e+03. This might indicate that there are\n",
       "strong multicollinearity or other numerical problems.\n",
       "\"\"\""
      ]
     },
     "execution_count": 52,
     "metadata": {},
     "output_type": "execute_result"
    }
   ],
   "source": [
    "# add a new variable\n",
    "X = df[['lstat']]\n",
    "lstat2 = X['lstat']**2\n",
    "X['lstat2'] = lstat2\n",
    "X = sm.add_constant(X)\n",
    "y = df['medv']\n",
    "f = sm.OLS(y,X)\n",
    "r = f.fit()\n",
    "r.summary()"
   ]
  },
  {
   "cell_type": "code",
   "execution_count": 53,
   "metadata": {},
   "outputs": [
    {
     "data": {
      "text/plain": [
       "const     42.862007\n",
       "lstat     -2.332821\n",
       "lstat2     0.043547\n",
       "dtype: float64"
      ]
     },
     "execution_count": 53,
     "metadata": {},
     "output_type": "execute_result"
    }
   ],
   "source": [
    "r.params"
   ]
  },
  {
   "cell_type": "code",
   "execution_count": 54,
   "metadata": {},
   "outputs": [
    {
     "data": {
      "text/plain": [
       "const     3.500749e-194\n",
       "lstat      2.548861e-60\n",
       "lstat2     7.630116e-28\n",
       "dtype: float64"
      ]
     },
     "execution_count": 54,
     "metadata": {},
     "output_type": "execute_result"
    }
   ],
   "source": [
    "r.pvalues"
   ]
  },
  {
   "cell_type": "code",
   "execution_count": 55,
   "metadata": {
    "scrolled": false
   },
   "outputs": [
    {
     "name": "stderr",
     "output_type": "stream",
     "text": [
      "c:\\users\\sewook\\appdata\\local\\programs\\python\\python36-32\\lib\\site-packages\\ipykernel_launcher.py:2: SettingWithCopyWarning: \n",
      "A value is trying to be set on a copy of a slice from a DataFrame.\n",
      "Try using .loc[row_indexer,col_indexer] = value instead\n",
      "\n",
      "See the caveats in the documentation: http://pandas.pydata.org/pandas-docs/stable/indexing.html#indexing-view-versus-copy\n",
      "  \n"
     ]
    },
    {
     "data": {
      "text/html": [
       "<table class=\"simpletable\">\n",
       "<caption>OLS Regression Results</caption>\n",
       "<tr>\n",
       "  <th>Dep. Variable:</th>          <td>medv</td>       <th>  R-squared:         </th> <td>   0.740</td> \n",
       "</tr>\n",
       "<tr>\n",
       "  <th>Model:</th>                   <td>OLS</td>       <th>  Adj. R-squared:    </th> <td>   0.739</td> \n",
       "</tr>\n",
       "<tr>\n",
       "  <th>Method:</th>             <td>Least Squares</td>  <th>  F-statistic:       </th> <td>   476.9</td> \n",
       "</tr>\n",
       "<tr>\n",
       "  <th>Date:</th>             <td>Wed, 13 Mar 2019</td> <th>  Prob (F-statistic):</th> <td>1.75e-146</td>\n",
       "</tr>\n",
       "<tr>\n",
       "  <th>Time:</th>                 <td>13:04:55</td>     <th>  Log-Likelihood:    </th> <td> -1499.2</td> \n",
       "</tr>\n",
       "<tr>\n",
       "  <th>No. Observations:</th>      <td>   506</td>      <th>  AIC:               </th> <td>   3006.</td> \n",
       "</tr>\n",
       "<tr>\n",
       "  <th>Df Residuals:</th>          <td>   502</td>      <th>  BIC:               </th> <td>   3023.</td> \n",
       "</tr>\n",
       "<tr>\n",
       "  <th>Df Model:</th>              <td>     3</td>      <th>                     </th>     <td> </td>    \n",
       "</tr>\n",
       "<tr>\n",
       "  <th>Covariance Type:</th>      <td>nonrobust</td>    <th>                     </th>     <td> </td>    \n",
       "</tr>\n",
       "</table>\n",
       "<table class=\"simpletable\">\n",
       "<tr>\n",
       "      <td></td>        <th>coef</th>     <th>std err</th>      <th>t</th>      <th>P>|t|</th>  <th>[0.025</th>    <th>0.975]</th>  \n",
       "</tr>\n",
       "<tr>\n",
       "  <th>const</th>    <td>  -29.1245</td> <td>    3.342</td> <td>   -8.713</td> <td> 0.000</td> <td>  -35.692</td> <td>  -22.558</td>\n",
       "</tr>\n",
       "<tr>\n",
       "  <th>lstat</th>    <td>    2.1940</td> <td>    0.206</td> <td>   10.666</td> <td> 0.000</td> <td>    1.790</td> <td>    2.598</td>\n",
       "</tr>\n",
       "<tr>\n",
       "  <th>rm</th>       <td>    9.7013</td> <td>    0.500</td> <td>   19.393</td> <td> 0.000</td> <td>    8.718</td> <td>   10.684</td>\n",
       "</tr>\n",
       "<tr>\n",
       "  <th>lstat_rm</th> <td>   -0.4849</td> <td>    0.035</td> <td>  -14.018</td> <td> 0.000</td> <td>   -0.553</td> <td>   -0.417</td>\n",
       "</tr>\n",
       "</table>\n",
       "<table class=\"simpletable\">\n",
       "<tr>\n",
       "  <th>Omnibus:</th>       <td>223.968</td> <th>  Durbin-Watson:     </th> <td>   0.971</td>\n",
       "</tr>\n",
       "<tr>\n",
       "  <th>Prob(Omnibus):</th> <td> 0.000</td>  <th>  Jarque-Bera (JB):  </th> <td>2182.462</td>\n",
       "</tr>\n",
       "<tr>\n",
       "  <th>Skew:</th>          <td> 1.666</td>  <th>  Prob(JB):          </th> <td>    0.00</td>\n",
       "</tr>\n",
       "<tr>\n",
       "  <th>Kurtosis:</th>      <td>12.613</td>  <th>  Cond. No.          </th> <td>1.41e+03</td>\n",
       "</tr>\n",
       "</table><br/><br/>Warnings:<br/>[1] Standard Errors assume that the covariance matrix of the errors is correctly specified.<br/>[2] The condition number is large, 1.41e+03. This might indicate that there are<br/>strong multicollinearity or other numerical problems."
      ],
      "text/plain": [
       "<class 'statsmodels.iolib.summary.Summary'>\n",
       "\"\"\"\n",
       "                            OLS Regression Results                            \n",
       "==============================================================================\n",
       "Dep. Variable:                   medv   R-squared:                       0.740\n",
       "Model:                            OLS   Adj. R-squared:                  0.739\n",
       "Method:                 Least Squares   F-statistic:                     476.9\n",
       "Date:                Wed, 13 Mar 2019   Prob (F-statistic):          1.75e-146\n",
       "Time:                        13:04:55   Log-Likelihood:                -1499.2\n",
       "No. Observations:                 506   AIC:                             3006.\n",
       "Df Residuals:                     502   BIC:                             3023.\n",
       "Df Model:                           3                                         \n",
       "Covariance Type:            nonrobust                                         \n",
       "==============================================================================\n",
       "                 coef    std err          t      P>|t|      [0.025      0.975]\n",
       "------------------------------------------------------------------------------\n",
       "const        -29.1245      3.342     -8.713      0.000     -35.692     -22.558\n",
       "lstat          2.1940      0.206     10.666      0.000       1.790       2.598\n",
       "rm             9.7013      0.500     19.393      0.000       8.718      10.684\n",
       "lstat_rm      -0.4849      0.035    -14.018      0.000      -0.553      -0.417\n",
       "==============================================================================\n",
       "Omnibus:                      223.968   Durbin-Watson:                   0.971\n",
       "Prob(Omnibus):                  0.000   Jarque-Bera (JB):             2182.462\n",
       "Skew:                           1.666   Prob(JB):                         0.00\n",
       "Kurtosis:                      12.613   Cond. No.                     1.41e+03\n",
       "==============================================================================\n",
       "\n",
       "Warnings:\n",
       "[1] Standard Errors assume that the covariance matrix of the errors is correctly specified.\n",
       "[2] The condition number is large, 1.41e+03. This might indicate that there are\n",
       "strong multicollinearity or other numerical problems.\n",
       "\"\"\""
      ]
     },
     "execution_count": 55,
     "metadata": {},
     "output_type": "execute_result"
    }
   ],
   "source": [
    "X = df[['lstat', 'rm']]\n",
    "X['lstat_rm'] = X['lstat'] * X['rm']\n",
    "X = sm.add_constant(X)\n",
    "y = df['medv']\n",
    "f = sm.OLS(y,X)\n",
    "r = f.fit()\n",
    "r.summary()"
   ]
  },
  {
   "cell_type": "markdown",
   "metadata": {},
   "source": [
    "---"
   ]
  },
  {
   "cell_type": "markdown",
   "metadata": {},
   "source": [
    "# 변수 선택\n",
    "* 데이터 중에 p > n 인 데이터: 고차원 데이터\n",
    "  * 일반적으로 유전학에서는 ~ 100명의 환자 vs ~20,000개의 유전자가 있다\n",
    "* 일반적으로 변수 선택은 많은 변수 중에서 중요한 변수를 찾는 데 도움이 된다\n",
    "* 편향-분산 문제\n",
    "  * 변수가 많을수록 유연성이 높아진다\n",
    "  * 많은 변수가 학습 데이터셋에서 RSS를 줄일 수 있지만, 과적합(Overfitting) 발생하는 경향이 있다."
   ]
  },
  {
   "cell_type": "code",
   "execution_count": 56,
   "metadata": {},
   "outputs": [],
   "source": [
    "# training set vs. test set\n",
    "\n",
    "np.random.seed(1)\n",
    "train_idx = list(np.random.choice(np.arange(df.shape[0]), 300, replace=False))\n",
    "test_idx = list(set(np.arange(df.shape[0])).difference(train_idx))\n",
    "\n",
    "dftrain = df.iloc[train_idx, :]\n",
    "dftest = df.iloc[test_idx, :]"
   ]
  },
  {
   "cell_type": "code",
   "execution_count": 57,
   "metadata": {},
   "outputs": [],
   "source": [
    "xtrain = dftrain.iloc[:, :-1]\n",
    "ytrain = dftrain['medv']\n",
    "\n",
    "xtest = dftest.iloc[:, :-1]\n",
    "ytest = dftest['medv']"
   ]
  },
  {
   "cell_type": "code",
   "execution_count": 58,
   "metadata": {},
   "outputs": [
    {
     "name": "stdout",
     "output_type": "stream",
     "text": [
      "4.4879152891380665 5.0528128207168095\n"
     ]
    }
   ],
   "source": [
    "lm = LinearRegression()\n",
    "lm.fit(xtrain, ytrain)\n",
    "\n",
    "yhat_train = lm.predict(xtrain)\n",
    "rmse_train = np.sqrt( ((ytrain-yhat_train)**2).mean())\n",
    "r2_train = lm.score(xtrain, ytrain)\n",
    "\n",
    "yhat_test = lm.predict(xtest)\n",
    "rmse_test = np.sqrt( ((ytest-yhat_test)**2).mean())\n",
    "r2_test = lm.score(xtest, ytest)\n",
    "\n",
    "print(rmse_train, rmse_test)"
   ]
  },
  {
   "cell_type": "markdown",
   "metadata": {},
   "source": [
    "__이제 p value가 낮은 컬럼들을 제거하여 더 간단하면서도 overfitting을 해소할 수 있는 모델을 알아보자__"
   ]
  },
  {
   "cell_type": "code",
   "execution_count": 59,
   "metadata": {},
   "outputs": [
    {
     "name": "stderr",
     "output_type": "stream",
     "text": [
      "c:\\users\\sewook\\appdata\\local\\programs\\python\\python36-32\\lib\\site-packages\\numpy\\core\\fromnumeric.py:2389: FutureWarning: Method .ptp is deprecated and will be removed in a future version. Use numpy.ptp instead.\n",
      "  return ptp(axis=axis, out=out, **kwargs)\n"
     ]
    },
    {
     "data": {
      "text/html": [
       "<table class=\"simpletable\">\n",
       "<caption>OLS Regression Results</caption>\n",
       "<tr>\n",
       "  <th>Dep. Variable:</th>          <td>medv</td>       <th>  R-squared:         </th> <td>   0.763</td>\n",
       "</tr>\n",
       "<tr>\n",
       "  <th>Model:</th>                   <td>OLS</td>       <th>  Adj. R-squared:    </th> <td>   0.753</td>\n",
       "</tr>\n",
       "<tr>\n",
       "  <th>Method:</th>             <td>Least Squares</td>  <th>  F-statistic:       </th> <td>   71.01</td>\n",
       "</tr>\n",
       "<tr>\n",
       "  <th>Date:</th>             <td>Wed, 13 Mar 2019</td> <th>  Prob (F-statistic):</th> <td>1.88e-81</td>\n",
       "</tr>\n",
       "<tr>\n",
       "  <th>Time:</th>                 <td>13:04:55</td>     <th>  Log-Likelihood:    </th> <td> -876.10</td>\n",
       "</tr>\n",
       "<tr>\n",
       "  <th>No. Observations:</th>      <td>   300</td>      <th>  AIC:               </th> <td>   1780.</td>\n",
       "</tr>\n",
       "<tr>\n",
       "  <th>Df Residuals:</th>          <td>   286</td>      <th>  BIC:               </th> <td>   1832.</td>\n",
       "</tr>\n",
       "<tr>\n",
       "  <th>Df Model:</th>              <td>    13</td>      <th>                     </th>     <td> </td>   \n",
       "</tr>\n",
       "<tr>\n",
       "  <th>Covariance Type:</th>      <td>nonrobust</td>    <th>                     </th>     <td> </td>   \n",
       "</tr>\n",
       "</table>\n",
       "<table class=\"simpletable\">\n",
       "<tr>\n",
       "     <td></td>        <th>coef</th>     <th>std err</th>      <th>t</th>      <th>P>|t|</th>  <th>[0.025</th>    <th>0.975]</th>  \n",
       "</tr>\n",
       "<tr>\n",
       "  <th>const</th>   <td>   37.0343</td> <td>    6.499</td> <td>    5.698</td> <td> 0.000</td> <td>   24.242</td> <td>   49.827</td>\n",
       "</tr>\n",
       "<tr>\n",
       "  <th>crim</th>    <td>   -0.1360</td> <td>    0.044</td> <td>   -3.081</td> <td> 0.002</td> <td>   -0.223</td> <td>   -0.049</td>\n",
       "</tr>\n",
       "<tr>\n",
       "  <th>zn</th>      <td>    0.0307</td> <td>    0.017</td> <td>    1.849</td> <td> 0.066</td> <td>   -0.002</td> <td>    0.063</td>\n",
       "</tr>\n",
       "<tr>\n",
       "  <th>indus</th>   <td>    0.0070</td> <td>    0.074</td> <td>    0.095</td> <td> 0.925</td> <td>   -0.138</td> <td>    0.152</td>\n",
       "</tr>\n",
       "<tr>\n",
       "  <th>chas</th>    <td>    3.4536</td> <td>    1.139</td> <td>    3.033</td> <td> 0.003</td> <td>    1.212</td> <td>    5.695</td>\n",
       "</tr>\n",
       "<tr>\n",
       "  <th>nox</th>     <td>  -19.5123</td> <td>    5.122</td> <td>   -3.809</td> <td> 0.000</td> <td>  -29.594</td> <td>   -9.431</td>\n",
       "</tr>\n",
       "<tr>\n",
       "  <th>rm</th>      <td>    4.2473</td> <td>    0.522</td> <td>    8.144</td> <td> 0.000</td> <td>    3.221</td> <td>    5.274</td>\n",
       "</tr>\n",
       "<tr>\n",
       "  <th>age</th>     <td>   -0.0135</td> <td>    0.016</td> <td>   -0.818</td> <td> 0.414</td> <td>   -0.046</td> <td>    0.019</td>\n",
       "</tr>\n",
       "<tr>\n",
       "  <th>dis</th>     <td>   -1.6376</td> <td>    0.253</td> <td>   -6.467</td> <td> 0.000</td> <td>   -2.136</td> <td>   -1.139</td>\n",
       "</tr>\n",
       "<tr>\n",
       "  <th>rad</th>     <td>    0.3192</td> <td>    0.083</td> <td>    3.824</td> <td> 0.000</td> <td>    0.155</td> <td>    0.484</td>\n",
       "</tr>\n",
       "<tr>\n",
       "  <th>tax</th>     <td>   -0.0134</td> <td>    0.005</td> <td>   -2.932</td> <td> 0.004</td> <td>   -0.022</td> <td>   -0.004</td>\n",
       "</tr>\n",
       "<tr>\n",
       "  <th>ptratio</th> <td>   -1.0376</td> <td>    0.160</td> <td>   -6.479</td> <td> 0.000</td> <td>   -1.353</td> <td>   -0.722</td>\n",
       "</tr>\n",
       "<tr>\n",
       "  <th>black</th>   <td>    0.0105</td> <td>    0.003</td> <td>    3.224</td> <td> 0.001</td> <td>    0.004</td> <td>    0.017</td>\n",
       "</tr>\n",
       "<tr>\n",
       "  <th>lstat</th>   <td>   -0.4575</td> <td>    0.063</td> <td>   -7.230</td> <td> 0.000</td> <td>   -0.582</td> <td>   -0.333</td>\n",
       "</tr>\n",
       "</table>\n",
       "<table class=\"simpletable\">\n",
       "<tr>\n",
       "  <th>Omnibus:</th>       <td>86.439</td> <th>  Durbin-Watson:     </th> <td>   1.913</td>\n",
       "</tr>\n",
       "<tr>\n",
       "  <th>Prob(Omnibus):</th> <td> 0.000</td> <th>  Jarque-Bera (JB):  </th> <td> 295.020</td>\n",
       "</tr>\n",
       "<tr>\n",
       "  <th>Skew:</th>          <td> 1.226</td> <th>  Prob(JB):          </th> <td>8.65e-65</td>\n",
       "</tr>\n",
       "<tr>\n",
       "  <th>Kurtosis:</th>      <td> 7.194</td> <th>  Cond. No.          </th> <td>1.54e+04</td>\n",
       "</tr>\n",
       "</table><br/><br/>Warnings:<br/>[1] Standard Errors assume that the covariance matrix of the errors is correctly specified.<br/>[2] The condition number is large, 1.54e+04. This might indicate that there are<br/>strong multicollinearity or other numerical problems."
      ],
      "text/plain": [
       "<class 'statsmodels.iolib.summary.Summary'>\n",
       "\"\"\"\n",
       "                            OLS Regression Results                            \n",
       "==============================================================================\n",
       "Dep. Variable:                   medv   R-squared:                       0.763\n",
       "Model:                            OLS   Adj. R-squared:                  0.753\n",
       "Method:                 Least Squares   F-statistic:                     71.01\n",
       "Date:                Wed, 13 Mar 2019   Prob (F-statistic):           1.88e-81\n",
       "Time:                        13:04:55   Log-Likelihood:                -876.10\n",
       "No. Observations:                 300   AIC:                             1780.\n",
       "Df Residuals:                     286   BIC:                             1832.\n",
       "Df Model:                          13                                         \n",
       "Covariance Type:            nonrobust                                         \n",
       "==============================================================================\n",
       "                 coef    std err          t      P>|t|      [0.025      0.975]\n",
       "------------------------------------------------------------------------------\n",
       "const         37.0343      6.499      5.698      0.000      24.242      49.827\n",
       "crim          -0.1360      0.044     -3.081      0.002      -0.223      -0.049\n",
       "zn             0.0307      0.017      1.849      0.066      -0.002       0.063\n",
       "indus          0.0070      0.074      0.095      0.925      -0.138       0.152\n",
       "chas           3.4536      1.139      3.033      0.003       1.212       5.695\n",
       "nox          -19.5123      5.122     -3.809      0.000     -29.594      -9.431\n",
       "rm             4.2473      0.522      8.144      0.000       3.221       5.274\n",
       "age           -0.0135      0.016     -0.818      0.414      -0.046       0.019\n",
       "dis           -1.6376      0.253     -6.467      0.000      -2.136      -1.139\n",
       "rad            0.3192      0.083      3.824      0.000       0.155       0.484\n",
       "tax           -0.0134      0.005     -2.932      0.004      -0.022      -0.004\n",
       "ptratio       -1.0376      0.160     -6.479      0.000      -1.353      -0.722\n",
       "black          0.0105      0.003      3.224      0.001       0.004       0.017\n",
       "lstat         -0.4575      0.063     -7.230      0.000      -0.582      -0.333\n",
       "==============================================================================\n",
       "Omnibus:                       86.439   Durbin-Watson:                   1.913\n",
       "Prob(Omnibus):                  0.000   Jarque-Bera (JB):              295.020\n",
       "Skew:                           1.226   Prob(JB):                     8.65e-65\n",
       "Kurtosis:                       7.194   Cond. No.                     1.54e+04\n",
       "==============================================================================\n",
       "\n",
       "Warnings:\n",
       "[1] Standard Errors assume that the covariance matrix of the errors is correctly specified.\n",
       "[2] The condition number is large, 1.54e+04. This might indicate that there are\n",
       "strong multicollinearity or other numerical problems.\n",
       "\"\"\""
      ]
     },
     "execution_count": 59,
     "metadata": {},
     "output_type": "execute_result"
    }
   ],
   "source": [
    "X = sm.add_constant(xtrain)\n",
    "y = ytrain\n",
    "\n",
    "f = sm.OLS(y, X)\n",
    "r = f.fit()\n",
    "r.summary()"
   ]
  },
  {
   "cell_type": "code",
   "execution_count": 60,
   "metadata": {},
   "outputs": [],
   "source": [
    "xtrain = dftrain.iloc[:, [0, 1, 3, 4, 5, 7, 8, 9, 10, 11, 12]]\n",
    "ytrain = dftrain['medv']\n",
    "\n",
    "xtest = dftest.iloc[:, [0, 1, 3, 4, 5, 7, 8, 9, 10, 11, 12]]\n",
    "ytest = dftest['medv']"
   ]
  },
  {
   "cell_type": "code",
   "execution_count": 61,
   "metadata": {},
   "outputs": [
    {
     "name": "stdout",
     "output_type": "stream",
     "text": [
      "4.493212205917353 5.036412762233139\n"
     ]
    }
   ],
   "source": [
    "lm = LinearRegression()\n",
    "lm.fit(xtrain, ytrain)\n",
    "\n",
    "yhat_train = lm.predict(xtrain)\n",
    "rmse_train = np.sqrt( ((ytrain-yhat_train)**2).mean())\n",
    "r2_train = lm.score(xtrain, ytrain)\n",
    "\n",
    "yhat_test = lm.predict(xtest)\n",
    "rmse_test = np.sqrt( ((ytest-yhat_test)**2).mean())\n",
    "r2_test = lm.score(xtest, ytest)\n",
    "\n",
    "print(rmse_train, rmse_test)"
   ]
  },
  {
   "cell_type": "markdown",
   "metadata": {},
   "source": [
    "----"
   ]
  },
  {
   "cell_type": "markdown",
   "metadata": {},
   "source": [
    "# 범주형 예측기\n",
    "\n",
    "* 선형 모델에서 X는 범주형 변수가 될 수 있다.\n",
    "  * y = b0 + b1X1 + b2X2 + b3X3 + ... + bnXn + e\n",
    "    * X1: 나이 (연속형)\n",
    "    * X2: 성별 (2단계 범주형 변수, 남/녀)\n",
    "    * X3: 인종 (3단계 범주형 변수, 아시안/코카시안/아프리칸)\n",
    "* 더미 지표 변수를 이용할 수 있다.\n",
    "  * y = b0 + b1X1 + e\n",
    "  * X1가 1이면 여성, 0이면 남성\n",
    "  * 이 경우 b1는 여성일때만 포함되는 여성 효과\n",
    "* 변수가 2개 이상인 경우는?\n",
    "  * y = b0 + b1X11 + b2X12 + e\n",
    "  * X11은 아시안 일 때 1\n",
    "  * X12는 코카시안 일 떄 1\n",
    "  * 그러면 b1은 아시안효과 b2는 코카시안 효과가 된다"
   ]
  },
  {
   "cell_type": "markdown",
   "metadata": {},
   "source": [
    "# 가법 가정을 넘어서\n",
    "* 광고비의 변화는 아이스크림 매출에 효과 있지만, 온도에 따라서 광고비의 기여효과가 다를 것이다. 둘을 동시에 분석할 수 있겠는가?\n",
    "* 가법 모형: y = b0 + b1X1 + b2X2 + e\n",
    "* 상호작용을 고려하면, y = b0 + b1X1 + b2X2 + b3X1X2 + e\n",
    "* 게층적 원칙\n",
    "  * 상호 작용 용어를 포함시키려면 단일 변수가 중요하지 않더라도 원래 변수를 포함해야 한다."
   ]
  },
  {
   "cell_type": "markdown",
   "metadata": {},
   "source": [
    "문제.\n",
    "data01_iris.csv를 읽으시오\n",
    "Sepal Width ~ Sepal.Length + Petal.Length + Petal.Width로\n",
    "선형회귀분석을 수행하시오\n",
    "\n",
    "1. R2와 RMSE 값은 얼마인가?\n",
    "1. 어떤 변수의 제곱형을 추가했을 때, 가장 높은 R2를 갖는 것은 어느 변수인가?\n",
    "1. Sepal.Length와 Petal.Length의 Interaction 항을 추가했을 때, R2는 얼마인가?\n",
    "1. 범주형 변수 Species를 포함시켜 선형 회귀분석을 수행하시오"
   ]
  },
  {
   "cell_type": "code",
   "execution_count": 62,
   "metadata": {},
   "outputs": [
    {
     "data": {
      "text/plain": [
       "LinearRegression(copy_X=True, fit_intercept=True, n_jobs=None,\n",
       "         normalize=False)"
      ]
     },
     "execution_count": 62,
     "metadata": {},
     "output_type": "execute_result"
    }
   ],
   "source": [
    "df = pd.read_csv('./scripts_used/data01_iris.csv')\n",
    "\n",
    "X = df[['Sepal.Length', 'Petal.Length', 'Petal.Width']]\n",
    "y = df['Sepal.Width']\n",
    "\n",
    "lm = LinearRegression()\n",
    "lm.fit(X, y)"
   ]
  },
  {
   "cell_type": "code",
   "execution_count": 63,
   "metadata": {},
   "outputs": [
    {
     "name": "stdout",
     "output_type": "stream",
     "text": [
      "0.5240071007836005\n",
      "0.2997098515259792\n"
     ]
    }
   ],
   "source": [
    "# 1. -----------\n",
    "\n",
    "r2 = lm.score(X,y)\n",
    "\n",
    "print(r2)\n",
    "\n",
    "yhat = lm.predict(X)\n",
    "rmse = np.sqrt(((y-yhat)**2).mean())\n",
    "\n",
    "print(rmse)"
   ]
  },
  {
   "cell_type": "code",
   "execution_count": 64,
   "metadata": {},
   "outputs": [],
   "source": [
    "# 2. ------------\n",
    "\n",
    "spln_sq = df['Sepal.Length']**2\n",
    "ptln_sq = df['Petal.Length']**2\n",
    "ptwd_sq = df['Petal.Width']**2"
   ]
  },
  {
   "cell_type": "code",
   "execution_count": 65,
   "metadata": {},
   "outputs": [
    {
     "name": "stderr",
     "output_type": "stream",
     "text": [
      "c:\\users\\sewook\\appdata\\local\\programs\\python\\python36-32\\lib\\site-packages\\ipykernel_launcher.py:2: SettingWithCopyWarning: \n",
      "A value is trying to be set on a copy of a slice from a DataFrame.\n",
      "Try using .loc[row_indexer,col_indexer] = value instead\n",
      "\n",
      "See the caveats in the documentation: http://pandas.pydata.org/pandas-docs/stable/indexing.html#indexing-view-versus-copy\n",
      "  \n"
     ]
    }
   ],
   "source": [
    "X = df [['Sepal.Length', 'Petal.Length', 'Petal.Width']]\n",
    "X['Sepal.Length.Sqared'] = spln_sq"
   ]
  },
  {
   "cell_type": "code",
   "execution_count": 66,
   "metadata": {},
   "outputs": [
    {
     "name": "stdout",
     "output_type": "stream",
     "text": [
      "0.5242527307669994\n"
     ]
    }
   ],
   "source": [
    "lm = LinearRegression()\n",
    "lm.fit(X,y)\n",
    "r2 = lm.score(X,y)\n",
    "\n",
    "print(r2)"
   ]
  },
  {
   "cell_type": "code",
   "execution_count": 67,
   "metadata": {
    "scrolled": true
   },
   "outputs": [
    {
     "name": "stderr",
     "output_type": "stream",
     "text": [
      "c:\\users\\sewook\\appdata\\local\\programs\\python\\python36-32\\lib\\site-packages\\ipykernel_launcher.py:2: SettingWithCopyWarning: \n",
      "A value is trying to be set on a copy of a slice from a DataFrame.\n",
      "Try using .loc[row_indexer,col_indexer] = value instead\n",
      "\n",
      "See the caveats in the documentation: http://pandas.pydata.org/pandas-docs/stable/indexing.html#indexing-view-versus-copy\n",
      "  \n"
     ]
    }
   ],
   "source": [
    "X = df [['Sepal.Length', 'Petal.Length', 'Petal.Width']]\n",
    "X['Petal.Length.Sqared'] = ptln_sq"
   ]
  },
  {
   "cell_type": "code",
   "execution_count": 68,
   "metadata": {},
   "outputs": [
    {
     "name": "stdout",
     "output_type": "stream",
     "text": [
      "0.5732897933795076\n"
     ]
    }
   ],
   "source": [
    "lm = LinearRegression()\n",
    "lm.fit(X,y)\n",
    "r2 = lm.score(X,y)\n",
    "\n",
    "print(r2)"
   ]
  },
  {
   "cell_type": "code",
   "execution_count": 69,
   "metadata": {},
   "outputs": [
    {
     "name": "stderr",
     "output_type": "stream",
     "text": [
      "c:\\users\\sewook\\appdata\\local\\programs\\python\\python36-32\\lib\\site-packages\\ipykernel_launcher.py:2: SettingWithCopyWarning: \n",
      "A value is trying to be set on a copy of a slice from a DataFrame.\n",
      "Try using .loc[row_indexer,col_indexer] = value instead\n",
      "\n",
      "See the caveats in the documentation: http://pandas.pydata.org/pandas-docs/stable/indexing.html#indexing-view-versus-copy\n",
      "  \n"
     ]
    }
   ],
   "source": [
    "X = df [['Sepal.Length', 'Petal.Length', 'Petal.Width']]\n",
    "X['Petal.Width.Sqared'] = ptwd_sq"
   ]
  },
  {
   "cell_type": "code",
   "execution_count": 70,
   "metadata": {},
   "outputs": [
    {
     "name": "stdout",
     "output_type": "stream",
     "text": [
      "0.5769238401817707\n"
     ]
    }
   ],
   "source": [
    "lm = LinearRegression()\n",
    "lm.fit(X,y)\n",
    "r2 = lm.score(X,y)\n",
    "\n",
    "print(r2)"
   ]
  },
  {
   "cell_type": "code",
   "execution_count": 71,
   "metadata": {},
   "outputs": [
    {
     "name": "stderr",
     "output_type": "stream",
     "text": [
      "c:\\users\\sewook\\appdata\\local\\programs\\python\\python36-32\\lib\\site-packages\\ipykernel_launcher.py:4: SettingWithCopyWarning: \n",
      "A value is trying to be set on a copy of a slice from a DataFrame.\n",
      "Try using .loc[row_indexer,col_indexer] = value instead\n",
      "\n",
      "See the caveats in the documentation: http://pandas.pydata.org/pandas-docs/stable/indexing.html#indexing-view-versus-copy\n",
      "  after removing the cwd from sys.path.\n"
     ]
    }
   ],
   "source": [
    "# 3. ------------\n",
    "\n",
    "X = df [['Sepal.Length', 'Petal.Length', 'Petal.Width']]\n",
    "X['Sepal.Length_Petal.Legnth'] = X['Sepal.Length'] * X['Petal.Length']"
   ]
  },
  {
   "cell_type": "code",
   "execution_count": 72,
   "metadata": {},
   "outputs": [
    {
     "name": "stdout",
     "output_type": "stream",
     "text": [
      "0.5297992085853667\n"
     ]
    }
   ],
   "source": [
    "lm = LinearRegression()\n",
    "lm.fit(X,y)\n",
    "r2 = lm.score(X,y)\n",
    "\n",
    "print(r2)"
   ]
  },
  {
   "cell_type": "code",
   "execution_count": 73,
   "metadata": {},
   "outputs": [
    {
     "name": "stderr",
     "output_type": "stream",
     "text": [
      "c:\\users\\sewook\\appdata\\local\\programs\\python\\python36-32\\lib\\site-packages\\ipykernel_launcher.py:9: SettingWithCopyWarning: \n",
      "A value is trying to be set on a copy of a slice from a DataFrame.\n",
      "Try using .loc[row_indexer,col_indexer] = value instead\n",
      "\n",
      "See the caveats in the documentation: http://pandas.pydata.org/pandas-docs/stable/indexing.html#indexing-view-versus-copy\n",
      "  if __name__ == '__main__':\n"
     ]
    },
    {
     "name": "stdout",
     "output_type": "stream",
     "text": [
      "0.6351610140996667\n"
     ]
    }
   ],
   "source": [
    "# 4. ----------\n",
    "\n",
    "seteff_idx = (df['Species'] == 'setosa')\n",
    "vrgeff_idx = (df['Species'] == 'virginica')\n",
    "\n",
    "X = df [['Sepal.Length', 'Petal.Length', 'Petal.Width']]\n",
    "y = df ['Sepal.Width']\n",
    "\n",
    "X['seteff'] = seteff_idx\n",
    "X['vrgeff'] = vrgeff_idx\n",
    "\n",
    "lm = LinearRegression()\n",
    "lm.fit(X, y)\n",
    "r2 = lm.score(X, y)\n",
    "\n",
    "print(r2)"
   ]
  },
  {
   "cell_type": "code",
   "execution_count": 74,
   "metadata": {},
   "outputs": [
    {
     "name": "stderr",
     "output_type": "stream",
     "text": [
      "c:\\users\\sewook\\appdata\\local\\programs\\python\\python36-32\\lib\\site-packages\\ipykernel_launcher.py:9: SettingWithCopyWarning: \n",
      "A value is trying to be set on a copy of a slice from a DataFrame.\n",
      "Try using .loc[row_indexer,col_indexer] = value instead\n",
      "\n",
      "See the caveats in the documentation: http://pandas.pydata.org/pandas-docs/stable/indexing.html#indexing-view-versus-copy\n",
      "  if __name__ == '__main__':\n",
      "c:\\users\\sewook\\appdata\\local\\programs\\python\\python36-32\\lib\\site-packages\\numpy\\core\\fromnumeric.py:2389: FutureWarning: Method .ptp is deprecated and will be removed in a future version. Use numpy.ptp instead.\n",
      "  return ptp(axis=axis, out=out, **kwargs)\n"
     ]
    },
    {
     "data": {
      "text/html": [
       "<table class=\"simpletable\">\n",
       "<caption>OLS Regression Results</caption>\n",
       "<tr>\n",
       "  <th>Dep. Variable:</th>       <td>Sepal.Width</td>   <th>  R-squared:         </th> <td>   0.635</td>\n",
       "</tr>\n",
       "<tr>\n",
       "  <th>Model:</th>                   <td>OLS</td>       <th>  Adj. R-squared:    </th> <td>   0.622</td>\n",
       "</tr>\n",
       "<tr>\n",
       "  <th>Method:</th>             <td>Least Squares</td>  <th>  F-statistic:       </th> <td>   50.14</td>\n",
       "</tr>\n",
       "<tr>\n",
       "  <th>Date:</th>             <td>Wed, 13 Mar 2019</td> <th>  Prob (F-statistic):</th> <td>7.15e-30</td>\n",
       "</tr>\n",
       "<tr>\n",
       "  <th>Time:</th>                 <td>13:04:55</td>     <th>  Log-Likelihood:    </th> <td> -12.154</td>\n",
       "</tr>\n",
       "<tr>\n",
       "  <th>No. Observations:</th>      <td>   150</td>      <th>  AIC:               </th> <td>   36.31</td>\n",
       "</tr>\n",
       "<tr>\n",
       "  <th>Df Residuals:</th>          <td>   144</td>      <th>  BIC:               </th> <td>   54.37</td>\n",
       "</tr>\n",
       "<tr>\n",
       "  <th>Df Model:</th>              <td>     5</td>      <th>                     </th>     <td> </td>   \n",
       "</tr>\n",
       "<tr>\n",
       "  <th>Covariance Type:</th>      <td>nonrobust</td>    <th>                     </th>     <td> </td>   \n",
       "</tr>\n",
       "</table>\n",
       "<table class=\"simpletable\">\n",
       "<tr>\n",
       "          <td></td>             <th>coef</th>     <th>std err</th>      <th>t</th>      <th>P>|t|</th>  <th>[0.025</th>    <th>0.975]</th>  \n",
       "</tr>\n",
       "<tr>\n",
       "  <th>const</th>             <td>    0.4969</td> <td>    0.264</td> <td>    1.882</td> <td> 0.062</td> <td>   -0.025</td> <td>    1.019</td>\n",
       "</tr>\n",
       "<tr>\n",
       "  <th>Sepal.Length</th>      <td>    0.3778</td> <td>    0.066</td> <td>    5.761</td> <td> 0.000</td> <td>    0.248</td> <td>    0.507</td>\n",
       "</tr>\n",
       "<tr>\n",
       "  <th>Petal.Length</th>      <td>   -0.1876</td> <td>    0.083</td> <td>   -2.246</td> <td> 0.026</td> <td>   -0.353</td> <td>   -0.023</td>\n",
       "</tr>\n",
       "<tr>\n",
       "  <th>Petal.Width</th>       <td>    0.6257</td> <td>    0.123</td> <td>    5.072</td> <td> 0.000</td> <td>    0.382</td> <td>    0.870</td>\n",
       "</tr>\n",
       "<tr>\n",
       "  <th>Species_setosa</th>    <td>    1.1603</td> <td>    0.193</td> <td>    6.003</td> <td> 0.000</td> <td>    0.778</td> <td>    1.542</td>\n",
       "</tr>\n",
       "<tr>\n",
       "  <th>Species_virginica</th> <td>   -0.2380</td> <td>    0.104</td> <td>   -2.283</td> <td> 0.024</td> <td>   -0.444</td> <td>   -0.032</td>\n",
       "</tr>\n",
       "</table>\n",
       "<table class=\"simpletable\">\n",
       "<tr>\n",
       "  <th>Omnibus:</th>       <td> 8.540</td> <th>  Durbin-Watson:     </th> <td>   2.024</td>\n",
       "</tr>\n",
       "<tr>\n",
       "  <th>Prob(Omnibus):</th> <td> 0.014</td> <th>  Jarque-Bera (JB):  </th> <td>  10.898</td>\n",
       "</tr>\n",
       "<tr>\n",
       "  <th>Skew:</th>          <td>-0.356</td> <th>  Prob(JB):          </th> <td> 0.00430</td>\n",
       "</tr>\n",
       "<tr>\n",
       "  <th>Kurtosis:</th>      <td> 4.112</td> <th>  Cond. No.          </th> <td>    98.0</td>\n",
       "</tr>\n",
       "</table><br/><br/>Warnings:<br/>[1] Standard Errors assume that the covariance matrix of the errors is correctly specified."
      ],
      "text/plain": [
       "<class 'statsmodels.iolib.summary.Summary'>\n",
       "\"\"\"\n",
       "                            OLS Regression Results                            \n",
       "==============================================================================\n",
       "Dep. Variable:            Sepal.Width   R-squared:                       0.635\n",
       "Model:                            OLS   Adj. R-squared:                  0.622\n",
       "Method:                 Least Squares   F-statistic:                     50.14\n",
       "Date:                Wed, 13 Mar 2019   Prob (F-statistic):           7.15e-30\n",
       "Time:                        13:04:55   Log-Likelihood:                -12.154\n",
       "No. Observations:                 150   AIC:                             36.31\n",
       "Df Residuals:                     144   BIC:                             54.37\n",
       "Df Model:                           5                                         \n",
       "Covariance Type:            nonrobust                                         \n",
       "=====================================================================================\n",
       "                        coef    std err          t      P>|t|      [0.025      0.975]\n",
       "-------------------------------------------------------------------------------------\n",
       "const                 0.4969      0.264      1.882      0.062      -0.025       1.019\n",
       "Sepal.Length          0.3778      0.066      5.761      0.000       0.248       0.507\n",
       "Petal.Length         -0.1876      0.083     -2.246      0.026      -0.353      -0.023\n",
       "Petal.Width           0.6257      0.123      5.072      0.000       0.382       0.870\n",
       "Species_setosa        1.1603      0.193      6.003      0.000       0.778       1.542\n",
       "Species_virginica    -0.2380      0.104     -2.283      0.024      -0.444      -0.032\n",
       "==============================================================================\n",
       "Omnibus:                        8.540   Durbin-Watson:                   2.024\n",
       "Prob(Omnibus):                  0.014   Jarque-Bera (JB):               10.898\n",
       "Skew:                          -0.356   Prob(JB):                      0.00430\n",
       "Kurtosis:                       4.112   Cond. No.                         98.0\n",
       "==============================================================================\n",
       "\n",
       "Warnings:\n",
       "[1] Standard Errors assume that the covariance matrix of the errors is correctly specified.\n",
       "\"\"\""
      ]
     },
     "execution_count": 74,
     "metadata": {},
     "output_type": "execute_result"
    }
   ],
   "source": [
    "X = df[['Sepal.Length', 'Petal.Length', 'Petal.Width']]\n",
    "\n",
    "x1 = pd.Series(np.zeros(X.shape[0]))\n",
    "x1[ df['Species'] == 'setosa' ] = 1\n",
    "\n",
    "x2 = pd.Series(np.zeros(X.shape[0]))\n",
    "x2[ df['Species'] == 'virginica' ] =1\n",
    "\n",
    "X['Species_setosa'] = x1\n",
    "X['Species_virginica'] = x2\n",
    "y = df['Sepal.Width']\n",
    "\n",
    "X = sm.add_constant(X)\n",
    "f = sm.OLS(y, X)\n",
    "r = f.fit()\n",
    "r.summary()"
   ]
  },
  {
   "cell_type": "markdown",
   "metadata": {},
   "source": [
    "# 분류분석\n",
    "\n",
    "* 회귀가 연속적인 내용을 다룬다면, 분류는 순서없고, 이산적인 카테고리형 데이터를 다룬다. ex) 차종, 인종, 증상"
   ]
  },
  {
   "cell_type": "markdown",
   "metadata": {},
   "source": [
    "# 로지스틱 회귀"
   ]
  },
  {
   "cell_type": "code",
   "execution_count": null,
   "metadata": {},
   "outputs": [],
   "source": []
  }
 ],
 "metadata": {
  "kernelspec": {
   "display_name": "Python 3",
   "language": "python",
   "name": "python3"
  },
  "language_info": {
   "codemirror_mode": {
    "name": "ipython",
    "version": 3
   },
   "file_extension": ".py",
   "mimetype": "text/x-python",
   "name": "python",
   "nbconvert_exporter": "python",
   "pygments_lexer": "ipython3",
   "version": "3.6.5"
  }
 },
 "nbformat": 4,
 "nbformat_minor": 2
}
